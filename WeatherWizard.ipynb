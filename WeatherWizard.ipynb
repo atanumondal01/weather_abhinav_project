{
 "cells": [
  {
   "cell_type": "markdown",
   "id": "WMAvGPE7-gnO",
   "metadata": {
    "id": "WMAvGPE7-gnO"
   },
   "source": [
    "#WeatherWizard: A weather prediction ML model"
   ]
  },
  {
   "cell_type": "markdown",
   "id": "Vrtx1-fSlSD9",
   "metadata": {
    "id": "Vrtx1-fSlSD9"
   },
   "source": [
    "Downloading the data from NOAA (National Ocenic and Atmospheric Administration)"
   ]
  },
  {
   "cell_type": "code",
   "execution_count": 1,
   "id": "70e571c4-1f59-4b6c-9a3e-a81b0e9a7d47",
   "metadata": {
    "id": "70e571c4-1f59-4b6c-9a3e-a81b0e9a7d47"
   },
   "outputs": [],
   "source": [
    "import pandas as pd\n",
    "\n",
    "weather = pd.read_csv(\"/Users/atanumondal/Desktop/WeatherWizard-main/data.csv\", index_col=\"DATE\")"
   ]
  },
  {
   "cell_type": "code",
   "execution_count": 2,
   "id": "9e1bcb16-b985-46a0-8347-2f93cbbb2674",
   "metadata": {
    "colab": {
     "base_uri": "https://localhost:8080/",
     "height": 991
    },
    "id": "9e1bcb16-b985-46a0-8347-2f93cbbb2674",
    "outputId": "849727a6-7235-4a1c-9df2-e0b78d396df3"
   },
   "outputs": [
    {
     "data": {
      "text/html": [
       "<div>\n",
       "<style scoped>\n",
       "    .dataframe tbody tr th:only-of-type {\n",
       "        vertical-align: middle;\n",
       "    }\n",
       "\n",
       "    .dataframe tbody tr th {\n",
       "        vertical-align: top;\n",
       "    }\n",
       "\n",
       "    .dataframe thead th {\n",
       "        text-align: right;\n",
       "    }\n",
       "</style>\n",
       "<table border=\"1\" class=\"dataframe\">\n",
       "  <thead>\n",
       "    <tr style=\"text-align: right;\">\n",
       "      <th></th>\n",
       "      <th>STATION</th>\n",
       "      <th>NAME</th>\n",
       "      <th>PRCP</th>\n",
       "      <th>SNWD</th>\n",
       "      <th>TAVG</th>\n",
       "      <th>TMAX</th>\n",
       "      <th>TMIN</th>\n",
       "    </tr>\n",
       "    <tr>\n",
       "      <th>DATE</th>\n",
       "      <th></th>\n",
       "      <th></th>\n",
       "      <th></th>\n",
       "      <th></th>\n",
       "      <th></th>\n",
       "      <th></th>\n",
       "      <th></th>\n",
       "    </tr>\n",
       "  </thead>\n",
       "  <tbody>\n",
       "    <tr>\n",
       "      <th>1975-03-20</th>\n",
       "      <td>IN018103100</td>\n",
       "      <td>PATIALA, IN</td>\n",
       "      <td>NaN</td>\n",
       "      <td>NaN</td>\n",
       "      <td>66.0</td>\n",
       "      <td>86.0</td>\n",
       "      <td>57.0</td>\n",
       "    </tr>\n",
       "    <tr>\n",
       "      <th>1975-03-24</th>\n",
       "      <td>IN018103100</td>\n",
       "      <td>PATIALA, IN</td>\n",
       "      <td>NaN</td>\n",
       "      <td>NaN</td>\n",
       "      <td>75.0</td>\n",
       "      <td>NaN</td>\n",
       "      <td>55.0</td>\n",
       "    </tr>\n",
       "    <tr>\n",
       "      <th>1975-04-06</th>\n",
       "      <td>IN018103100</td>\n",
       "      <td>PATIALA, IN</td>\n",
       "      <td>NaN</td>\n",
       "      <td>NaN</td>\n",
       "      <td>80.0</td>\n",
       "      <td>NaN</td>\n",
       "      <td>72.0</td>\n",
       "    </tr>\n",
       "    <tr>\n",
       "      <th>1975-04-08</th>\n",
       "      <td>IN018103100</td>\n",
       "      <td>PATIALA, IN</td>\n",
       "      <td>NaN</td>\n",
       "      <td>NaN</td>\n",
       "      <td>76.0</td>\n",
       "      <td>86.0</td>\n",
       "      <td>NaN</td>\n",
       "    </tr>\n",
       "    <tr>\n",
       "      <th>1975-04-09</th>\n",
       "      <td>IN018103100</td>\n",
       "      <td>PATIALA, IN</td>\n",
       "      <td>NaN</td>\n",
       "      <td>NaN</td>\n",
       "      <td>77.0</td>\n",
       "      <td>86.0</td>\n",
       "      <td>59.0</td>\n",
       "    </tr>\n",
       "  </tbody>\n",
       "</table>\n",
       "</div>"
      ],
      "text/plain": [
       "                STATION         NAME  PRCP  SNWD  TAVG  TMAX  TMIN\n",
       "DATE                                                              \n",
       "1975-03-20  IN018103100  PATIALA, IN   NaN   NaN  66.0  86.0  57.0\n",
       "1975-03-24  IN018103100  PATIALA, IN   NaN   NaN  75.0   NaN  55.0\n",
       "1975-04-06  IN018103100  PATIALA, IN   NaN   NaN  80.0   NaN  72.0\n",
       "1975-04-08  IN018103100  PATIALA, IN   NaN   NaN  76.0  86.0   NaN\n",
       "1975-04-09  IN018103100  PATIALA, IN   NaN   NaN  77.0  86.0  59.0"
      ]
     },
     "execution_count": 2,
     "metadata": {},
     "output_type": "execute_result"
    }
   ],
   "source": [
    "weather.head()"
   ]
  },
  {
   "cell_type": "markdown",
   "id": "mOv4QDvVI_u1",
   "metadata": {
    "id": "mOv4QDvVI_u1"
   },
   "source": [
    "Checking the ratio of null values in each column\n"
   ]
  },
  {
   "cell_type": "code",
   "execution_count": 3,
   "id": "82b52234",
   "metadata": {},
   "outputs": [
    {
     "data": {
      "text/plain": [
       "16443"
      ]
     },
     "execution_count": 3,
     "metadata": {},
     "output_type": "execute_result"
    }
   ],
   "source": [
    "weather.shape[0]"
   ]
  },
  {
   "cell_type": "code",
   "execution_count": 4,
   "id": "aed0bb77",
   "metadata": {},
   "outputs": [
    {
     "data": {
      "text/plain": [
       "STATION        0\n",
       "NAME           0\n",
       "PRCP        7471\n",
       "SNWD       16440\n",
       "TAVG         234\n",
       "TMAX        2214\n",
       "TMIN        4832\n",
       "dtype: int64"
      ]
     },
     "execution_count": 4,
     "metadata": {},
     "output_type": "execute_result"
    }
   ],
   "source": [
    "weather.apply(pd.isnull).sum()"
   ]
  },
  {
   "cell_type": "code",
   "execution_count": 5,
   "id": "265befae-8b24-422c-82d9-ccfa8f708b88",
   "metadata": {
    "colab": {
     "base_uri": "https://localhost:8080/"
    },
    "id": "265befae-8b24-422c-82d9-ccfa8f708b88",
    "outputId": "cc75b3a5-63bf-46ef-f20b-e40927ecf6a3"
   },
   "outputs": [
    {
     "data": {
      "text/plain": [
       "STATION    0.000000\n",
       "NAME       0.000000\n",
       "PRCP       0.454357\n",
       "SNWD       0.999818\n",
       "TAVG       0.014231\n",
       "TMAX       0.134647\n",
       "TMIN       0.293864\n",
       "dtype: float64"
      ]
     },
     "execution_count": 5,
     "metadata": {},
     "output_type": "execute_result"
    }
   ],
   "source": [
    "weather.apply(pd.isnull).sum()/weather.shape[0]"
   ]
  },
  {
   "cell_type": "markdown",
   "id": "oNZafT91KHcJ",
   "metadata": {
    "id": "oNZafT91KHcJ"
   },
   "source": [
    "Picking out core parameters as per documentation and renaming them"
   ]
  },
  {
   "cell_type": "code",
   "execution_count": 6,
   "id": "e5be1bcd-0b68-47d7-8c56-b8299fe54e66",
   "metadata": {
    "id": "e5be1bcd-0b68-47d7-8c56-b8299fe54e66"
   },
   "outputs": [],
   "source": [
    "core_weather = weather[[\"PRCP\", \"SNWD\", \"TMAX\", \"TMIN\"]].copy()\n",
    "core_weather.columns = [\"precip\", \"snow_depth\", \"temp_max\", \"temp_min\"]"
   ]
  },
  {
   "cell_type": "code",
   "execution_count": 7,
   "id": "2d32ee77-7cf2-491a-889c-a5da1d3afa9a",
   "metadata": {
    "colab": {
     "base_uri": "https://localhost:8080/"
    },
    "id": "2d32ee77-7cf2-491a-889c-a5da1d3afa9a",
    "outputId": "7d9bd432-0963-4305-ca9b-a24c4bf45e69"
   },
   "outputs": [
    {
     "data": {
      "text/plain": [
       "precip        0.454357\n",
       "snow_depth    0.999818\n",
       "temp_max      0.134647\n",
       "temp_min      0.293864\n",
       "dtype: float64"
      ]
     },
     "execution_count": 7,
     "metadata": {},
     "output_type": "execute_result"
    }
   ],
   "source": [
    "core_weather.apply(pd.isnull).sum()/core_weather.shape[0]"
   ]
  },
  {
   "cell_type": "code",
   "execution_count": 8,
   "id": "1816ed63-e162-4567-a19d-a42fb8b13448",
   "metadata": {
    "colab": {
     "base_uri": "https://localhost:8080/"
    },
    "id": "1816ed63-e162-4567-a19d-a42fb8b13448",
    "outputId": "a8c9c86b-c4a2-4690-d445-463b3b947b55"
   },
   "outputs": [
    {
     "data": {
      "text/plain": [
       "3.1    2\n",
       "7.1    1\n",
       "Name: snow_depth, dtype: int64"
      ]
     },
     "execution_count": 8,
     "metadata": {},
     "output_type": "execute_result"
    }
   ],
   "source": [
    "core_weather[\"snow_depth\"].value_counts()"
   ]
  },
  {
   "cell_type": "code",
   "execution_count": 9,
   "id": "f72f4943",
   "metadata": {},
   "outputs": [
    {
     "data": {
      "text/html": [
       "<div>\n",
       "<style scoped>\n",
       "    .dataframe tbody tr th:only-of-type {\n",
       "        vertical-align: middle;\n",
       "    }\n",
       "\n",
       "    .dataframe tbody tr th {\n",
       "        vertical-align: top;\n",
       "    }\n",
       "\n",
       "    .dataframe thead th {\n",
       "        text-align: right;\n",
       "    }\n",
       "</style>\n",
       "<table border=\"1\" class=\"dataframe\">\n",
       "  <thead>\n",
       "    <tr style=\"text-align: right;\">\n",
       "      <th></th>\n",
       "      <th>precip</th>\n",
       "      <th>snow_depth</th>\n",
       "      <th>temp_max</th>\n",
       "      <th>temp_min</th>\n",
       "    </tr>\n",
       "    <tr>\n",
       "      <th>DATE</th>\n",
       "      <th></th>\n",
       "      <th></th>\n",
       "      <th></th>\n",
       "      <th></th>\n",
       "    </tr>\n",
       "  </thead>\n",
       "  <tbody>\n",
       "    <tr>\n",
       "      <th>1975-03-20</th>\n",
       "      <td>NaN</td>\n",
       "      <td>NaN</td>\n",
       "      <td>86.0</td>\n",
       "      <td>57.0</td>\n",
       "    </tr>\n",
       "    <tr>\n",
       "      <th>1975-03-24</th>\n",
       "      <td>NaN</td>\n",
       "      <td>NaN</td>\n",
       "      <td>NaN</td>\n",
       "      <td>55.0</td>\n",
       "    </tr>\n",
       "    <tr>\n",
       "      <th>1975-04-06</th>\n",
       "      <td>NaN</td>\n",
       "      <td>NaN</td>\n",
       "      <td>NaN</td>\n",
       "      <td>72.0</td>\n",
       "    </tr>\n",
       "    <tr>\n",
       "      <th>1975-04-08</th>\n",
       "      <td>NaN</td>\n",
       "      <td>NaN</td>\n",
       "      <td>86.0</td>\n",
       "      <td>NaN</td>\n",
       "    </tr>\n",
       "    <tr>\n",
       "      <th>1975-04-09</th>\n",
       "      <td>NaN</td>\n",
       "      <td>NaN</td>\n",
       "      <td>86.0</td>\n",
       "      <td>59.0</td>\n",
       "    </tr>\n",
       "    <tr>\n",
       "      <th>...</th>\n",
       "      <td>...</td>\n",
       "      <td>...</td>\n",
       "      <td>...</td>\n",
       "      <td>...</td>\n",
       "    </tr>\n",
       "    <tr>\n",
       "      <th>2023-08-12</th>\n",
       "      <td>NaN</td>\n",
       "      <td>NaN</td>\n",
       "      <td>97.0</td>\n",
       "      <td>83.0</td>\n",
       "    </tr>\n",
       "    <tr>\n",
       "      <th>2023-08-13</th>\n",
       "      <td>NaN</td>\n",
       "      <td>NaN</td>\n",
       "      <td>96.0</td>\n",
       "      <td>82.0</td>\n",
       "    </tr>\n",
       "    <tr>\n",
       "      <th>2023-08-14</th>\n",
       "      <td>NaN</td>\n",
       "      <td>NaN</td>\n",
       "      <td>95.0</td>\n",
       "      <td>81.0</td>\n",
       "    </tr>\n",
       "    <tr>\n",
       "      <th>2023-08-15</th>\n",
       "      <td>NaN</td>\n",
       "      <td>NaN</td>\n",
       "      <td>97.0</td>\n",
       "      <td>81.0</td>\n",
       "    </tr>\n",
       "    <tr>\n",
       "      <th>2023-08-16</th>\n",
       "      <td>0.0</td>\n",
       "      <td>NaN</td>\n",
       "      <td>98.0</td>\n",
       "      <td>82.0</td>\n",
       "    </tr>\n",
       "  </tbody>\n",
       "</table>\n",
       "<p>16443 rows × 4 columns</p>\n",
       "</div>"
      ],
      "text/plain": [
       "            precip  snow_depth  temp_max  temp_min\n",
       "DATE                                              \n",
       "1975-03-20     NaN         NaN      86.0      57.0\n",
       "1975-03-24     NaN         NaN       NaN      55.0\n",
       "1975-04-06     NaN         NaN       NaN      72.0\n",
       "1975-04-08     NaN         NaN      86.0       NaN\n",
       "1975-04-09     NaN         NaN      86.0      59.0\n",
       "...            ...         ...       ...       ...\n",
       "2023-08-12     NaN         NaN      97.0      83.0\n",
       "2023-08-13     NaN         NaN      96.0      82.0\n",
       "2023-08-14     NaN         NaN      95.0      81.0\n",
       "2023-08-15     NaN         NaN      97.0      81.0\n",
       "2023-08-16     0.0         NaN      98.0      82.0\n",
       "\n",
       "[16443 rows x 4 columns]"
      ]
     },
     "execution_count": 9,
     "metadata": {},
     "output_type": "execute_result"
    }
   ],
   "source": [
    "core_weather"
   ]
  },
  {
   "cell_type": "code",
   "execution_count": 10,
   "id": "81b0144b-fbad-4da2-b27d-8aa591bb0189",
   "metadata": {
    "id": "81b0144b-fbad-4da2-b27d-8aa591bb0189"
   },
   "outputs": [],
   "source": [
    "del core_weather[\"snow_depth\"]"
   ]
  },
  {
   "cell_type": "code",
   "execution_count": 11,
   "id": "63001050-a478-40f5-a03e-f11c3b8271d3",
   "metadata": {
    "colab": {
     "base_uri": "https://localhost:8080/",
     "height": 455
    },
    "id": "63001050-a478-40f5-a03e-f11c3b8271d3",
    "outputId": "1aef7c04-7f94-4bf4-b240-8a3b5c178a44"
   },
   "outputs": [
    {
     "data": {
      "text/html": [
       "<div>\n",
       "<style scoped>\n",
       "    .dataframe tbody tr th:only-of-type {\n",
       "        vertical-align: middle;\n",
       "    }\n",
       "\n",
       "    .dataframe tbody tr th {\n",
       "        vertical-align: top;\n",
       "    }\n",
       "\n",
       "    .dataframe thead th {\n",
       "        text-align: right;\n",
       "    }\n",
       "</style>\n",
       "<table border=\"1\" class=\"dataframe\">\n",
       "  <thead>\n",
       "    <tr style=\"text-align: right;\">\n",
       "      <th></th>\n",
       "      <th>precip</th>\n",
       "      <th>temp_max</th>\n",
       "      <th>temp_min</th>\n",
       "    </tr>\n",
       "    <tr>\n",
       "      <th>DATE</th>\n",
       "      <th></th>\n",
       "      <th></th>\n",
       "      <th></th>\n",
       "    </tr>\n",
       "  </thead>\n",
       "  <tbody>\n",
       "    <tr>\n",
       "      <th>1975-03-20</th>\n",
       "      <td>NaN</td>\n",
       "      <td>86.0</td>\n",
       "      <td>57.0</td>\n",
       "    </tr>\n",
       "    <tr>\n",
       "      <th>1975-03-24</th>\n",
       "      <td>NaN</td>\n",
       "      <td>NaN</td>\n",
       "      <td>55.0</td>\n",
       "    </tr>\n",
       "    <tr>\n",
       "      <th>1975-04-06</th>\n",
       "      <td>NaN</td>\n",
       "      <td>NaN</td>\n",
       "      <td>72.0</td>\n",
       "    </tr>\n",
       "    <tr>\n",
       "      <th>1975-04-08</th>\n",
       "      <td>NaN</td>\n",
       "      <td>86.0</td>\n",
       "      <td>NaN</td>\n",
       "    </tr>\n",
       "    <tr>\n",
       "      <th>1975-04-09</th>\n",
       "      <td>NaN</td>\n",
       "      <td>86.0</td>\n",
       "      <td>59.0</td>\n",
       "    </tr>\n",
       "    <tr>\n",
       "      <th>...</th>\n",
       "      <td>...</td>\n",
       "      <td>...</td>\n",
       "      <td>...</td>\n",
       "    </tr>\n",
       "    <tr>\n",
       "      <th>2023-08-11</th>\n",
       "      <td>NaN</td>\n",
       "      <td>97.0</td>\n",
       "      <td>80.0</td>\n",
       "    </tr>\n",
       "    <tr>\n",
       "      <th>2023-08-12</th>\n",
       "      <td>NaN</td>\n",
       "      <td>97.0</td>\n",
       "      <td>83.0</td>\n",
       "    </tr>\n",
       "    <tr>\n",
       "      <th>2023-08-13</th>\n",
       "      <td>NaN</td>\n",
       "      <td>96.0</td>\n",
       "      <td>82.0</td>\n",
       "    </tr>\n",
       "    <tr>\n",
       "      <th>2023-08-14</th>\n",
       "      <td>NaN</td>\n",
       "      <td>95.0</td>\n",
       "      <td>81.0</td>\n",
       "    </tr>\n",
       "    <tr>\n",
       "      <th>2023-08-15</th>\n",
       "      <td>NaN</td>\n",
       "      <td>97.0</td>\n",
       "      <td>81.0</td>\n",
       "    </tr>\n",
       "  </tbody>\n",
       "</table>\n",
       "<p>7471 rows × 3 columns</p>\n",
       "</div>"
      ],
      "text/plain": [
       "            precip  temp_max  temp_min\n",
       "DATE                                  \n",
       "1975-03-20     NaN      86.0      57.0\n",
       "1975-03-24     NaN       NaN      55.0\n",
       "1975-04-06     NaN       NaN      72.0\n",
       "1975-04-08     NaN      86.0       NaN\n",
       "1975-04-09     NaN      86.0      59.0\n",
       "...            ...       ...       ...\n",
       "2023-08-11     NaN      97.0      80.0\n",
       "2023-08-12     NaN      97.0      83.0\n",
       "2023-08-13     NaN      96.0      82.0\n",
       "2023-08-14     NaN      95.0      81.0\n",
       "2023-08-15     NaN      97.0      81.0\n",
       "\n",
       "[7471 rows x 3 columns]"
      ]
     },
     "execution_count": 11,
     "metadata": {},
     "output_type": "execute_result"
    }
   ],
   "source": [
    "core_weather[pd.isnull(core_weather[\"precip\"])]"
   ]
  },
  {
   "cell_type": "code",
   "execution_count": 12,
   "id": "0fd5eab5-02b6-48f7-80df-651aaf50a3ac",
   "metadata": {
    "colab": {
     "base_uri": "https://localhost:8080/"
    },
    "id": "0fd5eab5-02b6-48f7-80df-651aaf50a3ac",
    "outputId": "004d79d2-3008-4540-8db1-0904ccfa4f31"
   },
   "outputs": [
    {
     "data": {
      "text/plain": [
       "0.00     0.409658\n",
       "0.02     0.010217\n",
       "0.04     0.009427\n",
       "0.08     0.008818\n",
       "0.12     0.008210\n",
       "           ...   \n",
       "7.76     0.000061\n",
       "0.73     0.000061\n",
       "1.60     0.000061\n",
       "10.42    0.000061\n",
       "5.31     0.000061\n",
       "Name: precip, Length: 305, dtype: float64"
      ]
     },
     "execution_count": 12,
     "metadata": {},
     "output_type": "execute_result"
    }
   ],
   "source": [
    "core_weather[\"precip\"].value_counts() / core_weather.shape[0]"
   ]
  },
  {
   "cell_type": "markdown",
   "id": "R4pZtE40euJF",
   "metadata": {
    "id": "R4pZtE40euJF"
   },
   "source": [
    "Filling the missing values as 0"
   ]
  },
  {
   "cell_type": "code",
   "execution_count": 13,
   "id": "1fd26762-c3f9-4d31-9db9-a67ca259db39",
   "metadata": {
    "id": "1fd26762-c3f9-4d31-9db9-a67ca259db39"
   },
   "outputs": [],
   "source": [
    "core_weather[\"precip\"] = core_weather[\"precip\"].fillna(0)"
   ]
  },
  {
   "cell_type": "code",
   "execution_count": 14,
   "id": "ab0903ff-094d-408e-be49-8407251d44d2",
   "metadata": {
    "colab": {
     "base_uri": "https://localhost:8080/"
    },
    "id": "ab0903ff-094d-408e-be49-8407251d44d2",
    "outputId": "b8111656-14b1-4b9c-c9cc-53115603834d"
   },
   "outputs": [
    {
     "data": {
      "text/plain": [
       "precip         0\n",
       "temp_max    2214\n",
       "temp_min    4832\n",
       "dtype: int64"
      ]
     },
     "execution_count": 14,
     "metadata": {},
     "output_type": "execute_result"
    }
   ],
   "source": [
    "core_weather.apply(pd.isnull).sum()"
   ]
  },
  {
   "cell_type": "code",
   "execution_count": 15,
   "id": "ee291f2c-160a-4b9e-97d7-a7b2046be34f",
   "metadata": {
    "colab": {
     "base_uri": "https://localhost:8080/",
     "height": 455
    },
    "id": "ee291f2c-160a-4b9e-97d7-a7b2046be34f",
    "outputId": "e12f092d-adb9-4c48-df99-0547d144f002"
   },
   "outputs": [
    {
     "data": {
      "text/html": [
       "<div>\n",
       "<style scoped>\n",
       "    .dataframe tbody tr th:only-of-type {\n",
       "        vertical-align: middle;\n",
       "    }\n",
       "\n",
       "    .dataframe tbody tr th {\n",
       "        vertical-align: top;\n",
       "    }\n",
       "\n",
       "    .dataframe thead th {\n",
       "        text-align: right;\n",
       "    }\n",
       "</style>\n",
       "<table border=\"1\" class=\"dataframe\">\n",
       "  <thead>\n",
       "    <tr style=\"text-align: right;\">\n",
       "      <th></th>\n",
       "      <th>precip</th>\n",
       "      <th>temp_max</th>\n",
       "      <th>temp_min</th>\n",
       "    </tr>\n",
       "    <tr>\n",
       "      <th>DATE</th>\n",
       "      <th></th>\n",
       "      <th></th>\n",
       "      <th></th>\n",
       "    </tr>\n",
       "  </thead>\n",
       "  <tbody>\n",
       "    <tr>\n",
       "      <th>1975-04-08</th>\n",
       "      <td>0.00</td>\n",
       "      <td>86.0</td>\n",
       "      <td>NaN</td>\n",
       "    </tr>\n",
       "    <tr>\n",
       "      <th>1975-04-12</th>\n",
       "      <td>0.00</td>\n",
       "      <td>95.0</td>\n",
       "      <td>NaN</td>\n",
       "    </tr>\n",
       "    <tr>\n",
       "      <th>1975-04-14</th>\n",
       "      <td>0.00</td>\n",
       "      <td>95.0</td>\n",
       "      <td>NaN</td>\n",
       "    </tr>\n",
       "    <tr>\n",
       "      <th>1975-04-20</th>\n",
       "      <td>0.00</td>\n",
       "      <td>NaN</td>\n",
       "      <td>NaN</td>\n",
       "    </tr>\n",
       "    <tr>\n",
       "      <th>1975-04-22</th>\n",
       "      <td>0.00</td>\n",
       "      <td>NaN</td>\n",
       "      <td>NaN</td>\n",
       "    </tr>\n",
       "    <tr>\n",
       "      <th>...</th>\n",
       "      <td>...</td>\n",
       "      <td>...</td>\n",
       "      <td>...</td>\n",
       "    </tr>\n",
       "    <tr>\n",
       "      <th>2023-07-27</th>\n",
       "      <td>0.00</td>\n",
       "      <td>95.0</td>\n",
       "      <td>NaN</td>\n",
       "    </tr>\n",
       "    <tr>\n",
       "      <th>2023-07-30</th>\n",
       "      <td>0.00</td>\n",
       "      <td>94.0</td>\n",
       "      <td>NaN</td>\n",
       "    </tr>\n",
       "    <tr>\n",
       "      <th>2023-08-02</th>\n",
       "      <td>0.00</td>\n",
       "      <td>98.0</td>\n",
       "      <td>NaN</td>\n",
       "    </tr>\n",
       "    <tr>\n",
       "      <th>2023-08-06</th>\n",
       "      <td>0.12</td>\n",
       "      <td>97.0</td>\n",
       "      <td>NaN</td>\n",
       "    </tr>\n",
       "    <tr>\n",
       "      <th>2023-08-09</th>\n",
       "      <td>0.00</td>\n",
       "      <td>96.0</td>\n",
       "      <td>NaN</td>\n",
       "    </tr>\n",
       "  </tbody>\n",
       "</table>\n",
       "<p>4832 rows × 3 columns</p>\n",
       "</div>"
      ],
      "text/plain": [
       "            precip  temp_max  temp_min\n",
       "DATE                                  \n",
       "1975-04-08    0.00      86.0       NaN\n",
       "1975-04-12    0.00      95.0       NaN\n",
       "1975-04-14    0.00      95.0       NaN\n",
       "1975-04-20    0.00       NaN       NaN\n",
       "1975-04-22    0.00       NaN       NaN\n",
       "...            ...       ...       ...\n",
       "2023-07-27    0.00      95.0       NaN\n",
       "2023-07-30    0.00      94.0       NaN\n",
       "2023-08-02    0.00      98.0       NaN\n",
       "2023-08-06    0.12      97.0       NaN\n",
       "2023-08-09    0.00      96.0       NaN\n",
       "\n",
       "[4832 rows x 3 columns]"
      ]
     },
     "execution_count": 15,
     "metadata": {},
     "output_type": "execute_result"
    }
   ],
   "source": [
    "core_weather[pd.isnull(core_weather[\"temp_min\"])]"
   ]
  },
  {
   "cell_type": "code",
   "execution_count": 16,
   "id": "b3af3c18-c6e0-4ab5-8c83-491d7ec70b91",
   "metadata": {
    "id": "b3af3c18-c6e0-4ab5-8c83-491d7ec70b91"
   },
   "outputs": [],
   "source": [
    "core_weather = core_weather.fillna(method=\"ffill\")"
   ]
  },
  {
   "cell_type": "code",
   "execution_count": 17,
   "id": "5063e87b-a08c-44c5-b747-9118dc775576",
   "metadata": {
    "colab": {
     "base_uri": "https://localhost:8080/"
    },
    "id": "5063e87b-a08c-44c5-b747-9118dc775576",
    "outputId": "46e401bb-ae83-43e4-9172-1deeb61b0cb7"
   },
   "outputs": [
    {
     "data": {
      "text/plain": [
       "precip      0\n",
       "temp_max    0\n",
       "temp_min    0\n",
       "dtype: int64"
      ]
     },
     "execution_count": 17,
     "metadata": {},
     "output_type": "execute_result"
    }
   ],
   "source": [
    "core_weather.apply(pd.isnull).sum()"
   ]
  },
  {
   "cell_type": "code",
   "execution_count": 18,
   "id": "c1c6f47e-251b-47ab-bde6-7fc376ec72c5",
   "metadata": {
    "colab": {
     "base_uri": "https://localhost:8080/"
    },
    "id": "c1c6f47e-251b-47ab-bde6-7fc376ec72c5",
    "outputId": "137dc629-2a62-4299-f875-acf04aac56e2"
   },
   "outputs": [
    {
     "data": {
      "text/plain": [
       "precip      float64\n",
       "temp_max    float64\n",
       "temp_min    float64\n",
       "dtype: object"
      ]
     },
     "execution_count": 18,
     "metadata": {},
     "output_type": "execute_result"
    }
   ],
   "source": [
    "core_weather.dtypes"
   ]
  },
  {
   "cell_type": "code",
   "execution_count": 19,
   "id": "8baa093d-3b68-4a95-a243-fa5393f0ba3b",
   "metadata": {
    "colab": {
     "base_uri": "https://localhost:8080/"
    },
    "id": "8baa093d-3b68-4a95-a243-fa5393f0ba3b",
    "outputId": "06d1b1b7-cc69-4879-805c-0716971ef9df"
   },
   "outputs": [
    {
     "data": {
      "text/plain": [
       "Index(['1975-03-20', '1975-03-24', '1975-04-06', '1975-04-08', '1975-04-09',\n",
       "       '1975-04-12', '1975-04-13', '1975-04-14', '1975-04-15', '1975-04-17',\n",
       "       ...\n",
       "       '2023-08-07', '2023-08-08', '2023-08-09', '2023-08-10', '2023-08-11',\n",
       "       '2023-08-12', '2023-08-13', '2023-08-14', '2023-08-15', '2023-08-16'],\n",
       "      dtype='object', name='DATE', length=16443)"
      ]
     },
     "execution_count": 19,
     "metadata": {},
     "output_type": "execute_result"
    }
   ],
   "source": [
    "core_weather.index"
   ]
  },
  {
   "cell_type": "markdown",
   "id": "rGOegdwcgVBk",
   "metadata": {
    "id": "rGOegdwcgVBk"
   },
   "source": [
    "Converting date from object datatype to datetime"
   ]
  },
  {
   "cell_type": "code",
   "execution_count": 20,
   "id": "785190be-3098-4f70-85f2-28e110b6c331",
   "metadata": {
    "id": "785190be-3098-4f70-85f2-28e110b6c331"
   },
   "outputs": [],
   "source": [
    "core_weather.index = pd.to_datetime(core_weather.index)"
   ]
  },
  {
   "cell_type": "code",
   "execution_count": 21,
   "id": "6b942d11-f7bf-4dda-b513-9d38f3664e72",
   "metadata": {
    "colab": {
     "base_uri": "https://localhost:8080/"
    },
    "id": "6b942d11-f7bf-4dda-b513-9d38f3664e72",
    "outputId": "0e3eb54d-6cff-4532-d544-9036bd4bca55"
   },
   "outputs": [
    {
     "data": {
      "text/plain": [
       "DatetimeIndex(['1975-03-20', '1975-03-24', '1975-04-06', '1975-04-08',\n",
       "               '1975-04-09', '1975-04-12', '1975-04-13', '1975-04-14',\n",
       "               '1975-04-15', '1975-04-17',\n",
       "               ...\n",
       "               '2023-08-07', '2023-08-08', '2023-08-09', '2023-08-10',\n",
       "               '2023-08-11', '2023-08-12', '2023-08-13', '2023-08-14',\n",
       "               '2023-08-15', '2023-08-16'],\n",
       "              dtype='datetime64[ns]', name='DATE', length=16443, freq=None)"
      ]
     },
     "execution_count": 21,
     "metadata": {},
     "output_type": "execute_result"
    }
   ],
   "source": [
    "core_weather.index"
   ]
  },
  {
   "cell_type": "code",
   "execution_count": 22,
   "id": "dbbd26b2-0407-4bf7-9ab2-5d1b8c7afd08",
   "metadata": {
    "colab": {
     "base_uri": "https://localhost:8080/"
    },
    "id": "dbbd26b2-0407-4bf7-9ab2-5d1b8c7afd08",
    "outputId": "608fdbf6-1655-45ca-9126-855357885191"
   },
   "outputs": [
    {
     "data": {
      "text/plain": [
       "Int64Index([1975, 1975, 1975, 1975, 1975, 1975, 1975, 1975, 1975, 1975,\n",
       "            ...\n",
       "            2023, 2023, 2023, 2023, 2023, 2023, 2023, 2023, 2023, 2023],\n",
       "           dtype='int64', name='DATE', length=16443)"
      ]
     },
     "execution_count": 22,
     "metadata": {},
     "output_type": "execute_result"
    }
   ],
   "source": [
    "core_weather.index.year"
   ]
  },
  {
   "cell_type": "markdown",
   "id": "eRNH-kNEhL0M",
   "metadata": {
    "id": "eRNH-kNEhL0M"
   },
   "source": [
    "Checking for any data that has not been received"
   ]
  },
  {
   "cell_type": "code",
   "execution_count": 23,
   "id": "0XANDbcmhDnS",
   "metadata": {
    "colab": {
     "base_uri": "https://localhost:8080/"
    },
    "id": "0XANDbcmhDnS",
    "outputId": "4f9b9b48-aed3-47e8-c19f-d8b72c89b07d"
   },
   "outputs": [
    {
     "data": {
      "text/plain": [
       "precip      0\n",
       "temp_max    0\n",
       "temp_min    0\n",
       "dtype: int64"
      ]
     },
     "execution_count": 23,
     "metadata": {},
     "output_type": "execute_result"
    }
   ],
   "source": [
    "core_weather.apply(lambda x:(x==9999)).sum()"
   ]
  },
  {
   "cell_type": "markdown",
   "id": "cdhncjCFhqjz",
   "metadata": {
    "id": "cdhncjCFhqjz"
   },
   "source": [
    "Analysing the data"
   ]
  },
  {
   "cell_type": "code",
   "execution_count": 24,
   "id": "0cd433ec-9844-4281-901d-dd48f2b66a0f",
   "metadata": {
    "colab": {
     "base_uri": "https://localhost:8080/",
     "height": 441
    },
    "id": "0cd433ec-9844-4281-901d-dd48f2b66a0f",
    "outputId": "166da407-0968-48f2-8bd6-0711b62ca7f4"
   },
   "outputs": [
    {
     "data": {
      "text/plain": [
       "<AxesSubplot:xlabel='DATE'>"
      ]
     },
     "execution_count": 24,
     "metadata": {},
     "output_type": "execute_result"
    },
    {
     "data": {
      "image/png": "[encoded data removed]",
      "text/plain": [
       "<Figure size 640x480 with 1 Axes>"
      ]
     },
     "metadata": {},
     "output_type": "display_data"
    }
   ],
   "source": [
    "core_weather[[\"temp_max\", \"temp_min\"]].plot()"
   ]
  },
  {
   "cell_type": "code",
   "execution_count": 25,
   "id": "d1980061-0369-41ff-96bb-6b8f2743e079",
   "metadata": {
    "colab": {
     "base_uri": "https://localhost:8080/"
    },
    "id": "d1980061-0369-41ff-96bb-6b8f2743e079",
    "outputId": "fd41caa4-ddfd-41ad-b538-69b893903373"
   },
   "outputs": [
    {
     "data": {
      "text/plain": [
       "1975    102\n",
       "1976     15\n",
       "1977    365\n",
       "1978    365\n",
       "1979    317\n",
       "1980    366\n",
       "1981    365\n",
       "1982    365\n",
       "1983    365\n",
       "1984    366\n",
       "1985    326\n",
       "1986    317\n",
       "1987    354\n",
       "1988    325\n",
       "1989    319\n",
       "1990    269\n",
       "1991    343\n",
       "1992    352\n",
       "1993    291\n",
       "1994    318\n",
       "1995    312\n",
       "1996    342\n",
       "1997    329\n",
       "1998    348\n",
       "1999    351\n",
       "2000    362\n",
       "2001    363\n",
       "2002    360\n",
       "2003    363\n",
       "2004    361\n",
       "2005    360\n",
       "2006    362\n",
       "2007    356\n",
       "2008    364\n",
       "2009    361\n",
       "2010    357\n",
       "2011    358\n",
       "2012    366\n",
       "2013    365\n",
       "2014    365\n",
       "2015    365\n",
       "2016    363\n",
       "2017    362\n",
       "2018    364\n",
       "2019    364\n",
       "2020    366\n",
       "2021    361\n",
       "2022    360\n",
       "2023    228\n",
       "Name: DATE, dtype: int64"
      ]
     },
     "execution_count": 25,
     "metadata": {},
     "output_type": "execute_result"
    }
   ],
   "source": [
    "core_weather.index.year.value_counts().sort_index()"
   ]
  },
  {
   "cell_type": "code",
   "execution_count": 26,
   "id": "0ff3f731-9568-43a1-9651-2a20c1e9c792",
   "metadata": {
    "colab": {
     "base_uri": "https://localhost:8080/",
     "height": 440
    },
    "id": "0ff3f731-9568-43a1-9651-2a20c1e9c792",
    "outputId": "df293bc0-0273-4cef-f65e-a2ab7e36f28d"
   },
   "outputs": [
    {
     "data": {
      "text/plain": [
       "<AxesSubplot:xlabel='DATE'>"
      ]
     },
     "execution_count": 26,
     "metadata": {},
     "output_type": "execute_result"
    },
    {
     "data": {
      "image/png": "[encoded data removed]",
      "text/plain": [
       "<Figure size 640x480 with 1 Axes>"
      ]
     },
     "metadata": {},
     "output_type": "display_data"
    }
   ],
   "source": [
    "core_weather[\"precip\"].plot()"
   ]
  },
  {
   "cell_type": "markdown",
   "id": "u1rd5nKzjWGe",
   "metadata": {
    "id": "u1rd5nKzjWGe"
   },
   "source": [
    "Year-wise rain count"
   ]
  },
  {
   "cell_type": "code",
   "execution_count": 27,
   "id": "qbdofaDojCYB",
   "metadata": {
    "colab": {
     "base_uri": "https://localhost:8080/"
    },
    "id": "qbdofaDojCYB",
    "outputId": "81fba61e-f256-40f4-f01c-5e3c9b5d0b4c"
   },
   "outputs": [
    {
     "data": {
      "text/plain": [
       "DATE\n",
       "1975      0.00\n",
       "1976      0.00\n",
       "1977     96.64\n",
       "1978     79.53\n",
       "1979     13.06\n",
       "1980     96.22\n",
       "1981     65.76\n",
       "1982    101.89\n",
       "1983    114.35\n",
       "1984     72.83\n",
       "1985     20.81\n",
       "1986     19.56\n",
       "1987      7.74\n",
       "1988     27.33\n",
       "1989     17.85\n",
       "1990     19.00\n",
       "1991     26.26\n",
       "1992     23.96\n",
       "1993     13.31\n",
       "1994     27.69\n",
       "1995     37.41\n",
       "1996     26.10\n",
       "1997     20.78\n",
       "1998     29.14\n",
       "1999     17.73\n",
       "2000     24.73\n",
       "2001     14.10\n",
       "2002     15.84\n",
       "2003     24.30\n",
       "2004     23.06\n",
       "2005     19.32\n",
       "2006     11.88\n",
       "2007     13.52\n",
       "2008     45.40\n",
       "2009     18.48\n",
       "2010     34.12\n",
       "2011     28.07\n",
       "2012     13.22\n",
       "2013     25.55\n",
       "2014     20.01\n",
       "2015     29.18\n",
       "2016     13.91\n",
       "2017     29.99\n",
       "2018     31.03\n",
       "2019     30.88\n",
       "2020     29.43\n",
       "2021     25.37\n",
       "2022     17.44\n",
       "2023     24.88\n",
       "Name: precip, dtype: float64"
      ]
     },
     "execution_count": 27,
     "metadata": {},
     "output_type": "execute_result"
    }
   ],
   "source": [
    "core_weather.groupby(core_weather.index.year).sum()[\"precip\"]"
   ]
  },
  {
   "cell_type": "code",
   "execution_count": 28,
   "id": "27230d8e-e4a6-40ee-bb03-5f435a250b6f",
   "metadata": {
    "colab": {
     "base_uri": "https://localhost:8080/",
     "height": 473
    },
    "id": "27230d8e-e4a6-40ee-bb03-5f435a250b6f",
    "outputId": "7d930af8-274b-4541-d215-58a51cb6c040"
   },
   "outputs": [
    {
     "data": {
      "text/plain": [
       "<AxesSubplot:xlabel='DATE'>"
      ]
     },
     "execution_count": 28,
     "metadata": {},
     "output_type": "execute_result"
    },
    {
     "data": {
      "image/png": "[encoded data removed]",
      "text/plain": [
       "<Figure size 640x480 with 1 Axes>"
      ]
     },
     "metadata": {},
     "output_type": "display_data"
    }
   ],
   "source": [
    "core_weather.groupby(core_weather.index.year).apply(lambda x: x[\"precip\"].sum()).plot()"
   ]
  },
  {
   "cell_type": "markdown",
   "id": "hxYvmIIEkDZC",
   "metadata": {
    "id": "hxYvmIIEkDZC"
   },
   "source": [
    "Training Machine learning model"
   ]
  },
  {
   "cell_type": "code",
   "execution_count": 29,
   "id": "23caa231-0346-4f13-b914-25a3aca44603",
   "metadata": {
    "id": "23caa231-0346-4f13-b914-25a3aca44603"
   },
   "outputs": [],
   "source": [
    "core_weather[\"target\"] = core_weather.shift(-1)[\"temp_max\"]"
   ]
  },
  {
   "cell_type": "code",
   "execution_count": 30,
   "id": "4fdd842c-b0d5-4465-93bf-07491a931288",
   "metadata": {
    "colab": {
     "base_uri": "https://localhost:8080/",
     "height": 455
    },
    "id": "4fdd842c-b0d5-4465-93bf-07491a931288",
    "outputId": "a6a72ed3-9e67-499b-d13b-f7d6a844b349"
   },
   "outputs": [
    {
     "data": {
      "text/html": [
       "<div>\n",
       "<style scoped>\n",
       "    .dataframe tbody tr th:only-of-type {\n",
       "        vertical-align: middle;\n",
       "    }\n",
       "\n",
       "    .dataframe tbody tr th {\n",
       "        vertical-align: top;\n",
       "    }\n",
       "\n",
       "    .dataframe thead th {\n",
       "        text-align: right;\n",
       "    }\n",
       "</style>\n",
       "<table border=\"1\" class=\"dataframe\">\n",
       "  <thead>\n",
       "    <tr style=\"text-align: right;\">\n",
       "      <th></th>\n",
       "      <th>precip</th>\n",
       "      <th>temp_max</th>\n",
       "      <th>temp_min</th>\n",
       "      <th>target</th>\n",
       "    </tr>\n",
       "    <tr>\n",
       "      <th>DATE</th>\n",
       "      <th></th>\n",
       "      <th></th>\n",
       "      <th></th>\n",
       "      <th></th>\n",
       "    </tr>\n",
       "  </thead>\n",
       "  <tbody>\n",
       "    <tr>\n",
       "      <th>1975-03-20</th>\n",
       "      <td>0.0</td>\n",
       "      <td>86.0</td>\n",
       "      <td>57.0</td>\n",
       "      <td>86.0</td>\n",
       "    </tr>\n",
       "    <tr>\n",
       "      <th>1975-03-24</th>\n",
       "      <td>0.0</td>\n",
       "      <td>86.0</td>\n",
       "      <td>55.0</td>\n",
       "      <td>86.0</td>\n",
       "    </tr>\n",
       "    <tr>\n",
       "      <th>1975-04-06</th>\n",
       "      <td>0.0</td>\n",
       "      <td>86.0</td>\n",
       "      <td>72.0</td>\n",
       "      <td>86.0</td>\n",
       "    </tr>\n",
       "    <tr>\n",
       "      <th>1975-04-08</th>\n",
       "      <td>0.0</td>\n",
       "      <td>86.0</td>\n",
       "      <td>72.0</td>\n",
       "      <td>86.0</td>\n",
       "    </tr>\n",
       "    <tr>\n",
       "      <th>1975-04-09</th>\n",
       "      <td>0.0</td>\n",
       "      <td>86.0</td>\n",
       "      <td>59.0</td>\n",
       "      <td>95.0</td>\n",
       "    </tr>\n",
       "    <tr>\n",
       "      <th>...</th>\n",
       "      <td>...</td>\n",
       "      <td>...</td>\n",
       "      <td>...</td>\n",
       "      <td>...</td>\n",
       "    </tr>\n",
       "    <tr>\n",
       "      <th>2023-08-12</th>\n",
       "      <td>0.0</td>\n",
       "      <td>97.0</td>\n",
       "      <td>83.0</td>\n",
       "      <td>96.0</td>\n",
       "    </tr>\n",
       "    <tr>\n",
       "      <th>2023-08-13</th>\n",
       "      <td>0.0</td>\n",
       "      <td>96.0</td>\n",
       "      <td>82.0</td>\n",
       "      <td>95.0</td>\n",
       "    </tr>\n",
       "    <tr>\n",
       "      <th>2023-08-14</th>\n",
       "      <td>0.0</td>\n",
       "      <td>95.0</td>\n",
       "      <td>81.0</td>\n",
       "      <td>97.0</td>\n",
       "    </tr>\n",
       "    <tr>\n",
       "      <th>2023-08-15</th>\n",
       "      <td>0.0</td>\n",
       "      <td>97.0</td>\n",
       "      <td>81.0</td>\n",
       "      <td>98.0</td>\n",
       "    </tr>\n",
       "    <tr>\n",
       "      <th>2023-08-16</th>\n",
       "      <td>0.0</td>\n",
       "      <td>98.0</td>\n",
       "      <td>82.0</td>\n",
       "      <td>NaN</td>\n",
       "    </tr>\n",
       "  </tbody>\n",
       "</table>\n",
       "<p>16443 rows × 4 columns</p>\n",
       "</div>"
      ],
      "text/plain": [
       "            precip  temp_max  temp_min  target\n",
       "DATE                                          \n",
       "1975-03-20     0.0      86.0      57.0    86.0\n",
       "1975-03-24     0.0      86.0      55.0    86.0\n",
       "1975-04-06     0.0      86.0      72.0    86.0\n",
       "1975-04-08     0.0      86.0      72.0    86.0\n",
       "1975-04-09     0.0      86.0      59.0    95.0\n",
       "...            ...       ...       ...     ...\n",
       "2023-08-12     0.0      97.0      83.0    96.0\n",
       "2023-08-13     0.0      96.0      82.0    95.0\n",
       "2023-08-14     0.0      95.0      81.0    97.0\n",
       "2023-08-15     0.0      97.0      81.0    98.0\n",
       "2023-08-16     0.0      98.0      82.0     NaN\n",
       "\n",
       "[16443 rows x 4 columns]"
      ]
     },
     "execution_count": 30,
     "metadata": {},
     "output_type": "execute_result"
    }
   ],
   "source": [
    "core_weather"
   ]
  },
  {
   "cell_type": "markdown",
   "id": "qsArPUXDkbGb",
   "metadata": {
    "id": "qsArPUXDkbGb"
   },
   "source": [
    "Removing last row, because the target value cannot be predicted for that"
   ]
  },
  {
   "cell_type": "code",
   "execution_count": 31,
   "id": "5012db4f-48db-4457-b483-9c449142c580",
   "metadata": {
    "id": "5012db4f-48db-4457-b483-9c449142c580"
   },
   "outputs": [],
   "source": [
    "core_weather = core_weather.iloc[:-1,:].copy()"
   ]
  },
  {
   "cell_type": "code",
   "execution_count": 32,
   "id": "5f2c71fb-a246-4a52-98ba-eb6e641950bb",
   "metadata": {
    "colab": {
     "base_uri": "https://localhost:8080/",
     "height": 455
    },
    "id": "5f2c71fb-a246-4a52-98ba-eb6e641950bb",
    "outputId": "2132d19c-3cd4-469c-f980-c6be8f3fd14c"
   },
   "outputs": [
    {
     "data": {
      "text/html": [
       "<div>\n",
       "<style scoped>\n",
       "    .dataframe tbody tr th:only-of-type {\n",
       "        vertical-align: middle;\n",
       "    }\n",
       "\n",
       "    .dataframe tbody tr th {\n",
       "        vertical-align: top;\n",
       "    }\n",
       "\n",
       "    .dataframe thead th {\n",
       "        text-align: right;\n",
       "    }\n",
       "</style>\n",
       "<table border=\"1\" class=\"dataframe\">\n",
       "  <thead>\n",
       "    <tr style=\"text-align: right;\">\n",
       "      <th></th>\n",
       "      <th>precip</th>\n",
       "      <th>temp_max</th>\n",
       "      <th>temp_min</th>\n",
       "      <th>target</th>\n",
       "    </tr>\n",
       "    <tr>\n",
       "      <th>DATE</th>\n",
       "      <th></th>\n",
       "      <th></th>\n",
       "      <th></th>\n",
       "      <th></th>\n",
       "    </tr>\n",
       "  </thead>\n",
       "  <tbody>\n",
       "    <tr>\n",
       "      <th>1975-03-20</th>\n",
       "      <td>0.0</td>\n",
       "      <td>86.0</td>\n",
       "      <td>57.0</td>\n",
       "      <td>86.0</td>\n",
       "    </tr>\n",
       "    <tr>\n",
       "      <th>1975-03-24</th>\n",
       "      <td>0.0</td>\n",
       "      <td>86.0</td>\n",
       "      <td>55.0</td>\n",
       "      <td>86.0</td>\n",
       "    </tr>\n",
       "    <tr>\n",
       "      <th>1975-04-06</th>\n",
       "      <td>0.0</td>\n",
       "      <td>86.0</td>\n",
       "      <td>72.0</td>\n",
       "      <td>86.0</td>\n",
       "    </tr>\n",
       "    <tr>\n",
       "      <th>1975-04-08</th>\n",
       "      <td>0.0</td>\n",
       "      <td>86.0</td>\n",
       "      <td>72.0</td>\n",
       "      <td>86.0</td>\n",
       "    </tr>\n",
       "    <tr>\n",
       "      <th>1975-04-09</th>\n",
       "      <td>0.0</td>\n",
       "      <td>86.0</td>\n",
       "      <td>59.0</td>\n",
       "      <td>95.0</td>\n",
       "    </tr>\n",
       "    <tr>\n",
       "      <th>...</th>\n",
       "      <td>...</td>\n",
       "      <td>...</td>\n",
       "      <td>...</td>\n",
       "      <td>...</td>\n",
       "    </tr>\n",
       "    <tr>\n",
       "      <th>2023-08-11</th>\n",
       "      <td>0.0</td>\n",
       "      <td>97.0</td>\n",
       "      <td>80.0</td>\n",
       "      <td>97.0</td>\n",
       "    </tr>\n",
       "    <tr>\n",
       "      <th>2023-08-12</th>\n",
       "      <td>0.0</td>\n",
       "      <td>97.0</td>\n",
       "      <td>83.0</td>\n",
       "      <td>96.0</td>\n",
       "    </tr>\n",
       "    <tr>\n",
       "      <th>2023-08-13</th>\n",
       "      <td>0.0</td>\n",
       "      <td>96.0</td>\n",
       "      <td>82.0</td>\n",
       "      <td>95.0</td>\n",
       "    </tr>\n",
       "    <tr>\n",
       "      <th>2023-08-14</th>\n",
       "      <td>0.0</td>\n",
       "      <td>95.0</td>\n",
       "      <td>81.0</td>\n",
       "      <td>97.0</td>\n",
       "    </tr>\n",
       "    <tr>\n",
       "      <th>2023-08-15</th>\n",
       "      <td>0.0</td>\n",
       "      <td>97.0</td>\n",
       "      <td>81.0</td>\n",
       "      <td>98.0</td>\n",
       "    </tr>\n",
       "  </tbody>\n",
       "</table>\n",
       "<p>16442 rows × 4 columns</p>\n",
       "</div>"
      ],
      "text/plain": [
       "            precip  temp_max  temp_min  target\n",
       "DATE                                          \n",
       "1975-03-20     0.0      86.0      57.0    86.0\n",
       "1975-03-24     0.0      86.0      55.0    86.0\n",
       "1975-04-06     0.0      86.0      72.0    86.0\n",
       "1975-04-08     0.0      86.0      72.0    86.0\n",
       "1975-04-09     0.0      86.0      59.0    95.0\n",
       "...            ...       ...       ...     ...\n",
       "2023-08-11     0.0      97.0      80.0    97.0\n",
       "2023-08-12     0.0      97.0      83.0    96.0\n",
       "2023-08-13     0.0      96.0      82.0    95.0\n",
       "2023-08-14     0.0      95.0      81.0    97.0\n",
       "2023-08-15     0.0      97.0      81.0    98.0\n",
       "\n",
       "[16442 rows x 4 columns]"
      ]
     },
     "execution_count": 32,
     "metadata": {},
     "output_type": "execute_result"
    }
   ],
   "source": [
    "core_weather"
   ]
  },
  {
   "cell_type": "code",
   "execution_count": 33,
   "id": "d5058de0-db8d-478a-90bf-c7b881e3e7dd",
   "metadata": {
    "id": "d5058de0-db8d-478a-90bf-c7b881e3e7dd"
   },
   "outputs": [],
   "source": [
    "from sklearn.linear_model import Ridge\n",
    "\n",
    "reg = Ridge(alpha=.1)"
   ]
  },
  {
   "cell_type": "code",
   "execution_count": 34,
   "id": "b5f90439-579f-4671-8109-0c5161983c59",
   "metadata": {
    "id": "b5f90439-579f-4671-8109-0c5161983c59"
   },
   "outputs": [],
   "source": [
    "predictors = [\"precip\", \"temp_max\", \"temp_min\"]"
   ]
  },
  {
   "cell_type": "code",
   "execution_count": 35,
   "id": "0bfbd30b-9814-49f9-a428-627892db5494",
   "metadata": {
    "id": "0bfbd30b-9814-49f9-a428-627892db5494"
   },
   "outputs": [],
   "source": [
    "train = core_weather.loc[:\"1995-12-31\"]\n",
    "test = core_weather.loc[\"1996-01-01\":]"
   ]
  },
  {
   "cell_type": "code",
   "execution_count": 36,
   "id": "66d95ff3-552b-4c28-8686-a51e8ad05545",
   "metadata": {
    "colab": {
     "base_uri": "https://localhost:8080/",
     "height": 455
    },
    "id": "66d95ff3-552b-4c28-8686-a51e8ad05545",
    "outputId": "3f6db363-8786-4adc-b0dd-5da271771a49"
   },
   "outputs": [
    {
     "data": {
      "text/html": [
       "<div>\n",
       "<style scoped>\n",
       "    .dataframe tbody tr th:only-of-type {\n",
       "        vertical-align: middle;\n",
       "    }\n",
       "\n",
       "    .dataframe tbody tr th {\n",
       "        vertical-align: top;\n",
       "    }\n",
       "\n",
       "    .dataframe thead th {\n",
       "        text-align: right;\n",
       "    }\n",
       "</style>\n",
       "<table border=\"1\" class=\"dataframe\">\n",
       "  <thead>\n",
       "    <tr style=\"text-align: right;\">\n",
       "      <th></th>\n",
       "      <th>precip</th>\n",
       "      <th>temp_max</th>\n",
       "      <th>temp_min</th>\n",
       "      <th>target</th>\n",
       "    </tr>\n",
       "    <tr>\n",
       "      <th>DATE</th>\n",
       "      <th></th>\n",
       "      <th></th>\n",
       "      <th></th>\n",
       "      <th></th>\n",
       "    </tr>\n",
       "  </thead>\n",
       "  <tbody>\n",
       "    <tr>\n",
       "      <th>1975-03-20</th>\n",
       "      <td>0.0</td>\n",
       "      <td>86.0</td>\n",
       "      <td>57.0</td>\n",
       "      <td>86.0</td>\n",
       "    </tr>\n",
       "    <tr>\n",
       "      <th>1975-03-24</th>\n",
       "      <td>0.0</td>\n",
       "      <td>86.0</td>\n",
       "      <td>55.0</td>\n",
       "      <td>86.0</td>\n",
       "    </tr>\n",
       "    <tr>\n",
       "      <th>1975-04-06</th>\n",
       "      <td>0.0</td>\n",
       "      <td>86.0</td>\n",
       "      <td>72.0</td>\n",
       "      <td>86.0</td>\n",
       "    </tr>\n",
       "    <tr>\n",
       "      <th>1975-04-08</th>\n",
       "      <td>0.0</td>\n",
       "      <td>86.0</td>\n",
       "      <td>72.0</td>\n",
       "      <td>86.0</td>\n",
       "    </tr>\n",
       "    <tr>\n",
       "      <th>1975-04-09</th>\n",
       "      <td>0.0</td>\n",
       "      <td>86.0</td>\n",
       "      <td>59.0</td>\n",
       "      <td>95.0</td>\n",
       "    </tr>\n",
       "    <tr>\n",
       "      <th>...</th>\n",
       "      <td>...</td>\n",
       "      <td>...</td>\n",
       "      <td>...</td>\n",
       "      <td>...</td>\n",
       "    </tr>\n",
       "    <tr>\n",
       "      <th>1995-12-27</th>\n",
       "      <td>0.0</td>\n",
       "      <td>66.0</td>\n",
       "      <td>46.0</td>\n",
       "      <td>66.0</td>\n",
       "    </tr>\n",
       "    <tr>\n",
       "      <th>1995-12-28</th>\n",
       "      <td>0.0</td>\n",
       "      <td>66.0</td>\n",
       "      <td>43.0</td>\n",
       "      <td>71.0</td>\n",
       "    </tr>\n",
       "    <tr>\n",
       "      <th>1995-12-29</th>\n",
       "      <td>0.0</td>\n",
       "      <td>71.0</td>\n",
       "      <td>43.0</td>\n",
       "      <td>67.0</td>\n",
       "    </tr>\n",
       "    <tr>\n",
       "      <th>1995-12-30</th>\n",
       "      <td>0.0</td>\n",
       "      <td>67.0</td>\n",
       "      <td>44.0</td>\n",
       "      <td>67.0</td>\n",
       "    </tr>\n",
       "    <tr>\n",
       "      <th>1995-12-31</th>\n",
       "      <td>0.0</td>\n",
       "      <td>67.0</td>\n",
       "      <td>46.0</td>\n",
       "      <td>70.0</td>\n",
       "    </tr>\n",
       "  </tbody>\n",
       "</table>\n",
       "<p>6517 rows × 4 columns</p>\n",
       "</div>"
      ],
      "text/plain": [
       "            precip  temp_max  temp_min  target\n",
       "DATE                                          \n",
       "1975-03-20     0.0      86.0      57.0    86.0\n",
       "1975-03-24     0.0      86.0      55.0    86.0\n",
       "1975-04-06     0.0      86.0      72.0    86.0\n",
       "1975-04-08     0.0      86.0      72.0    86.0\n",
       "1975-04-09     0.0      86.0      59.0    95.0\n",
       "...            ...       ...       ...     ...\n",
       "1995-12-27     0.0      66.0      46.0    66.0\n",
       "1995-12-28     0.0      66.0      43.0    71.0\n",
       "1995-12-29     0.0      71.0      43.0    67.0\n",
       "1995-12-30     0.0      67.0      44.0    67.0\n",
       "1995-12-31     0.0      67.0      46.0    70.0\n",
       "\n",
       "[6517 rows x 4 columns]"
      ]
     },
     "execution_count": 36,
     "metadata": {},
     "output_type": "execute_result"
    }
   ],
   "source": [
    "train"
   ]
  },
  {
   "cell_type": "code",
   "execution_count": 37,
   "id": "3d1a07e8-2192-4dfa-b5e3-c9acb4d56b00",
   "metadata": {
    "colab": {
     "base_uri": "https://localhost:8080/",
     "height": 455
    },
    "id": "3d1a07e8-2192-4dfa-b5e3-c9acb4d56b00",
    "outputId": "b658823e-11ee-437f-ee4f-647a2f64e95e"
   },
   "outputs": [
    {
     "data": {
      "text/html": [
       "<div>\n",
       "<style scoped>\n",
       "    .dataframe tbody tr th:only-of-type {\n",
       "        vertical-align: middle;\n",
       "    }\n",
       "\n",
       "    .dataframe tbody tr th {\n",
       "        vertical-align: top;\n",
       "    }\n",
       "\n",
       "    .dataframe thead th {\n",
       "        text-align: right;\n",
       "    }\n",
       "</style>\n",
       "<table border=\"1\" class=\"dataframe\">\n",
       "  <thead>\n",
       "    <tr style=\"text-align: right;\">\n",
       "      <th></th>\n",
       "      <th>precip</th>\n",
       "      <th>temp_max</th>\n",
       "      <th>temp_min</th>\n",
       "      <th>target</th>\n",
       "    </tr>\n",
       "    <tr>\n",
       "      <th>DATE</th>\n",
       "      <th></th>\n",
       "      <th></th>\n",
       "      <th></th>\n",
       "      <th></th>\n",
       "    </tr>\n",
       "  </thead>\n",
       "  <tbody>\n",
       "    <tr>\n",
       "      <th>1996-01-01</th>\n",
       "      <td>0.0</td>\n",
       "      <td>70.0</td>\n",
       "      <td>46.0</td>\n",
       "      <td>70.0</td>\n",
       "    </tr>\n",
       "    <tr>\n",
       "      <th>1996-01-02</th>\n",
       "      <td>0.0</td>\n",
       "      <td>70.0</td>\n",
       "      <td>46.0</td>\n",
       "      <td>69.0</td>\n",
       "    </tr>\n",
       "    <tr>\n",
       "      <th>1996-01-03</th>\n",
       "      <td>0.0</td>\n",
       "      <td>69.0</td>\n",
       "      <td>46.0</td>\n",
       "      <td>70.0</td>\n",
       "    </tr>\n",
       "    <tr>\n",
       "      <th>1996-01-04</th>\n",
       "      <td>0.0</td>\n",
       "      <td>70.0</td>\n",
       "      <td>40.0</td>\n",
       "      <td>69.0</td>\n",
       "    </tr>\n",
       "    <tr>\n",
       "      <th>1996-01-05</th>\n",
       "      <td>0.0</td>\n",
       "      <td>69.0</td>\n",
       "      <td>40.0</td>\n",
       "      <td>69.0</td>\n",
       "    </tr>\n",
       "    <tr>\n",
       "      <th>...</th>\n",
       "      <td>...</td>\n",
       "      <td>...</td>\n",
       "      <td>...</td>\n",
       "      <td>...</td>\n",
       "    </tr>\n",
       "    <tr>\n",
       "      <th>2023-08-11</th>\n",
       "      <td>0.0</td>\n",
       "      <td>97.0</td>\n",
       "      <td>80.0</td>\n",
       "      <td>97.0</td>\n",
       "    </tr>\n",
       "    <tr>\n",
       "      <th>2023-08-12</th>\n",
       "      <td>0.0</td>\n",
       "      <td>97.0</td>\n",
       "      <td>83.0</td>\n",
       "      <td>96.0</td>\n",
       "    </tr>\n",
       "    <tr>\n",
       "      <th>2023-08-13</th>\n",
       "      <td>0.0</td>\n",
       "      <td>96.0</td>\n",
       "      <td>82.0</td>\n",
       "      <td>95.0</td>\n",
       "    </tr>\n",
       "    <tr>\n",
       "      <th>2023-08-14</th>\n",
       "      <td>0.0</td>\n",
       "      <td>95.0</td>\n",
       "      <td>81.0</td>\n",
       "      <td>97.0</td>\n",
       "    </tr>\n",
       "    <tr>\n",
       "      <th>2023-08-15</th>\n",
       "      <td>0.0</td>\n",
       "      <td>97.0</td>\n",
       "      <td>81.0</td>\n",
       "      <td>98.0</td>\n",
       "    </tr>\n",
       "  </tbody>\n",
       "</table>\n",
       "<p>9925 rows × 4 columns</p>\n",
       "</div>"
      ],
      "text/plain": [
       "            precip  temp_max  temp_min  target\n",
       "DATE                                          \n",
       "1996-01-01     0.0      70.0      46.0    70.0\n",
       "1996-01-02     0.0      70.0      46.0    69.0\n",
       "1996-01-03     0.0      69.0      46.0    70.0\n",
       "1996-01-04     0.0      70.0      40.0    69.0\n",
       "1996-01-05     0.0      69.0      40.0    69.0\n",
       "...            ...       ...       ...     ...\n",
       "2023-08-11     0.0      97.0      80.0    97.0\n",
       "2023-08-12     0.0      97.0      83.0    96.0\n",
       "2023-08-13     0.0      96.0      82.0    95.0\n",
       "2023-08-14     0.0      95.0      81.0    97.0\n",
       "2023-08-15     0.0      97.0      81.0    98.0\n",
       "\n",
       "[9925 rows x 4 columns]"
      ]
     },
     "execution_count": 37,
     "metadata": {},
     "output_type": "execute_result"
    }
   ],
   "source": [
    "test"
   ]
  },
  {
   "cell_type": "code",
   "execution_count": 38,
   "id": "dd9fdafe-ba79-4158-b6f0-b8966b1d9d7a",
   "metadata": {
    "colab": {
     "base_uri": "https://localhost:8080/",
     "height": 74
    },
    "id": "dd9fdafe-ba79-4158-b6f0-b8966b1d9d7a",
    "outputId": "1ced74fa-eef9-4710-8937-8bd6c55e402d"
   },
   "outputs": [
    {
     "data": {
      "text/html": [
       "<style>#sk-container-id-1 {color: black;background-color: white;}#sk-container-id-1 pre{padding: 0;}#sk-container-id-1 div.sk-toggleable {background-color: white;}#sk-container-id-1 label.sk-toggleable__label {cursor: pointer;display: block;width: 100%;margin-bottom: 0;padding: 0.3em;box-sizing: border-box;text-align: center;}#sk-container-id-1 label.sk-toggleable__label-arrow:before {content: \"▸\";float: left;margin-right: 0.25em;color: #696969;}#sk-container-id-1 label.sk-toggleable__label-arrow:hover:before {color: black;}#sk-container-id-1 div.sk-estimator:hover label.sk-toggleable__label-arrow:before {color: black;}#sk-container-id-1 div.sk-toggleable__content {max-height: 0;max-width: 0;overflow: hidden;text-align: left;background-color: #f0f8ff;}#sk-container-id-1 div.sk-toggleable__content pre {margin: 0.2em;color: black;border-radius: 0.25em;background-color: #f0f8ff;}#sk-container-id-1 input.sk-toggleable__control:checked~div.sk-toggleable__content {max-height: 200px;max-width: 100%;overflow: auto;}#sk-container-id-1 input.sk-toggleable__control:checked~label.sk-toggleable__label-arrow:before {content: \"▾\";}#sk-container-id-1 div.sk-estimator input.sk-toggleable__control:checked~label.sk-toggleable__label {background-color: #d4ebff;}#sk-container-id-1 div.sk-label input.sk-toggleable__control:checked~label.sk-toggleable__label {background-color: #d4ebff;}#sk-container-id-1 input.sk-hidden--visually {border: 0;clip: rect(1px 1px 1px 1px);clip: rect(1px, 1px, 1px, 1px);height: 1px;margin: -1px;overflow: hidden;padding: 0;position: absolute;width: 1px;}#sk-container-id-1 div.sk-estimator {font-family: monospace;background-color: #f0f8ff;border: 1px dotted black;border-radius: 0.25em;box-sizing: border-box;margin-bottom: 0.5em;}#sk-container-id-1 div.sk-estimator:hover {background-color: #d4ebff;}#sk-container-id-1 div.sk-parallel-item::after {content: \"\";width: 100%;border-bottom: 1px solid gray;flex-grow: 1;}#sk-container-id-1 div.sk-label:hover label.sk-toggleable__label {background-color: #d4ebff;}#sk-container-id-1 div.sk-serial::before {content: \"\";position: absolute;border-left: 1px solid gray;box-sizing: border-box;top: 0;bottom: 0;left: 50%;z-index: 0;}#sk-container-id-1 div.sk-serial {display: flex;flex-direction: column;align-items: center;background-color: white;padding-right: 0.2em;padding-left: 0.2em;position: relative;}#sk-container-id-1 div.sk-item {position: relative;z-index: 1;}#sk-container-id-1 div.sk-parallel {display: flex;align-items: stretch;justify-content: center;background-color: white;position: relative;}#sk-container-id-1 div.sk-item::before, #sk-container-id-1 div.sk-parallel-item::before {content: \"\";position: absolute;border-left: 1px solid gray;box-sizing: border-box;top: 0;bottom: 0;left: 50%;z-index: -1;}#sk-container-id-1 div.sk-parallel-item {display: flex;flex-direction: column;z-index: 1;position: relative;background-color: white;}#sk-container-id-1 div.sk-parallel-item:first-child::after {align-self: flex-end;width: 50%;}#sk-container-id-1 div.sk-parallel-item:last-child::after {align-self: flex-start;width: 50%;}#sk-container-id-1 div.sk-parallel-item:only-child::after {width: 0;}#sk-container-id-1 div.sk-dashed-wrapped {border: 1px dashed gray;margin: 0 0.4em 0.5em 0.4em;box-sizing: border-box;padding-bottom: 0.4em;background-color: white;}#sk-container-id-1 div.sk-label label {font-family: monospace;font-weight: bold;display: inline-block;line-height: 1.2em;}#sk-container-id-1 div.sk-label-container {text-align: center;}#sk-container-id-1 div.sk-container {/* jupyter's `normalize.less` sets `[hidden] { display: none; }` but bootstrap.min.css set `[hidden] { display: none !important; }` so we also need the `!important` here to be able to override the default hidden behavior on the sphinx rendered scikit-learn.org. See: https://github.com/scikit-learn/scikit-learn/issues/21755 */display: inline-block !important;position: relative;}#sk-container-id-1 div.sk-text-repr-fallback {display: none;}</style><div id=\"sk-container-id-1\" class=\"sk-top-container\"><div class=\"sk-text-repr-fallback\"><pre>Ridge(alpha=0.1)</pre><b>In a Jupyter environment, please rerun this cell to show the HTML representation or trust the notebook. <br />On GitHub, the HTML representation is unable to render, please try loading this page with nbviewer.org.</b></div><div class=\"sk-container\" hidden><div class=\"sk-item\"><div class=\"sk-estimator sk-toggleable\"><input class=\"sk-toggleable__control sk-hidden--visually\" id=\"sk-estimator-id-1\" type=\"checkbox\" checked><label for=\"sk-estimator-id-1\" class=\"sk-toggleable__label sk-toggleable__label-arrow\">Ridge</label><div class=\"sk-toggleable__content\"><pre>Ridge(alpha=0.1)</pre></div></div></div></div></div>"
      ],
      "text/plain": [
       "Ridge(alpha=0.1)"
      ]
     },
     "execution_count": 38,
     "metadata": {},
     "output_type": "execute_result"
    }
   ],
   "source": [
    "reg.fit(train[predictors], train[\"target\"])"
   ]
  },
  {
   "cell_type": "code",
   "execution_count": 39,
   "id": "025a1496-37ec-438b-b4a7-a27459cefc74",
   "metadata": {
    "id": "025a1496-37ec-438b-b4a7-a27459cefc74"
   },
   "outputs": [],
   "source": [
    "predictions = reg.predict(test[predictors])"
   ]
  },
  {
   "cell_type": "code",
   "execution_count": null,
   "id": "f9663d16",
   "metadata": {},
   "outputs": [],
   "source": []
  },
  {
   "cell_type": "code",
   "execution_count": 61,
   "id": "7de349e6",
   "metadata": {},
   "outputs": [
    {
     "data": {
      "text/plain": [
       "DATE\n",
       "1996-01-01    70.0\n",
       "1996-01-02    69.0\n",
       "1996-01-03    70.0\n",
       "1996-01-04    69.0\n",
       "1996-01-05    69.0\n",
       "              ... \n",
       "2023-08-11    97.0\n",
       "2023-08-12    96.0\n",
       "2023-08-13    95.0\n",
       "2023-08-14    97.0\n",
       "2023-08-15    98.0\n",
       "Name: target, Length: 9925, dtype: float64"
      ]
     },
     "execution_count": 61,
     "metadata": {},
     "output_type": "execute_result"
    }
   ],
   "source": []
  },
  {
   "cell_type": "code",
   "execution_count": 62,
   "id": "4f7640f3",
   "metadata": {},
   "outputs": [
    {
     "data": {
      "text/plain": [
       "array([70.53656512, 70.53656512, 69.63784714, ..., 96.15874759,\n",
       "       95.19737642, 96.99481237])"
      ]
     },
     "execution_count": 62,
     "metadata": {},
     "output_type": "execute_result"
    }
   ],
   "source": []
  },
  {
   "cell_type": "code",
   "execution_count": 40,
   "id": "c66c2437-824e-4ee7-b15f-2e864fb40706",
   "metadata": {
    "colab": {
     "base_uri": "https://localhost:8080/"
    },
    "id": "c66c2437-824e-4ee7-b15f-2e864fb40706",
    "outputId": "2f00afb2-ffdd-4857-938b-dee64f2a8490"
   },
   "outputs": [
    {
     "data": {
      "text/plain": [
       "8.788417344466326"
      ]
     },
     "execution_count": 40,
     "metadata": {},
     "output_type": "execute_result"
    }
   ],
   "source": [
    "from sklearn.metrics import mean_squared_error\n",
    "\n",
    "mean_squared_error(test[\"target\"], predictions)"
   ]
  },
  {
   "cell_type": "markdown",
   "id": "N_vrniNFm6hT",
   "metadata": {
    "id": "N_vrniNFm6hT"
   },
   "source": [
    "Evaluating the model"
   ]
  },
  {
   "cell_type": "code",
   "execution_count": 41,
   "id": "fe012e73-5d7c-4482-83d6-ceae66aa4cfe",
   "metadata": {
    "id": "fe012e73-5d7c-4482-83d6-ceae66aa4cfe"
   },
   "outputs": [],
   "source": [
    "combined = pd.concat([test[\"target\"], pd.Series(predictions, index=test.index)], axis=1)\n",
    "combined.columns = [\"actual\", \"predictions\"]"
   ]
  },
  {
   "cell_type": "code",
   "execution_count": 42,
   "id": "ba09ac14-01f8-49d3-8a3f-ea96963e383e",
   "metadata": {
    "colab": {
     "base_uri": "https://localhost:8080/",
     "height": 990
    },
    "id": "ba09ac14-01f8-49d3-8a3f-ea96963e383e",
    "outputId": "c17215bb-1ebc-4125-e7ff-fba418db5ce8"
   },
   "outputs": [
    {
     "data": {
      "text/html": [
       "<div>\n",
       "<style scoped>\n",
       "    .dataframe tbody tr th:only-of-type {\n",
       "        vertical-align: middle;\n",
       "    }\n",
       "\n",
       "    .dataframe tbody tr th {\n",
       "        vertical-align: top;\n",
       "    }\n",
       "\n",
       "    .dataframe thead th {\n",
       "        text-align: right;\n",
       "    }\n",
       "</style>\n",
       "<table border=\"1\" class=\"dataframe\">\n",
       "  <thead>\n",
       "    <tr style=\"text-align: right;\">\n",
       "      <th></th>\n",
       "      <th>actual</th>\n",
       "      <th>predictions</th>\n",
       "    </tr>\n",
       "    <tr>\n",
       "      <th>DATE</th>\n",
       "      <th></th>\n",
       "      <th></th>\n",
       "    </tr>\n",
       "  </thead>\n",
       "  <tbody>\n",
       "    <tr>\n",
       "      <th>1996-01-01</th>\n",
       "      <td>70.0</td>\n",
       "      <td>70.536565</td>\n",
       "    </tr>\n",
       "    <tr>\n",
       "      <th>1996-01-02</th>\n",
       "      <td>69.0</td>\n",
       "      <td>70.536565</td>\n",
       "    </tr>\n",
       "    <tr>\n",
       "      <th>1996-01-03</th>\n",
       "      <td>70.0</td>\n",
       "      <td>69.637847</td>\n",
       "    </tr>\n",
       "    <tr>\n",
       "      <th>1996-01-04</th>\n",
       "      <td>69.0</td>\n",
       "      <td>70.160646</td>\n",
       "    </tr>\n",
       "    <tr>\n",
       "      <th>1996-01-05</th>\n",
       "      <td>69.0</td>\n",
       "      <td>69.261928</td>\n",
       "    </tr>\n",
       "    <tr>\n",
       "      <th>...</th>\n",
       "      <td>...</td>\n",
       "      <td>...</td>\n",
       "    </tr>\n",
       "    <tr>\n",
       "      <th>2023-08-11</th>\n",
       "      <td>97.0</td>\n",
       "      <td>96.932159</td>\n",
       "    </tr>\n",
       "    <tr>\n",
       "      <th>2023-08-12</th>\n",
       "      <td>96.0</td>\n",
       "      <td>97.120119</td>\n",
       "    </tr>\n",
       "    <tr>\n",
       "      <th>2023-08-13</th>\n",
       "      <td>95.0</td>\n",
       "      <td>96.158748</td>\n",
       "    </tr>\n",
       "    <tr>\n",
       "      <th>2023-08-14</th>\n",
       "      <td>97.0</td>\n",
       "      <td>95.197376</td>\n",
       "    </tr>\n",
       "    <tr>\n",
       "      <th>2023-08-15</th>\n",
       "      <td>98.0</td>\n",
       "      <td>96.994812</td>\n",
       "    </tr>\n",
       "  </tbody>\n",
       "</table>\n",
       "<p>9925 rows × 2 columns</p>\n",
       "</div>"
      ],
      "text/plain": [
       "            actual  predictions\n",
       "DATE                           \n",
       "1996-01-01    70.0    70.536565\n",
       "1996-01-02    69.0    70.536565\n",
       "1996-01-03    70.0    69.637847\n",
       "1996-01-04    69.0    70.160646\n",
       "1996-01-05    69.0    69.261928\n",
       "...            ...          ...\n",
       "2023-08-11    97.0    96.932159\n",
       "2023-08-12    96.0    97.120119\n",
       "2023-08-13    95.0    96.158748\n",
       "2023-08-14    97.0    95.197376\n",
       "2023-08-15    98.0    96.994812\n",
       "\n",
       "[9925 rows x 2 columns]"
      ]
     },
     "execution_count": 42,
     "metadata": {},
     "output_type": "execute_result"
    }
   ],
   "source": [
    "combined"
   ]
  },
  {
   "cell_type": "code",
   "execution_count": 43,
   "id": "4c17e1f9-1294-4fd8-aac4-26830a3936ab",
   "metadata": {
    "colab": {
     "base_uri": "https://localhost:8080/",
     "height": 444
    },
    "id": "4c17e1f9-1294-4fd8-aac4-26830a3936ab",
    "outputId": "432fbe4f-ae6e-435c-924f-38508300490c"
   },
   "outputs": [
    {
     "data": {
      "text/plain": [
       "<AxesSubplot:xlabel='DATE'>"
      ]
     },
     "execution_count": 43,
     "metadata": {},
     "output_type": "execute_result"
    },
    {
     "data": {
      "image/png": "[encoded data removed]",
      "text/plain": [
       "<Figure size 640x480 with 1 Axes>"
      ]
     },
     "metadata": {},
     "output_type": "display_data"
    }
   ],
   "source": [
    "combined.plot()"
   ]
  },
  {
   "cell_type": "code",
   "execution_count": 44,
   "id": "3f16c09b-e283-4d63-a9f9-50ab164798c3",
   "metadata": {
    "colab": {
     "base_uri": "https://localhost:8080/"
    },
    "id": "3f16c09b-e283-4d63-a9f9-50ab164798c3",
    "outputId": "e7957212-d927-4edc-f409-5262eac9dbf5"
   },
   "outputs": [
    {
     "data": {
      "text/plain": [
       "array([0.11939555, 0.89871798, 0.0626532 ])"
      ]
     },
     "execution_count": 44,
     "metadata": {},
     "output_type": "execute_result"
    }
   ],
   "source": [
    "reg.coef_"
   ]
  },
  {
   "cell_type": "code",
   "execution_count": 45,
   "id": "f4d27d46-7cc2-42c1-9243-f4aa71eae268",
   "metadata": {
    "id": "f4d27d46-7cc2-42c1-9243-f4aa71eae268"
   },
   "outputs": [],
   "source": [
    "core_weather[\"month_max\"] = core_weather[\"temp_max\"].rolling(30).mean()\n",
    "\n",
    "core_weather[\"month_day_max\"] = core_weather[\"month_max\"] / core_weather[\"temp_max\"]\n",
    "\n",
    "core_weather[\"max_min\"] = core_weather[\"temp_max\"] / core_weather[\"temp_min\"]"
   ]
  },
  {
   "cell_type": "markdown",
   "id": "TcajGkbPn6Ww",
   "metadata": {
    "id": "TcajGkbPn6Ww"
   },
   "source": [
    "Creating a function to make predictions"
   ]
  },
  {
   "cell_type": "code",
   "execution_count": 46,
   "id": "9257c8e4-265c-498f-9ccc-2344eeb3aba0",
   "metadata": {
    "id": "9257c8e4-265c-498f-9ccc-2344eeb3aba0"
   },
   "outputs": [],
   "source": [
    "def create_predictions(predictors, core_weather, reg):\n",
    "    train = core_weather.loc[:\"2020-12-31\"]\n",
    "    test = core_weather.loc[\"2021-01-01\":]\n",
    "\n",
    "    reg.fit(train[predictors], train[\"target\"])\n",
    "    predictions = reg.predict(test[predictors])\n",
    "\n",
    "    error = mean_squared_error(test[\"target\"], predictions)\n",
    "\n",
    "    combined = pd.concat([test[\"target\"], pd.Series(predictions, index=test.index)], axis=1)\n",
    "    combined.columns = [\"actual\", \"predictions\"]\n",
    "    return error, combined"
   ]
  },
  {
   "cell_type": "markdown",
   "id": "WFQ3qidSp1Gm",
   "metadata": {
    "id": "WFQ3qidSp1Gm"
   },
   "source": [
    "Adding rolling means"
   ]
  },
  {
   "cell_type": "code",
   "execution_count": 47,
   "id": "5g1ig_KEpVR3",
   "metadata": {
    "id": "5g1ig_KEpVR3"
   },
   "outputs": [],
   "source": [
    "core_weather[\"month_max\"]=core_weather[\"temp_max\"].rolling(30).mean()"
   ]
  },
  {
   "cell_type": "code",
   "execution_count": 48,
   "id": "HIZrKufgqHTm",
   "metadata": {
    "id": "HIZrKufgqHTm"
   },
   "outputs": [],
   "source": [
    "core_weather[\"month_day_max\"]=core_weather[\"month_max\"]/core_weather[\"temp_max\"]"
   ]
  },
  {
   "cell_type": "code",
   "execution_count": 49,
   "id": "d7ns6hP2qW4i",
   "metadata": {
    "id": "d7ns6hP2qW4i"
   },
   "outputs": [],
   "source": [
    "core_weather[\"max_min\"]=core_weather[\"temp_max\"]/core_weather[\"temp_min\"]"
   ]
  },
  {
   "cell_type": "code",
   "execution_count": 50,
   "id": "GrbncSPtrH0X",
   "metadata": {
    "id": "GrbncSPtrH0X"
   },
   "outputs": [],
   "source": [
    "predictors=[\"precip\",\"temp_max\",\"temp_min\",\"month_max\",\"month_day_max\",\"max_min\"]"
   ]
  },
  {
   "cell_type": "code",
   "execution_count": 51,
   "id": "53d4262e",
   "metadata": {},
   "outputs": [
    {
     "data": {
      "text/html": [
       "<div>\n",
       "<style scoped>\n",
       "    .dataframe tbody tr th:only-of-type {\n",
       "        vertical-align: middle;\n",
       "    }\n",
       "\n",
       "    .dataframe tbody tr th {\n",
       "        vertical-align: top;\n",
       "    }\n",
       "\n",
       "    .dataframe thead th {\n",
       "        text-align: right;\n",
       "    }\n",
       "</style>\n",
       "<table border=\"1\" class=\"dataframe\">\n",
       "  <thead>\n",
       "    <tr style=\"text-align: right;\">\n",
       "      <th></th>\n",
       "      <th>precip</th>\n",
       "      <th>temp_max</th>\n",
       "      <th>temp_min</th>\n",
       "      <th>target</th>\n",
       "      <th>month_max</th>\n",
       "      <th>month_day_max</th>\n",
       "      <th>max_min</th>\n",
       "    </tr>\n",
       "    <tr>\n",
       "      <th>DATE</th>\n",
       "      <th></th>\n",
       "      <th></th>\n",
       "      <th></th>\n",
       "      <th></th>\n",
       "      <th></th>\n",
       "      <th></th>\n",
       "      <th></th>\n",
       "    </tr>\n",
       "  </thead>\n",
       "  <tbody>\n",
       "    <tr>\n",
       "      <th>1975-03-20</th>\n",
       "      <td>0.0</td>\n",
       "      <td>86.0</td>\n",
       "      <td>57.0</td>\n",
       "      <td>86.0</td>\n",
       "      <td>NaN</td>\n",
       "      <td>NaN</td>\n",
       "      <td>1.508772</td>\n",
       "    </tr>\n",
       "    <tr>\n",
       "      <th>1975-03-24</th>\n",
       "      <td>0.0</td>\n",
       "      <td>86.0</td>\n",
       "      <td>55.0</td>\n",
       "      <td>86.0</td>\n",
       "      <td>NaN</td>\n",
       "      <td>NaN</td>\n",
       "      <td>1.563636</td>\n",
       "    </tr>\n",
       "    <tr>\n",
       "      <th>1975-04-06</th>\n",
       "      <td>0.0</td>\n",
       "      <td>86.0</td>\n",
       "      <td>72.0</td>\n",
       "      <td>86.0</td>\n",
       "      <td>NaN</td>\n",
       "      <td>NaN</td>\n",
       "      <td>1.194444</td>\n",
       "    </tr>\n",
       "    <tr>\n",
       "      <th>1975-04-08</th>\n",
       "      <td>0.0</td>\n",
       "      <td>86.0</td>\n",
       "      <td>72.0</td>\n",
       "      <td>86.0</td>\n",
       "      <td>NaN</td>\n",
       "      <td>NaN</td>\n",
       "      <td>1.194444</td>\n",
       "    </tr>\n",
       "    <tr>\n",
       "      <th>1975-04-09</th>\n",
       "      <td>0.0</td>\n",
       "      <td>86.0</td>\n",
       "      <td>59.0</td>\n",
       "      <td>95.0</td>\n",
       "      <td>NaN</td>\n",
       "      <td>NaN</td>\n",
       "      <td>1.457627</td>\n",
       "    </tr>\n",
       "    <tr>\n",
       "      <th>...</th>\n",
       "      <td>...</td>\n",
       "      <td>...</td>\n",
       "      <td>...</td>\n",
       "      <td>...</td>\n",
       "      <td>...</td>\n",
       "      <td>...</td>\n",
       "      <td>...</td>\n",
       "    </tr>\n",
       "    <tr>\n",
       "      <th>2023-08-11</th>\n",
       "      <td>0.0</td>\n",
       "      <td>97.0</td>\n",
       "      <td>80.0</td>\n",
       "      <td>97.0</td>\n",
       "      <td>95.433333</td>\n",
       "      <td>0.983849</td>\n",
       "      <td>1.212500</td>\n",
       "    </tr>\n",
       "    <tr>\n",
       "      <th>2023-08-12</th>\n",
       "      <td>0.0</td>\n",
       "      <td>97.0</td>\n",
       "      <td>83.0</td>\n",
       "      <td>96.0</td>\n",
       "      <td>95.633333</td>\n",
       "      <td>0.985911</td>\n",
       "      <td>1.168675</td>\n",
       "    </tr>\n",
       "    <tr>\n",
       "      <th>2023-08-13</th>\n",
       "      <td>0.0</td>\n",
       "      <td>96.0</td>\n",
       "      <td>82.0</td>\n",
       "      <td>95.0</td>\n",
       "      <td>95.733333</td>\n",
       "      <td>0.997222</td>\n",
       "      <td>1.170732</td>\n",
       "    </tr>\n",
       "    <tr>\n",
       "      <th>2023-08-14</th>\n",
       "      <td>0.0</td>\n",
       "      <td>95.0</td>\n",
       "      <td>81.0</td>\n",
       "      <td>97.0</td>\n",
       "      <td>95.733333</td>\n",
       "      <td>1.007719</td>\n",
       "      <td>1.172840</td>\n",
       "    </tr>\n",
       "    <tr>\n",
       "      <th>2023-08-15</th>\n",
       "      <td>0.0</td>\n",
       "      <td>97.0</td>\n",
       "      <td>81.0</td>\n",
       "      <td>98.0</td>\n",
       "      <td>95.800000</td>\n",
       "      <td>0.987629</td>\n",
       "      <td>1.197531</td>\n",
       "    </tr>\n",
       "  </tbody>\n",
       "</table>\n",
       "<p>16442 rows × 7 columns</p>\n",
       "</div>"
      ],
      "text/plain": [
       "            precip  temp_max  temp_min  target  month_max  month_day_max  \\\n",
       "DATE                                                                       \n",
       "1975-03-20     0.0      86.0      57.0    86.0        NaN            NaN   \n",
       "1975-03-24     0.0      86.0      55.0    86.0        NaN            NaN   \n",
       "1975-04-06     0.0      86.0      72.0    86.0        NaN            NaN   \n",
       "1975-04-08     0.0      86.0      72.0    86.0        NaN            NaN   \n",
       "1975-04-09     0.0      86.0      59.0    95.0        NaN            NaN   \n",
       "...            ...       ...       ...     ...        ...            ...   \n",
       "2023-08-11     0.0      97.0      80.0    97.0  95.433333       0.983849   \n",
       "2023-08-12     0.0      97.0      83.0    96.0  95.633333       0.985911   \n",
       "2023-08-13     0.0      96.0      82.0    95.0  95.733333       0.997222   \n",
       "2023-08-14     0.0      95.0      81.0    97.0  95.733333       1.007719   \n",
       "2023-08-15     0.0      97.0      81.0    98.0  95.800000       0.987629   \n",
       "\n",
       "             max_min  \n",
       "DATE                  \n",
       "1975-03-20  1.508772  \n",
       "1975-03-24  1.563636  \n",
       "1975-04-06  1.194444  \n",
       "1975-04-08  1.194444  \n",
       "1975-04-09  1.457627  \n",
       "...              ...  \n",
       "2023-08-11  1.212500  \n",
       "2023-08-12  1.168675  \n",
       "2023-08-13  1.170732  \n",
       "2023-08-14  1.172840  \n",
       "2023-08-15  1.197531  \n",
       "\n",
       "[16442 rows x 7 columns]"
      ]
     },
     "execution_count": 51,
     "metadata": {},
     "output_type": "execute_result"
    }
   ],
   "source": [
    "core_weather"
   ]
  },
  {
   "cell_type": "markdown",
   "id": "ZaDYtVk1rjzG",
   "metadata": {
    "id": "ZaDYtVk1rjzG"
   },
   "source": [
    "Removing the first 30 null values"
   ]
  },
  {
   "cell_type": "code",
   "execution_count": 52,
   "id": "QfzWWNGurisN",
   "metadata": {
    "id": "QfzWWNGurisN"
   },
   "outputs": [],
   "source": [
    "core_weather=core_weather.iloc[30:,:].copy()"
   ]
  },
  {
   "cell_type": "code",
   "execution_count": 53,
   "id": "c1d8e57c-2ead-45f9-aa9f-d4ecd74e5796",
   "metadata": {
    "colab": {
     "base_uri": "https://localhost:8080/"
    },
    "id": "c1d8e57c-2ead-45f9-aa9f-d4ecd74e5796",
    "outputId": "fd0486c9-02b7-4020-d7b0-6d245d4f12f0"
   },
   "outputs": [
    {
     "data": {
      "text/plain": [
       "9.394199515897826"
      ]
     },
     "execution_count": 53,
     "metadata": {},
     "output_type": "execute_result"
    }
   ],
   "source": [
    "\n",
    "error, combined = create_predictions(predictors, core_weather, reg)\n",
    "error"
   ]
  },
  {
   "cell_type": "code",
   "execution_count": 54,
   "id": "fd729252-272c-433a-8c57-ea029d191231",
   "metadata": {
    "colab": {
     "base_uri": "https://localhost:8080/",
     "height": 451
    },
    "id": "fd729252-272c-433a-8c57-ea029d191231",
    "outputId": "9bc4487e-6a67-42c9-c782-cc4e5df8cdb2"
   },
   "outputs": [
    {
     "data": {
      "text/plain": [
       "<AxesSubplot:xlabel='DATE'>"
      ]
     },
     "execution_count": 54,
     "metadata": {},
     "output_type": "execute_result"
    },
    {
     "data": {
      "image/png": "[encoded data removed]",
      "text/plain": [
       "<Figure size 640x480 with 1 Axes>"
      ]
     },
     "metadata": {},
     "output_type": "display_data"
    }
   ],
   "source": [
    "combined.plot()"
   ]
  },
  {
   "cell_type": "code",
   "execution_count": 55,
   "id": "d9882b47-e290-4f3d-bfb3-f6a32d66cae0",
   "metadata": {
    "colab": {
     "base_uri": "https://localhost:8080/"
    },
    "id": "d9882b47-e290-4f3d-bfb3-f6a32d66cae0",
    "outputId": "2ee0b772-211a-47e8-e432-350e2c4719bb"
   },
   "outputs": [],
   "source": [
    "core_weather[\"monthly_avg\"] = core_weather[\"temp_max\"].groupby(core_weather.index.month).apply(lambda x: x.expanding(1).mean())\n",
    "core_weather[\"day_of_year_avg\"] = core_weather[\"temp_max\"].groupby(core_weather.index.dayofyear).apply(lambda x: x.expanding(1).mean())"
   ]
  },
  {
   "cell_type": "markdown",
   "id": "dvvArSWes9Eo",
   "metadata": {
    "id": "dvvArSWes9Eo"
   },
   "source": [
    "Running model diagnosis"
   ]
  },
  {
   "cell_type": "code",
   "execution_count": 56,
   "id": "c29d4f86-834a-4fc1-b010-b8ed8e8da76e",
   "metadata": {
    "colab": {
     "base_uri": "https://localhost:8080/"
    },
    "id": "c29d4f86-834a-4fc1-b010-b8ed8e8da76e",
    "outputId": "0e5c7e01-2515-43a1-8a46-eda379de972a"
   },
   "outputs": [
    {
     "data": {
      "text/plain": [
       "9.17710640507501"
      ]
     },
     "execution_count": 56,
     "metadata": {},
     "output_type": "execute_result"
    }
   ],
   "source": [
    "error, combined = create_predictions(predictors + [\"monthly_avg\", \"day_of_year_avg\"], core_weather, reg)\n",
    "error"
   ]
  },
  {
   "cell_type": "code",
   "execution_count": 57,
   "id": "145833c6-7c7a-44ae-affb-c02f227c4398",
   "metadata": {
    "colab": {
     "base_uri": "https://localhost:8080/"
    },
    "id": "145833c6-7c7a-44ae-affb-c02f227c4398",
    "outputId": "3eb7a425-b243-4586-d0fa-a1adeaea81cb"
   },
   "outputs": [
    {
     "data": {
      "text/plain": [
       "array([-0.1105547 ,  0.7241649 ,  0.0106958 ,  0.00745964, -2.33180357,\n",
       "        0.64160069,  0.06428734,  0.19847363])"
      ]
     },
     "execution_count": 57,
     "metadata": {},
     "output_type": "execute_result"
    }
   ],
   "source": [
    "reg.coef_"
   ]
  },
  {
   "cell_type": "code",
   "execution_count": 58,
   "id": "5dde8c0a-b90d-494d-a084-1bb9c4d81ca5",
   "metadata": {
    "colab": {
     "base_uri": "https://localhost:8080/"
    },
    "id": "5dde8c0a-b90d-494d-a084-1bb9c4d81ca5",
    "outputId": "5e51fbfd-5b7a-4628-f1b0-97b99e0d9265"
   },
   "outputs": [
    {
     "data": {
      "text/plain": [
       "precip            -0.000008\n",
       "temp_max           0.966175\n",
       "temp_min           0.829905\n",
       "target             1.000000\n",
       "month_max          0.879336\n",
       "month_day_max     -0.337142\n",
       "max_min           -0.385202\n",
       "monthly_avg        0.908880\n",
       "day_of_year_avg    0.929737\n",
       "Name: target, dtype: float64"
      ]
     },
     "execution_count": 58,
     "metadata": {},
     "output_type": "execute_result"
    }
   ],
   "source": [
    "core_weather.corr()[\"target\"] #this shows how column are corelated to target"
   ]
  },
  {
   "cell_type": "code",
   "execution_count": 59,
   "id": "e9d8f53b-bb7a-40ee-ae20-98f075bd0d46",
   "metadata": {
    "id": "e9d8f53b-bb7a-40ee-ae20-98f075bd0d46"
   },
   "outputs": [],
   "source": [
    "combined[\"diff\"] = (combined[\"actual\"] - combined[\"predictions\"]).abs()"
   ]
  },
  {
   "cell_type": "code",
   "execution_count": 60,
   "id": "398ac252-59ea-4d97-9347-d2359843e944",
   "metadata": {
    "colab": {
     "base_uri": "https://localhost:8080/",
     "height": 394
    },
    "id": "398ac252-59ea-4d97-9347-d2359843e944",
    "outputId": "b5cb9201-4dd6-4858-eb2a-c926bf4133eb"
   },
   "outputs": [
    {
     "data": {
      "text/html": [
       "<div>\n",
       "<style scoped>\n",
       "    .dataframe tbody tr th:only-of-type {\n",
       "        vertical-align: middle;\n",
       "    }\n",
       "\n",
       "    .dataframe tbody tr th {\n",
       "        vertical-align: top;\n",
       "    }\n",
       "\n",
       "    .dataframe thead th {\n",
       "        text-align: right;\n",
       "    }\n",
       "</style>\n",
       "<table border=\"1\" class=\"dataframe\">\n",
       "  <thead>\n",
       "    <tr style=\"text-align: right;\">\n",
       "      <th></th>\n",
       "      <th>actual</th>\n",
       "      <th>predictions</th>\n",
       "      <th>diff</th>\n",
       "    </tr>\n",
       "    <tr>\n",
       "      <th>DATE</th>\n",
       "      <th></th>\n",
       "      <th></th>\n",
       "      <th></th>\n",
       "    </tr>\n",
       "  </thead>\n",
       "  <tbody>\n",
       "    <tr>\n",
       "      <th>2022-05-23</th>\n",
       "      <td>87.0</td>\n",
       "      <td>104.048278</td>\n",
       "      <td>17.048278</td>\n",
       "    </tr>\n",
       "    <tr>\n",
       "      <th>2022-06-17</th>\n",
       "      <td>85.0</td>\n",
       "      <td>99.650131</td>\n",
       "      <td>14.650131</td>\n",
       "    </tr>\n",
       "    <tr>\n",
       "      <th>2021-05-18</th>\n",
       "      <td>92.0</td>\n",
       "      <td>106.502757</td>\n",
       "      <td>14.502757</td>\n",
       "    </tr>\n",
       "    <tr>\n",
       "      <th>2023-05-24</th>\n",
       "      <td>93.0</td>\n",
       "      <td>107.182790</td>\n",
       "      <td>14.182790</td>\n",
       "    </tr>\n",
       "    <tr>\n",
       "      <th>2021-01-04</th>\n",
       "      <td>76.0</td>\n",
       "      <td>61.960986</td>\n",
       "      <td>14.039014</td>\n",
       "    </tr>\n",
       "    <tr>\n",
       "      <th>2021-10-17</th>\n",
       "      <td>82.0</td>\n",
       "      <td>95.489797</td>\n",
       "      <td>13.489797</td>\n",
       "    </tr>\n",
       "    <tr>\n",
       "      <th>2021-04-26</th>\n",
       "      <td>105.0</td>\n",
       "      <td>92.318250</td>\n",
       "      <td>12.681750</td>\n",
       "    </tr>\n",
       "    <tr>\n",
       "      <th>2022-12-20</th>\n",
       "      <td>59.0</td>\n",
       "      <td>70.854170</td>\n",
       "      <td>11.854170</td>\n",
       "    </tr>\n",
       "    <tr>\n",
       "      <th>2023-07-08</th>\n",
       "      <td>82.0</td>\n",
       "      <td>93.818055</td>\n",
       "      <td>11.818055</td>\n",
       "    </tr>\n",
       "    <tr>\n",
       "      <th>2021-06-09</th>\n",
       "      <td>111.0</td>\n",
       "      <td>99.392611</td>\n",
       "      <td>11.607389</td>\n",
       "    </tr>\n",
       "  </tbody>\n",
       "</table>\n",
       "</div>"
      ],
      "text/plain": [
       "            actual  predictions       diff\n",
       "DATE                                      \n",
       "2022-05-23    87.0   104.048278  17.048278\n",
       "2022-06-17    85.0    99.650131  14.650131\n",
       "2021-05-18    92.0   106.502757  14.502757\n",
       "2023-05-24    93.0   107.182790  14.182790\n",
       "2021-01-04    76.0    61.960986  14.039014\n",
       "2021-10-17    82.0    95.489797  13.489797\n",
       "2021-04-26   105.0    92.318250  12.681750\n",
       "2022-12-20    59.0    70.854170  11.854170\n",
       "2023-07-08    82.0    93.818055  11.818055\n",
       "2021-06-09   111.0    99.392611  11.607389"
      ]
     },
     "execution_count": 60,
     "metadata": {},
     "output_type": "execute_result"
    }
   ],
   "source": [
    "combined.sort_values(\"diff\", ascending=False).head(10)"
   ]
  },
  {
   "cell_type": "raw",
   "id": "9ab85461-e4d6-47f3-93cc-7f7f57b766e7",
   "metadata": {
    "id": "9ab85461-e4d6-47f3-93cc-7f7f57b766e7"
   },
   "source": [
    "# Next steps\n",
    "\n",
    "* Predict weather for entire next week versus a single day\n",
    "* Try data from multiple close-by weather stations over a region\n",
    "* Use more of the predictors in the data file\n",
    "* Create more predictors (ratios, daily averages, etc)\n",
    "* Try different algorithms\n",
    "* Setup backtesting to make predictions for all years (versus just 2021)"
   ]
  },
  {
   "cell_type": "code",
   "execution_count": null,
   "id": "0d474445",
   "metadata": {},
   "outputs": [],
   "source": []
  },
  {
   "cell_type": "code",
   "execution_count": null,
   "id": "4989c159",
   "metadata": {},
   "outputs": [],
   "source": []
  },
  {
   "cell_type": "code",
   "execution_count": null,
   "id": "b63fae9b",
   "metadata": {},
   "outputs": [],
   "source": []
  }
 ],
 "metadata": {
  "colab": {
   "provenance": []
  },
  "kernelspec": {
   "display_name": "Python 3 (ipykernel)",
   "language": "python",
   "name": "python3"
  },
  "language_info": {
   "codemirror_mode": {
    "name": "ipython",
    "version": 3
   },
   "file_extension": ".py",
   "mimetype": "text/x-python",
   "name": "python",
   "nbconvert_exporter": "python",
   "pygments_lexer": "ipython3",
   "version": "3.9.13"
  }
 },
 "nbformat": 4,
 "nbformat_minor": 5
}
