{
 "cells": [
  {
   "cell_type": "markdown",
   "id": "WMAvGPE7-gnO",
   "metadata": {
    "id": "WMAvGPE7-gnO"
   },
   "source": [
    "#WeatherWizard: A weather prediction ML model"
   ]
  },
  {
   "cell_type": "markdown",
   "id": "Vrtx1-fSlSD9",
   "metadata": {
    "id": "Vrtx1-fSlSD9"
   },
   "source": [
    "Downloading the data from NOAA (National Ocenic and Atmospheric Administration)"
   ]
  },
  {
   "cell_type": "code",
   "execution_count": 1,
   "id": "9daaae72",
   "metadata": {},
   "outputs": [],
   "source": [
    "import numpy as np"
   ]
  },
  {
   "cell_type": "code",
   "execution_count": 2,
   "id": "82a64e7e",
   "metadata": {},
   "outputs": [],
   "source": [
    "import warnings\n",
    "warnings.filterwarnings(\"ignore\")"
   ]
  },
  {
   "cell_type": "code",
   "execution_count": 3,
   "id": "70e571c4-1f59-4b6c-9a3e-a81b0e9a7d47",
   "metadata": {
    "id": "70e571c4-1f59-4b6c-9a3e-a81b0e9a7d47"
   },
   "outputs": [],
   "source": [
    "import pandas as pd\n",
    "\n",
    "weather = pd.read_csv(\"/Users/atanumondal/Desktop/WeatherWizard-main/data.csv\", index_col=\"DATE\")"
   ]
  },
  {
   "cell_type": "code",
   "execution_count": 4,
   "id": "9e1bcb16-b985-46a0-8347-2f93cbbb2674",
   "metadata": {
    "colab": {
     "base_uri": "https://localhost:8080/",
     "height": 991
    },
    "id": "9e1bcb16-b985-46a0-8347-2f93cbbb2674",
    "outputId": "849727a6-7235-4a1c-9df2-e0b78d396df3"
   },
   "outputs": [
    {
     "data": {
      "text/html": [
       "<div>\n",
       "<style scoped>\n",
       "    .dataframe tbody tr th:only-of-type {\n",
       "        vertical-align: middle;\n",
       "    }\n",
       "\n",
       "    .dataframe tbody tr th {\n",
       "        vertical-align: top;\n",
       "    }\n",
       "\n",
       "    .dataframe thead th {\n",
       "        text-align: right;\n",
       "    }\n",
       "</style>\n",
       "<table border=\"1\" class=\"dataframe\">\n",
       "  <thead>\n",
       "    <tr style=\"text-align: right;\">\n",
       "      <th></th>\n",
       "      <th>STATION</th>\n",
       "      <th>NAME</th>\n",
       "      <th>PRCP</th>\n",
       "      <th>SNWD</th>\n",
       "      <th>TAVG</th>\n",
       "      <th>TMAX</th>\n",
       "      <th>TMIN</th>\n",
       "    </tr>\n",
       "    <tr>\n",
       "      <th>DATE</th>\n",
       "      <th></th>\n",
       "      <th></th>\n",
       "      <th></th>\n",
       "      <th></th>\n",
       "      <th></th>\n",
       "      <th></th>\n",
       "      <th></th>\n",
       "    </tr>\n",
       "  </thead>\n",
       "  <tbody>\n",
       "    <tr>\n",
       "      <th>1975-03-20</th>\n",
       "      <td>IN018103100</td>\n",
       "      <td>PATIALA, IN</td>\n",
       "      <td>NaN</td>\n",
       "      <td>NaN</td>\n",
       "      <td>66.0</td>\n",
       "      <td>86.0</td>\n",
       "      <td>57.0</td>\n",
       "    </tr>\n",
       "    <tr>\n",
       "      <th>1975-03-24</th>\n",
       "      <td>IN018103100</td>\n",
       "      <td>PATIALA, IN</td>\n",
       "      <td>NaN</td>\n",
       "      <td>NaN</td>\n",
       "      <td>75.0</td>\n",
       "      <td>NaN</td>\n",
       "      <td>55.0</td>\n",
       "    </tr>\n",
       "    <tr>\n",
       "      <th>1975-04-06</th>\n",
       "      <td>IN018103100</td>\n",
       "      <td>PATIALA, IN</td>\n",
       "      <td>NaN</td>\n",
       "      <td>NaN</td>\n",
       "      <td>80.0</td>\n",
       "      <td>NaN</td>\n",
       "      <td>72.0</td>\n",
       "    </tr>\n",
       "    <tr>\n",
       "      <th>1975-04-08</th>\n",
       "      <td>IN018103100</td>\n",
       "      <td>PATIALA, IN</td>\n",
       "      <td>NaN</td>\n",
       "      <td>NaN</td>\n",
       "      <td>76.0</td>\n",
       "      <td>86.0</td>\n",
       "      <td>NaN</td>\n",
       "    </tr>\n",
       "    <tr>\n",
       "      <th>1975-04-09</th>\n",
       "      <td>IN018103100</td>\n",
       "      <td>PATIALA, IN</td>\n",
       "      <td>NaN</td>\n",
       "      <td>NaN</td>\n",
       "      <td>77.0</td>\n",
       "      <td>86.0</td>\n",
       "      <td>59.0</td>\n",
       "    </tr>\n",
       "  </tbody>\n",
       "</table>\n",
       "</div>"
      ],
      "text/plain": [
       "                STATION         NAME  PRCP  SNWD  TAVG  TMAX  TMIN\n",
       "DATE                                                              \n",
       "1975-03-20  IN018103100  PATIALA, IN   NaN   NaN  66.0  86.0  57.0\n",
       "1975-03-24  IN018103100  PATIALA, IN   NaN   NaN  75.0   NaN  55.0\n",
       "1975-04-06  IN018103100  PATIALA, IN   NaN   NaN  80.0   NaN  72.0\n",
       "1975-04-08  IN018103100  PATIALA, IN   NaN   NaN  76.0  86.0   NaN\n",
       "1975-04-09  IN018103100  PATIALA, IN   NaN   NaN  77.0  86.0  59.0"
      ]
     },
     "execution_count": 4,
     "metadata": {},
     "output_type": "execute_result"
    }
   ],
   "source": [
    "weather.head()"
   ]
  },
  {
   "cell_type": "markdown",
   "id": "mOv4QDvVI_u1",
   "metadata": {
    "id": "mOv4QDvVI_u1"
   },
   "source": [
    "Checking the ratio of null values in each column\n"
   ]
  },
  {
   "cell_type": "code",
   "execution_count": 5,
   "id": "82b52234",
   "metadata": {},
   "outputs": [
    {
     "data": {
      "text/plain": [
       "16443"
      ]
     },
     "execution_count": 5,
     "metadata": {},
     "output_type": "execute_result"
    }
   ],
   "source": [
    "weather.shape[0]"
   ]
  },
  {
   "cell_type": "code",
   "execution_count": 6,
   "id": "aed0bb77",
   "metadata": {},
   "outputs": [
    {
     "data": {
      "text/plain": [
       "STATION        0\n",
       "NAME           0\n",
       "PRCP        7471\n",
       "SNWD       16440\n",
       "TAVG         234\n",
       "TMAX        2214\n",
       "TMIN        4832\n",
       "dtype: int64"
      ]
     },
     "execution_count": 6,
     "metadata": {},
     "output_type": "execute_result"
    }
   ],
   "source": [
    "weather.apply(pd.isnull).sum()"
   ]
  },
  {
   "cell_type": "code",
   "execution_count": 7,
   "id": "265befae-8b24-422c-82d9-ccfa8f708b88",
   "metadata": {
    "colab": {
     "base_uri": "https://localhost:8080/"
    },
    "id": "265befae-8b24-422c-82d9-ccfa8f708b88",
    "outputId": "cc75b3a5-63bf-46ef-f20b-e40927ecf6a3"
   },
   "outputs": [
    {
     "data": {
      "text/plain": [
       "STATION    0.000000\n",
       "NAME       0.000000\n",
       "PRCP       0.454357\n",
       "SNWD       0.999818\n",
       "TAVG       0.014231\n",
       "TMAX       0.134647\n",
       "TMIN       0.293864\n",
       "dtype: float64"
      ]
     },
     "execution_count": 7,
     "metadata": {},
     "output_type": "execute_result"
    }
   ],
   "source": [
    "weather.apply(pd.isnull).sum()/weather.shape[0]"
   ]
  },
  {
   "cell_type": "markdown",
   "id": "oNZafT91KHcJ",
   "metadata": {
    "id": "oNZafT91KHcJ"
   },
   "source": [
    "Picking out core parameters as per documentation and renaming them"
   ]
  },
  {
   "cell_type": "code",
   "execution_count": 8,
   "id": "e5be1bcd-0b68-47d7-8c56-b8299fe54e66",
   "metadata": {
    "id": "e5be1bcd-0b68-47d7-8c56-b8299fe54e66"
   },
   "outputs": [],
   "source": [
    "core_weather = weather[[\"PRCP\", \"SNWD\", \"TMAX\", \"TMIN\"]].copy()\n",
    "core_weather.columns = [\"precip\", \"snow_depth\", \"temp_max\", \"temp_min\"]"
   ]
  },
  {
   "cell_type": "code",
   "execution_count": 9,
   "id": "2d32ee77-7cf2-491a-889c-a5da1d3afa9a",
   "metadata": {
    "colab": {
     "base_uri": "https://localhost:8080/"
    },
    "id": "2d32ee77-7cf2-491a-889c-a5da1d3afa9a",
    "outputId": "7d9bd432-0963-4305-ca9b-a24c4bf45e69"
   },
   "outputs": [
    {
     "data": {
      "text/plain": [
       "precip        0.454357\n",
       "snow_depth    0.999818\n",
       "temp_max      0.134647\n",
       "temp_min      0.293864\n",
       "dtype: float64"
      ]
     },
     "execution_count": 9,
     "metadata": {},
     "output_type": "execute_result"
    }
   ],
   "source": [
    "core_weather.apply(pd.isnull).sum()/core_weather.shape[0]"
   ]
  },
  {
   "cell_type": "code",
   "execution_count": 10,
   "id": "1816ed63-e162-4567-a19d-a42fb8b13448",
   "metadata": {
    "colab": {
     "base_uri": "https://localhost:8080/"
    },
    "id": "1816ed63-e162-4567-a19d-a42fb8b13448",
    "outputId": "a8c9c86b-c4a2-4690-d445-463b3b947b55"
   },
   "outputs": [
    {
     "data": {
      "text/plain": [
       "3.1    2\n",
       "7.1    1\n",
       "Name: snow_depth, dtype: int64"
      ]
     },
     "execution_count": 10,
     "metadata": {},
     "output_type": "execute_result"
    }
   ],
   "source": [
    "core_weather[\"snow_depth\"].value_counts()"
   ]
  },
  {
   "cell_type": "code",
   "execution_count": 11,
   "id": "f72f4943",
   "metadata": {},
   "outputs": [
    {
     "data": {
      "text/html": [
       "<div>\n",
       "<style scoped>\n",
       "    .dataframe tbody tr th:only-of-type {\n",
       "        vertical-align: middle;\n",
       "    }\n",
       "\n",
       "    .dataframe tbody tr th {\n",
       "        vertical-align: top;\n",
       "    }\n",
       "\n",
       "    .dataframe thead th {\n",
       "        text-align: right;\n",
       "    }\n",
       "</style>\n",
       "<table border=\"1\" class=\"dataframe\">\n",
       "  <thead>\n",
       "    <tr style=\"text-align: right;\">\n",
       "      <th></th>\n",
       "      <th>precip</th>\n",
       "      <th>snow_depth</th>\n",
       "      <th>temp_max</th>\n",
       "      <th>temp_min</th>\n",
       "    </tr>\n",
       "    <tr>\n",
       "      <th>DATE</th>\n",
       "      <th></th>\n",
       "      <th></th>\n",
       "      <th></th>\n",
       "      <th></th>\n",
       "    </tr>\n",
       "  </thead>\n",
       "  <tbody>\n",
       "    <tr>\n",
       "      <th>1975-03-20</th>\n",
       "      <td>NaN</td>\n",
       "      <td>NaN</td>\n",
       "      <td>86.0</td>\n",
       "      <td>57.0</td>\n",
       "    </tr>\n",
       "    <tr>\n",
       "      <th>1975-03-24</th>\n",
       "      <td>NaN</td>\n",
       "      <td>NaN</td>\n",
       "      <td>NaN</td>\n",
       "      <td>55.0</td>\n",
       "    </tr>\n",
       "    <tr>\n",
       "      <th>1975-04-06</th>\n",
       "      <td>NaN</td>\n",
       "      <td>NaN</td>\n",
       "      <td>NaN</td>\n",
       "      <td>72.0</td>\n",
       "    </tr>\n",
       "    <tr>\n",
       "      <th>1975-04-08</th>\n",
       "      <td>NaN</td>\n",
       "      <td>NaN</td>\n",
       "      <td>86.0</td>\n",
       "      <td>NaN</td>\n",
       "    </tr>\n",
       "    <tr>\n",
       "      <th>1975-04-09</th>\n",
       "      <td>NaN</td>\n",
       "      <td>NaN</td>\n",
       "      <td>86.0</td>\n",
       "      <td>59.0</td>\n",
       "    </tr>\n",
       "    <tr>\n",
       "      <th>...</th>\n",
       "      <td>...</td>\n",
       "      <td>...</td>\n",
       "      <td>...</td>\n",
       "      <td>...</td>\n",
       "    </tr>\n",
       "    <tr>\n",
       "      <th>2023-08-12</th>\n",
       "      <td>NaN</td>\n",
       "      <td>NaN</td>\n",
       "      <td>97.0</td>\n",
       "      <td>83.0</td>\n",
       "    </tr>\n",
       "    <tr>\n",
       "      <th>2023-08-13</th>\n",
       "      <td>NaN</td>\n",
       "      <td>NaN</td>\n",
       "      <td>96.0</td>\n",
       "      <td>82.0</td>\n",
       "    </tr>\n",
       "    <tr>\n",
       "      <th>2023-08-14</th>\n",
       "      <td>NaN</td>\n",
       "      <td>NaN</td>\n",
       "      <td>95.0</td>\n",
       "      <td>81.0</td>\n",
       "    </tr>\n",
       "    <tr>\n",
       "      <th>2023-08-15</th>\n",
       "      <td>NaN</td>\n",
       "      <td>NaN</td>\n",
       "      <td>97.0</td>\n",
       "      <td>81.0</td>\n",
       "    </tr>\n",
       "    <tr>\n",
       "      <th>2023-08-16</th>\n",
       "      <td>0.0</td>\n",
       "      <td>NaN</td>\n",
       "      <td>98.0</td>\n",
       "      <td>82.0</td>\n",
       "    </tr>\n",
       "  </tbody>\n",
       "</table>\n",
       "<p>16443 rows × 4 columns</p>\n",
       "</div>"
      ],
      "text/plain": [
       "            precip  snow_depth  temp_max  temp_min\n",
       "DATE                                              \n",
       "1975-03-20     NaN         NaN      86.0      57.0\n",
       "1975-03-24     NaN         NaN       NaN      55.0\n",
       "1975-04-06     NaN         NaN       NaN      72.0\n",
       "1975-04-08     NaN         NaN      86.0       NaN\n",
       "1975-04-09     NaN         NaN      86.0      59.0\n",
       "...            ...         ...       ...       ...\n",
       "2023-08-12     NaN         NaN      97.0      83.0\n",
       "2023-08-13     NaN         NaN      96.0      82.0\n",
       "2023-08-14     NaN         NaN      95.0      81.0\n",
       "2023-08-15     NaN         NaN      97.0      81.0\n",
       "2023-08-16     0.0         NaN      98.0      82.0\n",
       "\n",
       "[16443 rows x 4 columns]"
      ]
     },
     "execution_count": 11,
     "metadata": {},
     "output_type": "execute_result"
    }
   ],
   "source": [
    "core_weather"
   ]
  },
  {
   "cell_type": "code",
   "execution_count": 12,
   "id": "81b0144b-fbad-4da2-b27d-8aa591bb0189",
   "metadata": {
    "id": "81b0144b-fbad-4da2-b27d-8aa591bb0189"
   },
   "outputs": [],
   "source": [
    "del core_weather[\"snow_depth\"]"
   ]
  },
  {
   "cell_type": "code",
   "execution_count": 13,
   "id": "63001050-a478-40f5-a03e-f11c3b8271d3",
   "metadata": {
    "colab": {
     "base_uri": "https://localhost:8080/",
     "height": 455
    },
    "id": "63001050-a478-40f5-a03e-f11c3b8271d3",
    "outputId": "1aef7c04-7f94-4bf4-b240-8a3b5c178a44"
   },
   "outputs": [
    {
     "data": {
      "text/html": [
       "<div>\n",
       "<style scoped>\n",
       "    .dataframe tbody tr th:only-of-type {\n",
       "        vertical-align: middle;\n",
       "    }\n",
       "\n",
       "    .dataframe tbody tr th {\n",
       "        vertical-align: top;\n",
       "    }\n",
       "\n",
       "    .dataframe thead th {\n",
       "        text-align: right;\n",
       "    }\n",
       "</style>\n",
       "<table border=\"1\" class=\"dataframe\">\n",
       "  <thead>\n",
       "    <tr style=\"text-align: right;\">\n",
       "      <th></th>\n",
       "      <th>precip</th>\n",
       "      <th>temp_max</th>\n",
       "      <th>temp_min</th>\n",
       "    </tr>\n",
       "    <tr>\n",
       "      <th>DATE</th>\n",
       "      <th></th>\n",
       "      <th></th>\n",
       "      <th></th>\n",
       "    </tr>\n",
       "  </thead>\n",
       "  <tbody>\n",
       "    <tr>\n",
       "      <th>1975-03-20</th>\n",
       "      <td>NaN</td>\n",
       "      <td>86.0</td>\n",
       "      <td>57.0</td>\n",
       "    </tr>\n",
       "    <tr>\n",
       "      <th>1975-03-24</th>\n",
       "      <td>NaN</td>\n",
       "      <td>NaN</td>\n",
       "      <td>55.0</td>\n",
       "    </tr>\n",
       "    <tr>\n",
       "      <th>1975-04-06</th>\n",
       "      <td>NaN</td>\n",
       "      <td>NaN</td>\n",
       "      <td>72.0</td>\n",
       "    </tr>\n",
       "    <tr>\n",
       "      <th>1975-04-08</th>\n",
       "      <td>NaN</td>\n",
       "      <td>86.0</td>\n",
       "      <td>NaN</td>\n",
       "    </tr>\n",
       "    <tr>\n",
       "      <th>1975-04-09</th>\n",
       "      <td>NaN</td>\n",
       "      <td>86.0</td>\n",
       "      <td>59.0</td>\n",
       "    </tr>\n",
       "    <tr>\n",
       "      <th>...</th>\n",
       "      <td>...</td>\n",
       "      <td>...</td>\n",
       "      <td>...</td>\n",
       "    </tr>\n",
       "    <tr>\n",
       "      <th>2023-08-11</th>\n",
       "      <td>NaN</td>\n",
       "      <td>97.0</td>\n",
       "      <td>80.0</td>\n",
       "    </tr>\n",
       "    <tr>\n",
       "      <th>2023-08-12</th>\n",
       "      <td>NaN</td>\n",
       "      <td>97.0</td>\n",
       "      <td>83.0</td>\n",
       "    </tr>\n",
       "    <tr>\n",
       "      <th>2023-08-13</th>\n",
       "      <td>NaN</td>\n",
       "      <td>96.0</td>\n",
       "      <td>82.0</td>\n",
       "    </tr>\n",
       "    <tr>\n",
       "      <th>2023-08-14</th>\n",
       "      <td>NaN</td>\n",
       "      <td>95.0</td>\n",
       "      <td>81.0</td>\n",
       "    </tr>\n",
       "    <tr>\n",
       "      <th>2023-08-15</th>\n",
       "      <td>NaN</td>\n",
       "      <td>97.0</td>\n",
       "      <td>81.0</td>\n",
       "    </tr>\n",
       "  </tbody>\n",
       "</table>\n",
       "<p>7471 rows × 3 columns</p>\n",
       "</div>"
      ],
      "text/plain": [
       "            precip  temp_max  temp_min\n",
       "DATE                                  \n",
       "1975-03-20     NaN      86.0      57.0\n",
       "1975-03-24     NaN       NaN      55.0\n",
       "1975-04-06     NaN       NaN      72.0\n",
       "1975-04-08     NaN      86.0       NaN\n",
       "1975-04-09     NaN      86.0      59.0\n",
       "...            ...       ...       ...\n",
       "2023-08-11     NaN      97.0      80.0\n",
       "2023-08-12     NaN      97.0      83.0\n",
       "2023-08-13     NaN      96.0      82.0\n",
       "2023-08-14     NaN      95.0      81.0\n",
       "2023-08-15     NaN      97.0      81.0\n",
       "\n",
       "[7471 rows x 3 columns]"
      ]
     },
     "execution_count": 13,
     "metadata": {},
     "output_type": "execute_result"
    }
   ],
   "source": [
    "core_weather[pd.isnull(core_weather[\"precip\"])]"
   ]
  },
  {
   "cell_type": "code",
   "execution_count": 14,
   "id": "0fd5eab5-02b6-48f7-80df-651aaf50a3ac",
   "metadata": {
    "colab": {
     "base_uri": "https://localhost:8080/"
    },
    "id": "0fd5eab5-02b6-48f7-80df-651aaf50a3ac",
    "outputId": "004d79d2-3008-4540-8db1-0904ccfa4f31"
   },
   "outputs": [
    {
     "data": {
      "text/plain": [
       "0.00     0.409658\n",
       "0.02     0.010217\n",
       "0.04     0.009427\n",
       "0.08     0.008818\n",
       "0.12     0.008210\n",
       "           ...   \n",
       "7.76     0.000061\n",
       "0.73     0.000061\n",
       "1.60     0.000061\n",
       "10.42    0.000061\n",
       "5.31     0.000061\n",
       "Name: precip, Length: 305, dtype: float64"
      ]
     },
     "execution_count": 14,
     "metadata": {},
     "output_type": "execute_result"
    }
   ],
   "source": [
    "core_weather[\"precip\"].value_counts() / core_weather.shape[0]"
   ]
  },
  {
   "cell_type": "markdown",
   "id": "R4pZtE40euJF",
   "metadata": {
    "id": "R4pZtE40euJF"
   },
   "source": [
    "Filling the missing values as 0"
   ]
  },
  {
   "cell_type": "code",
   "execution_count": 15,
   "id": "1fd26762-c3f9-4d31-9db9-a67ca259db39",
   "metadata": {
    "id": "1fd26762-c3f9-4d31-9db9-a67ca259db39"
   },
   "outputs": [],
   "source": [
    "core_weather[\"precip\"] = core_weather[\"precip\"].fillna(0)"
   ]
  },
  {
   "cell_type": "code",
   "execution_count": 16,
   "id": "ab0903ff-094d-408e-be49-8407251d44d2",
   "metadata": {
    "colab": {
     "base_uri": "https://localhost:8080/"
    },
    "id": "ab0903ff-094d-408e-be49-8407251d44d2",
    "outputId": "b8111656-14b1-4b9c-c9cc-53115603834d"
   },
   "outputs": [
    {
     "data": {
      "text/plain": [
       "precip         0\n",
       "temp_max    2214\n",
       "temp_min    4832\n",
       "dtype: int64"
      ]
     },
     "execution_count": 16,
     "metadata": {},
     "output_type": "execute_result"
    }
   ],
   "source": [
    "core_weather.apply(pd.isnull).sum()"
   ]
  },
  {
   "cell_type": "code",
   "execution_count": 17,
   "id": "ee291f2c-160a-4b9e-97d7-a7b2046be34f",
   "metadata": {
    "colab": {
     "base_uri": "https://localhost:8080/",
     "height": 455
    },
    "id": "ee291f2c-160a-4b9e-97d7-a7b2046be34f",
    "outputId": "e12f092d-adb9-4c48-df99-0547d144f002"
   },
   "outputs": [
    {
     "data": {
      "text/html": [
       "<div>\n",
       "<style scoped>\n",
       "    .dataframe tbody tr th:only-of-type {\n",
       "        vertical-align: middle;\n",
       "    }\n",
       "\n",
       "    .dataframe tbody tr th {\n",
       "        vertical-align: top;\n",
       "    }\n",
       "\n",
       "    .dataframe thead th {\n",
       "        text-align: right;\n",
       "    }\n",
       "</style>\n",
       "<table border=\"1\" class=\"dataframe\">\n",
       "  <thead>\n",
       "    <tr style=\"text-align: right;\">\n",
       "      <th></th>\n",
       "      <th>precip</th>\n",
       "      <th>temp_max</th>\n",
       "      <th>temp_min</th>\n",
       "    </tr>\n",
       "    <tr>\n",
       "      <th>DATE</th>\n",
       "      <th></th>\n",
       "      <th></th>\n",
       "      <th></th>\n",
       "    </tr>\n",
       "  </thead>\n",
       "  <tbody>\n",
       "    <tr>\n",
       "      <th>1975-04-08</th>\n",
       "      <td>0.00</td>\n",
       "      <td>86.0</td>\n",
       "      <td>NaN</td>\n",
       "    </tr>\n",
       "    <tr>\n",
       "      <th>1975-04-12</th>\n",
       "      <td>0.00</td>\n",
       "      <td>95.0</td>\n",
       "      <td>NaN</td>\n",
       "    </tr>\n",
       "    <tr>\n",
       "      <th>1975-04-14</th>\n",
       "      <td>0.00</td>\n",
       "      <td>95.0</td>\n",
       "      <td>NaN</td>\n",
       "    </tr>\n",
       "    <tr>\n",
       "      <th>1975-04-20</th>\n",
       "      <td>0.00</td>\n",
       "      <td>NaN</td>\n",
       "      <td>NaN</td>\n",
       "    </tr>\n",
       "    <tr>\n",
       "      <th>1975-04-22</th>\n",
       "      <td>0.00</td>\n",
       "      <td>NaN</td>\n",
       "      <td>NaN</td>\n",
       "    </tr>\n",
       "    <tr>\n",
       "      <th>...</th>\n",
       "      <td>...</td>\n",
       "      <td>...</td>\n",
       "      <td>...</td>\n",
       "    </tr>\n",
       "    <tr>\n",
       "      <th>2023-07-27</th>\n",
       "      <td>0.00</td>\n",
       "      <td>95.0</td>\n",
       "      <td>NaN</td>\n",
       "    </tr>\n",
       "    <tr>\n",
       "      <th>2023-07-30</th>\n",
       "      <td>0.00</td>\n",
       "      <td>94.0</td>\n",
       "      <td>NaN</td>\n",
       "    </tr>\n",
       "    <tr>\n",
       "      <th>2023-08-02</th>\n",
       "      <td>0.00</td>\n",
       "      <td>98.0</td>\n",
       "      <td>NaN</td>\n",
       "    </tr>\n",
       "    <tr>\n",
       "      <th>2023-08-06</th>\n",
       "      <td>0.12</td>\n",
       "      <td>97.0</td>\n",
       "      <td>NaN</td>\n",
       "    </tr>\n",
       "    <tr>\n",
       "      <th>2023-08-09</th>\n",
       "      <td>0.00</td>\n",
       "      <td>96.0</td>\n",
       "      <td>NaN</td>\n",
       "    </tr>\n",
       "  </tbody>\n",
       "</table>\n",
       "<p>4832 rows × 3 columns</p>\n",
       "</div>"
      ],
      "text/plain": [
       "            precip  temp_max  temp_min\n",
       "DATE                                  \n",
       "1975-04-08    0.00      86.0       NaN\n",
       "1975-04-12    0.00      95.0       NaN\n",
       "1975-04-14    0.00      95.0       NaN\n",
       "1975-04-20    0.00       NaN       NaN\n",
       "1975-04-22    0.00       NaN       NaN\n",
       "...            ...       ...       ...\n",
       "2023-07-27    0.00      95.0       NaN\n",
       "2023-07-30    0.00      94.0       NaN\n",
       "2023-08-02    0.00      98.0       NaN\n",
       "2023-08-06    0.12      97.0       NaN\n",
       "2023-08-09    0.00      96.0       NaN\n",
       "\n",
       "[4832 rows x 3 columns]"
      ]
     },
     "execution_count": 17,
     "metadata": {},
     "output_type": "execute_result"
    }
   ],
   "source": [
    "core_weather[pd.isnull(core_weather[\"temp_min\"])]"
   ]
  },
  {
   "cell_type": "code",
   "execution_count": 18,
   "id": "b3af3c18-c6e0-4ab5-8c83-491d7ec70b91",
   "metadata": {
    "id": "b3af3c18-c6e0-4ab5-8c83-491d7ec70b91"
   },
   "outputs": [],
   "source": [
    "core_weather = core_weather.fillna(method=\"ffill\")"
   ]
  },
  {
   "cell_type": "code",
   "execution_count": 19,
   "id": "5063e87b-a08c-44c5-b747-9118dc775576",
   "metadata": {
    "colab": {
     "base_uri": "https://localhost:8080/"
    },
    "id": "5063e87b-a08c-44c5-b747-9118dc775576",
    "outputId": "46e401bb-ae83-43e4-9172-1deeb61b0cb7"
   },
   "outputs": [
    {
     "data": {
      "text/plain": [
       "precip      0\n",
       "temp_max    0\n",
       "temp_min    0\n",
       "dtype: int64"
      ]
     },
     "execution_count": 19,
     "metadata": {},
     "output_type": "execute_result"
    }
   ],
   "source": [
    "core_weather.apply(pd.isnull).sum()"
   ]
  },
  {
   "cell_type": "code",
   "execution_count": 20,
   "id": "c1c6f47e-251b-47ab-bde6-7fc376ec72c5",
   "metadata": {
    "colab": {
     "base_uri": "https://localhost:8080/"
    },
    "id": "c1c6f47e-251b-47ab-bde6-7fc376ec72c5",
    "outputId": "137dc629-2a62-4299-f875-acf04aac56e2"
   },
   "outputs": [
    {
     "data": {
      "text/plain": [
       "precip      float64\n",
       "temp_max    float64\n",
       "temp_min    float64\n",
       "dtype: object"
      ]
     },
     "execution_count": 20,
     "metadata": {},
     "output_type": "execute_result"
    }
   ],
   "source": [
    "core_weather.dtypes"
   ]
  },
  {
   "cell_type": "code",
   "execution_count": 21,
   "id": "8baa093d-3b68-4a95-a243-fa5393f0ba3b",
   "metadata": {
    "colab": {
     "base_uri": "https://localhost:8080/"
    },
    "id": "8baa093d-3b68-4a95-a243-fa5393f0ba3b",
    "outputId": "06d1b1b7-cc69-4879-805c-0716971ef9df"
   },
   "outputs": [
    {
     "data": {
      "text/plain": [
       "Index(['1975-03-20', '1975-03-24', '1975-04-06', '1975-04-08', '1975-04-09',\n",
       "       '1975-04-12', '1975-04-13', '1975-04-14', '1975-04-15', '1975-04-17',\n",
       "       ...\n",
       "       '2023-08-07', '2023-08-08', '2023-08-09', '2023-08-10', '2023-08-11',\n",
       "       '2023-08-12', '2023-08-13', '2023-08-14', '2023-08-15', '2023-08-16'],\n",
       "      dtype='object', name='DATE', length=16443)"
      ]
     },
     "execution_count": 21,
     "metadata": {},
     "output_type": "execute_result"
    }
   ],
   "source": [
    "core_weather.index"
   ]
  },
  {
   "cell_type": "markdown",
   "id": "rGOegdwcgVBk",
   "metadata": {
    "id": "rGOegdwcgVBk"
   },
   "source": [
    "Converting date from object datatype to datetime"
   ]
  },
  {
   "cell_type": "code",
   "execution_count": 22,
   "id": "785190be-3098-4f70-85f2-28e110b6c331",
   "metadata": {
    "id": "785190be-3098-4f70-85f2-28e110b6c331"
   },
   "outputs": [],
   "source": [
    "core_weather.index = pd.to_datetime(core_weather.index)"
   ]
  },
  {
   "cell_type": "code",
   "execution_count": 23,
   "id": "6b942d11-f7bf-4dda-b513-9d38f3664e72",
   "metadata": {
    "colab": {
     "base_uri": "https://localhost:8080/"
    },
    "id": "6b942d11-f7bf-4dda-b513-9d38f3664e72",
    "outputId": "0e3eb54d-6cff-4532-d544-9036bd4bca55"
   },
   "outputs": [
    {
     "data": {
      "text/plain": [
       "DatetimeIndex(['1975-03-20', '1975-03-24', '1975-04-06', '1975-04-08',\n",
       "               '1975-04-09', '1975-04-12', '1975-04-13', '1975-04-14',\n",
       "               '1975-04-15', '1975-04-17',\n",
       "               ...\n",
       "               '2023-08-07', '2023-08-08', '2023-08-09', '2023-08-10',\n",
       "               '2023-08-11', '2023-08-12', '2023-08-13', '2023-08-14',\n",
       "               '2023-08-15', '2023-08-16'],\n",
       "              dtype='datetime64[ns]', name='DATE', length=16443, freq=None)"
      ]
     },
     "execution_count": 23,
     "metadata": {},
     "output_type": "execute_result"
    }
   ],
   "source": [
    "core_weather.index"
   ]
  },
  {
   "cell_type": "code",
   "execution_count": 24,
   "id": "dbbd26b2-0407-4bf7-9ab2-5d1b8c7afd08",
   "metadata": {
    "colab": {
     "base_uri": "https://localhost:8080/"
    },
    "id": "dbbd26b2-0407-4bf7-9ab2-5d1b8c7afd08",
    "outputId": "608fdbf6-1655-45ca-9126-855357885191"
   },
   "outputs": [
    {
     "data": {
      "text/plain": [
       "Int64Index([1975, 1975, 1975, 1975, 1975, 1975, 1975, 1975, 1975, 1975,\n",
       "            ...\n",
       "            2023, 2023, 2023, 2023, 2023, 2023, 2023, 2023, 2023, 2023],\n",
       "           dtype='int64', name='DATE', length=16443)"
      ]
     },
     "execution_count": 24,
     "metadata": {},
     "output_type": "execute_result"
    }
   ],
   "source": [
    "core_weather.index.year"
   ]
  },
  {
   "cell_type": "markdown",
   "id": "eRNH-kNEhL0M",
   "metadata": {
    "id": "eRNH-kNEhL0M"
   },
   "source": [
    "Checking for any data that has not been received"
   ]
  },
  {
   "cell_type": "code",
   "execution_count": 25,
   "id": "0XANDbcmhDnS",
   "metadata": {
    "colab": {
     "base_uri": "https://localhost:8080/"
    },
    "id": "0XANDbcmhDnS",
    "outputId": "4f9b9b48-aed3-47e8-c19f-d8b72c89b07d"
   },
   "outputs": [
    {
     "data": {
      "text/plain": [
       "precip      0\n",
       "temp_max    0\n",
       "temp_min    0\n",
       "dtype: int64"
      ]
     },
     "execution_count": 25,
     "metadata": {},
     "output_type": "execute_result"
    }
   ],
   "source": [
    "core_weather.apply(lambda x:(x==9999)).sum()"
   ]
  },
  {
   "cell_type": "markdown",
   "id": "cdhncjCFhqjz",
   "metadata": {
    "id": "cdhncjCFhqjz"
   },
   "source": [
    "Analysing the data"
   ]
  },
  {
   "cell_type": "code",
   "execution_count": 26,
   "id": "0cd433ec-9844-4281-901d-dd48f2b66a0f",
   "metadata": {
    "colab": {
     "base_uri": "https://localhost:8080/",
     "height": 441
    },
    "id": "0cd433ec-9844-4281-901d-dd48f2b66a0f",
    "outputId": "166da407-0968-48f2-8bd6-0711b62ca7f4"
   },
   "outputs": [
    {
     "data": {
      "text/plain": [
       "<AxesSubplot:xlabel='DATE'>"
      ]
     },
     "execution_count": 26,
     "metadata": {},
     "output_type": "execute_result"
    },
    {
     "data": {
      "image/png": "[encoded data removed]",
      "text/plain": [
       "<Figure size 640x480 with 1 Axes>"
      ]
     },
     "metadata": {},
     "output_type": "display_data"
    }
   ],
   "source": [
    "core_weather[[\"temp_max\", \"temp_min\"]].plot()"
   ]
  },
  {
   "cell_type": "code",
   "execution_count": 27,
   "id": "d1980061-0369-41ff-96bb-6b8f2743e079",
   "metadata": {
    "colab": {
     "base_uri": "https://localhost:8080/"
    },
    "id": "d1980061-0369-41ff-96bb-6b8f2743e079",
    "outputId": "fd41caa4-ddfd-41ad-b538-69b893903373"
   },
   "outputs": [
    {
     "data": {
      "text/plain": [
       "1975    102\n",
       "1976     15\n",
       "1977    365\n",
       "1978    365\n",
       "1979    317\n",
       "1980    366\n",
       "1981    365\n",
       "1982    365\n",
       "1983    365\n",
       "1984    366\n",
       "1985    326\n",
       "1986    317\n",
       "1987    354\n",
       "1988    325\n",
       "1989    319\n",
       "1990    269\n",
       "1991    343\n",
       "1992    352\n",
       "1993    291\n",
       "1994    318\n",
       "1995    312\n",
       "1996    342\n",
       "1997    329\n",
       "1998    348\n",
       "1999    351\n",
       "2000    362\n",
       "2001    363\n",
       "2002    360\n",
       "2003    363\n",
       "2004    361\n",
       "2005    360\n",
       "2006    362\n",
       "2007    356\n",
       "2008    364\n",
       "2009    361\n",
       "2010    357\n",
       "2011    358\n",
       "2012    366\n",
       "2013    365\n",
       "2014    365\n",
       "2015    365\n",
       "2016    363\n",
       "2017    362\n",
       "2018    364\n",
       "2019    364\n",
       "2020    366\n",
       "2021    361\n",
       "2022    360\n",
       "2023    228\n",
       "Name: DATE, dtype: int64"
      ]
     },
     "execution_count": 27,
     "metadata": {},
     "output_type": "execute_result"
    }
   ],
   "source": [
    "core_weather.index.year.value_counts().sort_index()"
   ]
  },
  {
   "cell_type": "code",
   "execution_count": 28,
   "id": "0ff3f731-9568-43a1-9651-2a20c1e9c792",
   "metadata": {
    "colab": {
     "base_uri": "https://localhost:8080/",
     "height": 440
    },
    "id": "0ff3f731-9568-43a1-9651-2a20c1e9c792",
    "outputId": "df293bc0-0273-4cef-f65e-a2ab7e36f28d"
   },
   "outputs": [
    {
     "data": {
      "text/plain": [
       "<AxesSubplot:xlabel='DATE'>"
      ]
     },
     "execution_count": 28,
     "metadata": {},
     "output_type": "execute_result"
    },
    {
     "data": {
      "image/png": "[encoded data removed]",
      "text/plain": [
       "<Figure size 640x480 with 1 Axes>"
      ]
     },
     "metadata": {},
     "output_type": "display_data"
    }
   ],
   "source": [
    "core_weather[\"precip\"].plot()"
   ]
  },
  {
   "cell_type": "markdown",
   "id": "u1rd5nKzjWGe",
   "metadata": {
    "id": "u1rd5nKzjWGe"
   },
   "source": [
    "Year-wise rain count"
   ]
  },
  {
   "cell_type": "code",
   "execution_count": 29,
   "id": "qbdofaDojCYB",
   "metadata": {
    "colab": {
     "base_uri": "https://localhost:8080/"
    },
    "id": "qbdofaDojCYB",
    "outputId": "81fba61e-f256-40f4-f01c-5e3c9b5d0b4c"
   },
   "outputs": [
    {
     "data": {
      "text/plain": [
       "DATE\n",
       "1975      0.00\n",
       "1976      0.00\n",
       "1977     96.64\n",
       "1978     79.53\n",
       "1979     13.06\n",
       "1980     96.22\n",
       "1981     65.76\n",
       "1982    101.89\n",
       "1983    114.35\n",
       "1984     72.83\n",
       "1985     20.81\n",
       "1986     19.56\n",
       "1987      7.74\n",
       "1988     27.33\n",
       "1989     17.85\n",
       "1990     19.00\n",
       "1991     26.26\n",
       "1992     23.96\n",
       "1993     13.31\n",
       "1994     27.69\n",
       "1995     37.41\n",
       "1996     26.10\n",
       "1997     20.78\n",
       "1998     29.14\n",
       "1999     17.73\n",
       "2000     24.73\n",
       "2001     14.10\n",
       "2002     15.84\n",
       "2003     24.30\n",
       "2004     23.06\n",
       "2005     19.32\n",
       "2006     11.88\n",
       "2007     13.52\n",
       "2008     45.40\n",
       "2009     18.48\n",
       "2010     34.12\n",
       "2011     28.07\n",
       "2012     13.22\n",
       "2013     25.55\n",
       "2014     20.01\n",
       "2015     29.18\n",
       "2016     13.91\n",
       "2017     29.99\n",
       "2018     31.03\n",
       "2019     30.88\n",
       "2020     29.43\n",
       "2021     25.37\n",
       "2022     17.44\n",
       "2023     24.88\n",
       "Name: precip, dtype: float64"
      ]
     },
     "execution_count": 29,
     "metadata": {},
     "output_type": "execute_result"
    }
   ],
   "source": [
    "core_weather.groupby(core_weather.index.year).sum()[\"precip\"]"
   ]
  },
  {
   "cell_type": "code",
   "execution_count": 30,
   "id": "27230d8e-e4a6-40ee-bb03-5f435a250b6f",
   "metadata": {
    "colab": {
     "base_uri": "https://localhost:8080/",
     "height": 473
    },
    "id": "27230d8e-e4a6-40ee-bb03-5f435a250b6f",
    "outputId": "7d930af8-274b-4541-d215-58a51cb6c040"
   },
   "outputs": [
    {
     "data": {
      "text/plain": [
       "<AxesSubplot:xlabel='DATE'>"
      ]
     },
     "execution_count": 30,
     "metadata": {},
     "output_type": "execute_result"
    },
    {
     "data": {
      "image/png": "[encoded data removed]",
      "text/plain": [
       "<Figure size 640x480 with 1 Axes>"
      ]
     },
     "metadata": {},
     "output_type": "display_data"
    }
   ],
   "source": [
    "core_weather.groupby(core_weather.index.year).apply(lambda x: x[\"precip\"].sum()).plot()"
   ]
  },
  {
   "cell_type": "markdown",
   "id": "hxYvmIIEkDZC",
   "metadata": {
    "id": "hxYvmIIEkDZC"
   },
   "source": [
    "Training Machine learning model"
   ]
  },
  {
   "cell_type": "code",
   "execution_count": 31,
   "id": "23caa231-0346-4f13-b914-25a3aca44603",
   "metadata": {
    "id": "23caa231-0346-4f13-b914-25a3aca44603"
   },
   "outputs": [],
   "source": [
    "core_weather[\"target\"] = core_weather.shift(-1)[\"temp_max\"]"
   ]
  },
  {
   "cell_type": "code",
   "execution_count": 32,
   "id": "4fdd842c-b0d5-4465-93bf-07491a931288",
   "metadata": {
    "colab": {
     "base_uri": "https://localhost:8080/",
     "height": 455
    },
    "id": "4fdd842c-b0d5-4465-93bf-07491a931288",
    "outputId": "a6a72ed3-9e67-499b-d13b-f7d6a844b349"
   },
   "outputs": [
    {
     "data": {
      "text/html": [
       "<div>\n",
       "<style scoped>\n",
       "    .dataframe tbody tr th:only-of-type {\n",
       "        vertical-align: middle;\n",
       "    }\n",
       "\n",
       "    .dataframe tbody tr th {\n",
       "        vertical-align: top;\n",
       "    }\n",
       "\n",
       "    .dataframe thead th {\n",
       "        text-align: right;\n",
       "    }\n",
       "</style>\n",
       "<table border=\"1\" class=\"dataframe\">\n",
       "  <thead>\n",
       "    <tr style=\"text-align: right;\">\n",
       "      <th></th>\n",
       "      <th>precip</th>\n",
       "      <th>temp_max</th>\n",
       "      <th>temp_min</th>\n",
       "      <th>target</th>\n",
       "    </tr>\n",
       "    <tr>\n",
       "      <th>DATE</th>\n",
       "      <th></th>\n",
       "      <th></th>\n",
       "      <th></th>\n",
       "      <th></th>\n",
       "    </tr>\n",
       "  </thead>\n",
       "  <tbody>\n",
       "    <tr>\n",
       "      <th>1975-03-20</th>\n",
       "      <td>0.0</td>\n",
       "      <td>86.0</td>\n",
       "      <td>57.0</td>\n",
       "      <td>86.0</td>\n",
       "    </tr>\n",
       "    <tr>\n",
       "      <th>1975-03-24</th>\n",
       "      <td>0.0</td>\n",
       "      <td>86.0</td>\n",
       "      <td>55.0</td>\n",
       "      <td>86.0</td>\n",
       "    </tr>\n",
       "    <tr>\n",
       "      <th>1975-04-06</th>\n",
       "      <td>0.0</td>\n",
       "      <td>86.0</td>\n",
       "      <td>72.0</td>\n",
       "      <td>86.0</td>\n",
       "    </tr>\n",
       "    <tr>\n",
       "      <th>1975-04-08</th>\n",
       "      <td>0.0</td>\n",
       "      <td>86.0</td>\n",
       "      <td>72.0</td>\n",
       "      <td>86.0</td>\n",
       "    </tr>\n",
       "    <tr>\n",
       "      <th>1975-04-09</th>\n",
       "      <td>0.0</td>\n",
       "      <td>86.0</td>\n",
       "      <td>59.0</td>\n",
       "      <td>95.0</td>\n",
       "    </tr>\n",
       "    <tr>\n",
       "      <th>...</th>\n",
       "      <td>...</td>\n",
       "      <td>...</td>\n",
       "      <td>...</td>\n",
       "      <td>...</td>\n",
       "    </tr>\n",
       "    <tr>\n",
       "      <th>2023-08-12</th>\n",
       "      <td>0.0</td>\n",
       "      <td>97.0</td>\n",
       "      <td>83.0</td>\n",
       "      <td>96.0</td>\n",
       "    </tr>\n",
       "    <tr>\n",
       "      <th>2023-08-13</th>\n",
       "      <td>0.0</td>\n",
       "      <td>96.0</td>\n",
       "      <td>82.0</td>\n",
       "      <td>95.0</td>\n",
       "    </tr>\n",
       "    <tr>\n",
       "      <th>2023-08-14</th>\n",
       "      <td>0.0</td>\n",
       "      <td>95.0</td>\n",
       "      <td>81.0</td>\n",
       "      <td>97.0</td>\n",
       "    </tr>\n",
       "    <tr>\n",
       "      <th>2023-08-15</th>\n",
       "      <td>0.0</td>\n",
       "      <td>97.0</td>\n",
       "      <td>81.0</td>\n",
       "      <td>98.0</td>\n",
       "    </tr>\n",
       "    <tr>\n",
       "      <th>2023-08-16</th>\n",
       "      <td>0.0</td>\n",
       "      <td>98.0</td>\n",
       "      <td>82.0</td>\n",
       "      <td>NaN</td>\n",
       "    </tr>\n",
       "  </tbody>\n",
       "</table>\n",
       "<p>16443 rows × 4 columns</p>\n",
       "</div>"
      ],
      "text/plain": [
       "            precip  temp_max  temp_min  target\n",
       "DATE                                          \n",
       "1975-03-20     0.0      86.0      57.0    86.0\n",
       "1975-03-24     0.0      86.0      55.0    86.0\n",
       "1975-04-06     0.0      86.0      72.0    86.0\n",
       "1975-04-08     0.0      86.0      72.0    86.0\n",
       "1975-04-09     0.0      86.0      59.0    95.0\n",
       "...            ...       ...       ...     ...\n",
       "2023-08-12     0.0      97.0      83.0    96.0\n",
       "2023-08-13     0.0      96.0      82.0    95.0\n",
       "2023-08-14     0.0      95.0      81.0    97.0\n",
       "2023-08-15     0.0      97.0      81.0    98.0\n",
       "2023-08-16     0.0      98.0      82.0     NaN\n",
       "\n",
       "[16443 rows x 4 columns]"
      ]
     },
     "execution_count": 32,
     "metadata": {},
     "output_type": "execute_result"
    }
   ],
   "source": [
    "core_weather"
   ]
  },
  {
   "cell_type": "markdown",
   "id": "qsArPUXDkbGb",
   "metadata": {
    "id": "qsArPUXDkbGb"
   },
   "source": [
    "Removing last row, because the target value cannot be predicted for that"
   ]
  },
  {
   "cell_type": "code",
   "execution_count": 33,
   "id": "5012db4f-48db-4457-b483-9c449142c580",
   "metadata": {
    "id": "5012db4f-48db-4457-b483-9c449142c580"
   },
   "outputs": [],
   "source": [
    "core_weather = core_weather.iloc[:-1,:].copy()"
   ]
  },
  {
   "cell_type": "code",
   "execution_count": 34,
   "id": "5f2c71fb-a246-4a52-98ba-eb6e641950bb",
   "metadata": {
    "colab": {
     "base_uri": "https://localhost:8080/",
     "height": 455
    },
    "id": "5f2c71fb-a246-4a52-98ba-eb6e641950bb",
    "outputId": "2132d19c-3cd4-469c-f980-c6be8f3fd14c"
   },
   "outputs": [
    {
     "data": {
      "text/html": [
       "<div>\n",
       "<style scoped>\n",
       "    .dataframe tbody tr th:only-of-type {\n",
       "        vertical-align: middle;\n",
       "    }\n",
       "\n",
       "    .dataframe tbody tr th {\n",
       "        vertical-align: top;\n",
       "    }\n",
       "\n",
       "    .dataframe thead th {\n",
       "        text-align: right;\n",
       "    }\n",
       "</style>\n",
       "<table border=\"1\" class=\"dataframe\">\n",
       "  <thead>\n",
       "    <tr style=\"text-align: right;\">\n",
       "      <th></th>\n",
       "      <th>precip</th>\n",
       "      <th>temp_max</th>\n",
       "      <th>temp_min</th>\n",
       "      <th>target</th>\n",
       "    </tr>\n",
       "    <tr>\n",
       "      <th>DATE</th>\n",
       "      <th></th>\n",
       "      <th></th>\n",
       "      <th></th>\n",
       "      <th></th>\n",
       "    </tr>\n",
       "  </thead>\n",
       "  <tbody>\n",
       "    <tr>\n",
       "      <th>1975-03-20</th>\n",
       "      <td>0.0</td>\n",
       "      <td>86.0</td>\n",
       "      <td>57.0</td>\n",
       "      <td>86.0</td>\n",
       "    </tr>\n",
       "    <tr>\n",
       "      <th>1975-03-24</th>\n",
       "      <td>0.0</td>\n",
       "      <td>86.0</td>\n",
       "      <td>55.0</td>\n",
       "      <td>86.0</td>\n",
       "    </tr>\n",
       "    <tr>\n",
       "      <th>1975-04-06</th>\n",
       "      <td>0.0</td>\n",
       "      <td>86.0</td>\n",
       "      <td>72.0</td>\n",
       "      <td>86.0</td>\n",
       "    </tr>\n",
       "    <tr>\n",
       "      <th>1975-04-08</th>\n",
       "      <td>0.0</td>\n",
       "      <td>86.0</td>\n",
       "      <td>72.0</td>\n",
       "      <td>86.0</td>\n",
       "    </tr>\n",
       "    <tr>\n",
       "      <th>1975-04-09</th>\n",
       "      <td>0.0</td>\n",
       "      <td>86.0</td>\n",
       "      <td>59.0</td>\n",
       "      <td>95.0</td>\n",
       "    </tr>\n",
       "    <tr>\n",
       "      <th>...</th>\n",
       "      <td>...</td>\n",
       "      <td>...</td>\n",
       "      <td>...</td>\n",
       "      <td>...</td>\n",
       "    </tr>\n",
       "    <tr>\n",
       "      <th>2023-08-11</th>\n",
       "      <td>0.0</td>\n",
       "      <td>97.0</td>\n",
       "      <td>80.0</td>\n",
       "      <td>97.0</td>\n",
       "    </tr>\n",
       "    <tr>\n",
       "      <th>2023-08-12</th>\n",
       "      <td>0.0</td>\n",
       "      <td>97.0</td>\n",
       "      <td>83.0</td>\n",
       "      <td>96.0</td>\n",
       "    </tr>\n",
       "    <tr>\n",
       "      <th>2023-08-13</th>\n",
       "      <td>0.0</td>\n",
       "      <td>96.0</td>\n",
       "      <td>82.0</td>\n",
       "      <td>95.0</td>\n",
       "    </tr>\n",
       "    <tr>\n",
       "      <th>2023-08-14</th>\n",
       "      <td>0.0</td>\n",
       "      <td>95.0</td>\n",
       "      <td>81.0</td>\n",
       "      <td>97.0</td>\n",
       "    </tr>\n",
       "    <tr>\n",
       "      <th>2023-08-15</th>\n",
       "      <td>0.0</td>\n",
       "      <td>97.0</td>\n",
       "      <td>81.0</td>\n",
       "      <td>98.0</td>\n",
       "    </tr>\n",
       "  </tbody>\n",
       "</table>\n",
       "<p>16442 rows × 4 columns</p>\n",
       "</div>"
      ],
      "text/plain": [
       "            precip  temp_max  temp_min  target\n",
       "DATE                                          \n",
       "1975-03-20     0.0      86.0      57.0    86.0\n",
       "1975-03-24     0.0      86.0      55.0    86.0\n",
       "1975-04-06     0.0      86.0      72.0    86.0\n",
       "1975-04-08     0.0      86.0      72.0    86.0\n",
       "1975-04-09     0.0      86.0      59.0    95.0\n",
       "...            ...       ...       ...     ...\n",
       "2023-08-11     0.0      97.0      80.0    97.0\n",
       "2023-08-12     0.0      97.0      83.0    96.0\n",
       "2023-08-13     0.0      96.0      82.0    95.0\n",
       "2023-08-14     0.0      95.0      81.0    97.0\n",
       "2023-08-15     0.0      97.0      81.0    98.0\n",
       "\n",
       "[16442 rows x 4 columns]"
      ]
     },
     "execution_count": 34,
     "metadata": {},
     "output_type": "execute_result"
    }
   ],
   "source": [
    "core_weather"
   ]
  },
  {
   "cell_type": "markdown",
   "id": "6b0b8526",
   "metadata": {},
   "source": [
    "# below algo and changes by amon"
   ]
  },
  {
   "cell_type": "code",
   "execution_count": 40,
   "id": "57f63d1b",
   "metadata": {},
   "outputs": [
    {
     "data": {
      "text/html": [
       "<div>\n",
       "<style scoped>\n",
       "    .dataframe tbody tr th:only-of-type {\n",
       "        vertical-align: middle;\n",
       "    }\n",
       "\n",
       "    .dataframe tbody tr th {\n",
       "        vertical-align: top;\n",
       "    }\n",
       "\n",
       "    .dataframe thead th {\n",
       "        text-align: right;\n",
       "    }\n",
       "</style>\n",
       "<table border=\"1\" class=\"dataframe\">\n",
       "  <thead>\n",
       "    <tr style=\"text-align: right;\">\n",
       "      <th></th>\n",
       "      <th>precip</th>\n",
       "      <th>temp_max</th>\n",
       "      <th>temp_min</th>\n",
       "    </tr>\n",
       "    <tr>\n",
       "      <th>DATE</th>\n",
       "      <th></th>\n",
       "      <th></th>\n",
       "      <th></th>\n",
       "    </tr>\n",
       "  </thead>\n",
       "  <tbody>\n",
       "    <tr>\n",
       "      <th>1975-03-20</th>\n",
       "      <td>0.0</td>\n",
       "      <td>86.0</td>\n",
       "      <td>57.0</td>\n",
       "    </tr>\n",
       "    <tr>\n",
       "      <th>1975-03-24</th>\n",
       "      <td>0.0</td>\n",
       "      <td>86.0</td>\n",
       "      <td>55.0</td>\n",
       "    </tr>\n",
       "    <tr>\n",
       "      <th>1975-04-06</th>\n",
       "      <td>0.0</td>\n",
       "      <td>86.0</td>\n",
       "      <td>72.0</td>\n",
       "    </tr>\n",
       "    <tr>\n",
       "      <th>1975-04-08</th>\n",
       "      <td>0.0</td>\n",
       "      <td>86.0</td>\n",
       "      <td>72.0</td>\n",
       "    </tr>\n",
       "    <tr>\n",
       "      <th>1975-04-09</th>\n",
       "      <td>0.0</td>\n",
       "      <td>86.0</td>\n",
       "      <td>59.0</td>\n",
       "    </tr>\n",
       "  </tbody>\n",
       "</table>\n",
       "</div>"
      ],
      "text/plain": [
       "            precip  temp_max  temp_min\n",
       "DATE                                  \n",
       "1975-03-20     0.0      86.0      57.0\n",
       "1975-03-24     0.0      86.0      55.0\n",
       "1975-04-06     0.0      86.0      72.0\n",
       "1975-04-08     0.0      86.0      72.0\n",
       "1975-04-09     0.0      86.0      59.0"
      ]
     },
     "execution_count": 40,
     "metadata": {},
     "output_type": "execute_result"
    }
   ],
   "source": [
    "X=core_weather[[\"precip\",\"temp_max\",\"temp_min\"]]\n",
    "X.head()"
   ]
  },
  {
   "cell_type": "code",
   "execution_count": 41,
   "id": "05d954f6",
   "metadata": {},
   "outputs": [
    {
     "data": {
      "text/plain": [
       "DATE\n",
       "1975-03-20    86.0\n",
       "1975-03-24    86.0\n",
       "1975-04-06    86.0\n",
       "1975-04-08    86.0\n",
       "1975-04-09    95.0\n",
       "Name: target, dtype: float64"
      ]
     },
     "execution_count": 41,
     "metadata": {},
     "output_type": "execute_result"
    }
   ],
   "source": [
    "y=core_weather[\"target\"]\n",
    "y.head()"
   ]
  },
  {
   "cell_type": "code",
   "execution_count": 42,
   "id": "88392193",
   "metadata": {},
   "outputs": [],
   "source": [
    "from sklearn.model_selection import train_test_split"
   ]
  },
  {
   "cell_type": "code",
   "execution_count": 43,
   "id": "6cef4299",
   "metadata": {},
   "outputs": [],
   "source": [
    "X_train,X_test,y_train,y_test=train_test_split(X,y,test_size=.30,random_state=42)"
   ]
  },
  {
   "cell_type": "code",
   "execution_count": null,
   "id": "63b1232d",
   "metadata": {},
   "outputs": [],
   "source": []
  },
  {
   "cell_type": "code",
   "execution_count": 44,
   "id": "bb897f03",
   "metadata": {},
   "outputs": [],
   "source": [
    "##Model development"
   ]
  },
  {
   "cell_type": "code",
   "execution_count": null,
   "id": "e60c3221",
   "metadata": {},
   "outputs": [],
   "source": []
  },
  {
   "cell_type": "code",
   "execution_count": null,
   "id": "b2596e97",
   "metadata": {},
   "outputs": [],
   "source": []
  },
  {
   "cell_type": "code",
   "execution_count": 45,
   "id": "5d1fdf05",
   "metadata": {},
   "outputs": [],
   "source": [
    "from sklearn.linear_model import Ridge\n",
    "\n",
    "reg = Ridge()"
   ]
  },
  {
   "cell_type": "code",
   "execution_count": 46,
   "id": "ed052289",
   "metadata": {},
   "outputs": [
    {
     "data": {
      "text/html": [
       "<style>#sk-container-id-1 {color: black;background-color: white;}#sk-container-id-1 pre{padding: 0;}#sk-container-id-1 div.sk-toggleable {background-color: white;}#sk-container-id-1 label.sk-toggleable__label {cursor: pointer;display: block;width: 100%;margin-bottom: 0;padding: 0.3em;box-sizing: border-box;text-align: center;}#sk-container-id-1 label.sk-toggleable__label-arrow:before {content: \"▸\";float: left;margin-right: 0.25em;color: #696969;}#sk-container-id-1 label.sk-toggleable__label-arrow:hover:before {color: black;}#sk-container-id-1 div.sk-estimator:hover label.sk-toggleable__label-arrow:before {color: black;}#sk-container-id-1 div.sk-toggleable__content {max-height: 0;max-width: 0;overflow: hidden;text-align: left;background-color: #f0f8ff;}#sk-container-id-1 div.sk-toggleable__content pre {margin: 0.2em;color: black;border-radius: 0.25em;background-color: #f0f8ff;}#sk-container-id-1 input.sk-toggleable__control:checked~div.sk-toggleable__content {max-height: 200px;max-width: 100%;overflow: auto;}#sk-container-id-1 input.sk-toggleable__control:checked~label.sk-toggleable__label-arrow:before {content: \"▾\";}#sk-container-id-1 div.sk-estimator input.sk-toggleable__control:checked~label.sk-toggleable__label {background-color: #d4ebff;}#sk-container-id-1 div.sk-label input.sk-toggleable__control:checked~label.sk-toggleable__label {background-color: #d4ebff;}#sk-container-id-1 input.sk-hidden--visually {border: 0;clip: rect(1px 1px 1px 1px);clip: rect(1px, 1px, 1px, 1px);height: 1px;margin: -1px;overflow: hidden;padding: 0;position: absolute;width: 1px;}#sk-container-id-1 div.sk-estimator {font-family: monospace;background-color: #f0f8ff;border: 1px dotted black;border-radius: 0.25em;box-sizing: border-box;margin-bottom: 0.5em;}#sk-container-id-1 div.sk-estimator:hover {background-color: #d4ebff;}#sk-container-id-1 div.sk-parallel-item::after {content: \"\";width: 100%;border-bottom: 1px solid gray;flex-grow: 1;}#sk-container-id-1 div.sk-label:hover label.sk-toggleable__label {background-color: #d4ebff;}#sk-container-id-1 div.sk-serial::before {content: \"\";position: absolute;border-left: 1px solid gray;box-sizing: border-box;top: 0;bottom: 0;left: 50%;z-index: 0;}#sk-container-id-1 div.sk-serial {display: flex;flex-direction: column;align-items: center;background-color: white;padding-right: 0.2em;padding-left: 0.2em;position: relative;}#sk-container-id-1 div.sk-item {position: relative;z-index: 1;}#sk-container-id-1 div.sk-parallel {display: flex;align-items: stretch;justify-content: center;background-color: white;position: relative;}#sk-container-id-1 div.sk-item::before, #sk-container-id-1 div.sk-parallel-item::before {content: \"\";position: absolute;border-left: 1px solid gray;box-sizing: border-box;top: 0;bottom: 0;left: 50%;z-index: -1;}#sk-container-id-1 div.sk-parallel-item {display: flex;flex-direction: column;z-index: 1;position: relative;background-color: white;}#sk-container-id-1 div.sk-parallel-item:first-child::after {align-self: flex-end;width: 50%;}#sk-container-id-1 div.sk-parallel-item:last-child::after {align-self: flex-start;width: 50%;}#sk-container-id-1 div.sk-parallel-item:only-child::after {width: 0;}#sk-container-id-1 div.sk-dashed-wrapped {border: 1px dashed gray;margin: 0 0.4em 0.5em 0.4em;box-sizing: border-box;padding-bottom: 0.4em;background-color: white;}#sk-container-id-1 div.sk-label label {font-family: monospace;font-weight: bold;display: inline-block;line-height: 1.2em;}#sk-container-id-1 div.sk-label-container {text-align: center;}#sk-container-id-1 div.sk-container {/* jupyter's `normalize.less` sets `[hidden] { display: none; }` but bootstrap.min.css set `[hidden] { display: none !important; }` so we also need the `!important` here to be able to override the default hidden behavior on the sphinx rendered scikit-learn.org. See: https://github.com/scikit-learn/scikit-learn/issues/21755 */display: inline-block !important;position: relative;}#sk-container-id-1 div.sk-text-repr-fallback {display: none;}</style><div id=\"sk-container-id-1\" class=\"sk-top-container\"><div class=\"sk-text-repr-fallback\"><pre>Ridge()</pre><b>In a Jupyter environment, please rerun this cell to show the HTML representation or trust the notebook. <br />On GitHub, the HTML representation is unable to render, please try loading this page with nbviewer.org.</b></div><div class=\"sk-container\" hidden><div class=\"sk-item\"><div class=\"sk-estimator sk-toggleable\"><input class=\"sk-toggleable__control sk-hidden--visually\" id=\"sk-estimator-id-1\" type=\"checkbox\" checked><label for=\"sk-estimator-id-1\" class=\"sk-toggleable__label sk-toggleable__label-arrow\">Ridge</label><div class=\"sk-toggleable__content\"><pre>Ridge()</pre></div></div></div></div></div>"
      ],
      "text/plain": [
       "Ridge()"
      ]
     },
     "execution_count": 46,
     "metadata": {},
     "output_type": "execute_result"
    }
   ],
   "source": [
    "reg.fit(X_train,y_train)"
   ]
  },
  {
   "cell_type": "code",
   "execution_count": 47,
   "id": "9cc6457a",
   "metadata": {},
   "outputs": [],
   "source": [
    "y_pred=reg.predict(X_test)"
   ]
  },
  {
   "cell_type": "code",
   "execution_count": 48,
   "id": "8ee0e471",
   "metadata": {},
   "outputs": [
    {
     "data": {
      "text/plain": [
       "11.55741938901307"
      ]
     },
     "execution_count": 48,
     "metadata": {},
     "output_type": "execute_result"
    }
   ],
   "source": [
    "from sklearn.metrics import mean_squared_error\n",
    "\n",
    "mean_squared_error(y_test,y_pred)\n"
   ]
  },
  {
   "cell_type": "code",
   "execution_count": 49,
   "id": "8a79a256",
   "metadata": {},
   "outputs": [
    {
     "data": {
      "text/plain": [
       "0.9279549300937121"
      ]
     },
     "execution_count": 49,
     "metadata": {},
     "output_type": "execute_result"
    }
   ],
   "source": [
    "from sklearn.metrics import r2_score\n",
    "r2_score(y_test,y_pred)"
   ]
  },
  {
   "cell_type": "code",
   "execution_count": 50,
   "id": "f1ac91bb",
   "metadata": {},
   "outputs": [
    {
     "data": {
      "text/plain": [
       "DATE\n",
       "1990-04-29     94.0\n",
       "2015-05-05    107.0\n",
       "2003-10-22     94.0\n",
       "1994-12-03     73.0\n",
       "1977-07-25     90.0\n",
       "2022-10-30     89.0\n",
       "2002-07-22     93.0\n",
       "1977-01-07     75.0\n",
       "2023-01-18     70.0\n",
       "2001-09-18     94.0\n",
       "Name: target, dtype: float64"
      ]
     },
     "execution_count": 50,
     "metadata": {},
     "output_type": "execute_result"
    }
   ],
   "source": [
    "y_test.head(10)"
   ]
  },
  {
   "cell_type": "code",
   "execution_count": 51,
   "id": "62e4d3fe",
   "metadata": {},
   "outputs": [
    {
     "data": {
      "text/html": [
       "<div>\n",
       "<style scoped>\n",
       "    .dataframe tbody tr th:only-of-type {\n",
       "        vertical-align: middle;\n",
       "    }\n",
       "\n",
       "    .dataframe tbody tr th {\n",
       "        vertical-align: top;\n",
       "    }\n",
       "\n",
       "    .dataframe thead th {\n",
       "        text-align: right;\n",
       "    }\n",
       "</style>\n",
       "<table border=\"1\" class=\"dataframe\">\n",
       "  <thead>\n",
       "    <tr style=\"text-align: right;\">\n",
       "      <th></th>\n",
       "      <th>0</th>\n",
       "    </tr>\n",
       "  </thead>\n",
       "  <tbody>\n",
       "    <tr>\n",
       "      <th>0</th>\n",
       "      <td>96.237631</td>\n",
       "    </tr>\n",
       "    <tr>\n",
       "      <th>1</th>\n",
       "      <td>104.050129</td>\n",
       "    </tr>\n",
       "    <tr>\n",
       "      <th>2</th>\n",
       "      <td>89.664755</td>\n",
       "    </tr>\n",
       "    <tr>\n",
       "      <th>3</th>\n",
       "      <td>75.548037</td>\n",
       "    </tr>\n",
       "    <tr>\n",
       "      <th>4</th>\n",
       "      <td>89.033678</td>\n",
       "    </tr>\n",
       "    <tr>\n",
       "      <th>5</th>\n",
       "      <td>87.857153</td>\n",
       "    </tr>\n",
       "    <tr>\n",
       "      <th>6</th>\n",
       "      <td>94.399363</td>\n",
       "    </tr>\n",
       "    <tr>\n",
       "      <th>7</th>\n",
       "      <td>75.010723</td>\n",
       "    </tr>\n",
       "    <tr>\n",
       "      <th>8</th>\n",
       "      <td>68.258743</td>\n",
       "    </tr>\n",
       "    <tr>\n",
       "      <th>9</th>\n",
       "      <td>92.980636</td>\n",
       "    </tr>\n",
       "  </tbody>\n",
       "</table>\n",
       "</div>"
      ],
      "text/plain": [
       "            0\n",
       "0   96.237631\n",
       "1  104.050129\n",
       "2   89.664755\n",
       "3   75.548037\n",
       "4   89.033678\n",
       "5   87.857153\n",
       "6   94.399363\n",
       "7   75.010723\n",
       "8   68.258743\n",
       "9   92.980636"
      ]
     },
     "execution_count": 51,
     "metadata": {},
     "output_type": "execute_result"
    }
   ],
   "source": [
    "pd.DataFrame(y_pred).head(10)"
   ]
  },
  {
   "cell_type": "code",
   "execution_count": null,
   "id": "82ad76b9",
   "metadata": {},
   "outputs": [],
   "source": []
  },
  {
   "cell_type": "markdown",
   "id": "d4406d87",
   "metadata": {},
   "source": [
    "# Gaussian naive bias"
   ]
  },
  {
   "cell_type": "code",
   "execution_count": 52,
   "id": "e26c7cb4",
   "metadata": {},
   "outputs": [],
   "source": [
    "from sklearn.naive_bayes import GaussianNB"
   ]
  },
  {
   "cell_type": "code",
   "execution_count": 53,
   "id": "3518b37e",
   "metadata": {},
   "outputs": [],
   "source": [
    "nb=GaussianNB()"
   ]
  },
  {
   "cell_type": "code",
   "execution_count": 54,
   "id": "c81d7ff8",
   "metadata": {},
   "outputs": [
    {
     "data": {
      "text/html": [
       "<style>#sk-container-id-2 {color: black;background-color: white;}#sk-container-id-2 pre{padding: 0;}#sk-container-id-2 div.sk-toggleable {background-color: white;}#sk-container-id-2 label.sk-toggleable__label {cursor: pointer;display: block;width: 100%;margin-bottom: 0;padding: 0.3em;box-sizing: border-box;text-align: center;}#sk-container-id-2 label.sk-toggleable__label-arrow:before {content: \"▸\";float: left;margin-right: 0.25em;color: #696969;}#sk-container-id-2 label.sk-toggleable__label-arrow:hover:before {color: black;}#sk-container-id-2 div.sk-estimator:hover label.sk-toggleable__label-arrow:before {color: black;}#sk-container-id-2 div.sk-toggleable__content {max-height: 0;max-width: 0;overflow: hidden;text-align: left;background-color: #f0f8ff;}#sk-container-id-2 div.sk-toggleable__content pre {margin: 0.2em;color: black;border-radius: 0.25em;background-color: #f0f8ff;}#sk-container-id-2 input.sk-toggleable__control:checked~div.sk-toggleable__content {max-height: 200px;max-width: 100%;overflow: auto;}#sk-container-id-2 input.sk-toggleable__control:checked~label.sk-toggleable__label-arrow:before {content: \"▾\";}#sk-container-id-2 div.sk-estimator input.sk-toggleable__control:checked~label.sk-toggleable__label {background-color: #d4ebff;}#sk-container-id-2 div.sk-label input.sk-toggleable__control:checked~label.sk-toggleable__label {background-color: #d4ebff;}#sk-container-id-2 input.sk-hidden--visually {border: 0;clip: rect(1px 1px 1px 1px);clip: rect(1px, 1px, 1px, 1px);height: 1px;margin: -1px;overflow: hidden;padding: 0;position: absolute;width: 1px;}#sk-container-id-2 div.sk-estimator {font-family: monospace;background-color: #f0f8ff;border: 1px dotted black;border-radius: 0.25em;box-sizing: border-box;margin-bottom: 0.5em;}#sk-container-id-2 div.sk-estimator:hover {background-color: #d4ebff;}#sk-container-id-2 div.sk-parallel-item::after {content: \"\";width: 100%;border-bottom: 1px solid gray;flex-grow: 1;}#sk-container-id-2 div.sk-label:hover label.sk-toggleable__label {background-color: #d4ebff;}#sk-container-id-2 div.sk-serial::before {content: \"\";position: absolute;border-left: 1px solid gray;box-sizing: border-box;top: 0;bottom: 0;left: 50%;z-index: 0;}#sk-container-id-2 div.sk-serial {display: flex;flex-direction: column;align-items: center;background-color: white;padding-right: 0.2em;padding-left: 0.2em;position: relative;}#sk-container-id-2 div.sk-item {position: relative;z-index: 1;}#sk-container-id-2 div.sk-parallel {display: flex;align-items: stretch;justify-content: center;background-color: white;position: relative;}#sk-container-id-2 div.sk-item::before, #sk-container-id-2 div.sk-parallel-item::before {content: \"\";position: absolute;border-left: 1px solid gray;box-sizing: border-box;top: 0;bottom: 0;left: 50%;z-index: -1;}#sk-container-id-2 div.sk-parallel-item {display: flex;flex-direction: column;z-index: 1;position: relative;background-color: white;}#sk-container-id-2 div.sk-parallel-item:first-child::after {align-self: flex-end;width: 50%;}#sk-container-id-2 div.sk-parallel-item:last-child::after {align-self: flex-start;width: 50%;}#sk-container-id-2 div.sk-parallel-item:only-child::after {width: 0;}#sk-container-id-2 div.sk-dashed-wrapped {border: 1px dashed gray;margin: 0 0.4em 0.5em 0.4em;box-sizing: border-box;padding-bottom: 0.4em;background-color: white;}#sk-container-id-2 div.sk-label label {font-family: monospace;font-weight: bold;display: inline-block;line-height: 1.2em;}#sk-container-id-2 div.sk-label-container {text-align: center;}#sk-container-id-2 div.sk-container {/* jupyter's `normalize.less` sets `[hidden] { display: none; }` but bootstrap.min.css set `[hidden] { display: none !important; }` so we also need the `!important` here to be able to override the default hidden behavior on the sphinx rendered scikit-learn.org. See: https://github.com/scikit-learn/scikit-learn/issues/21755 */display: inline-block !important;position: relative;}#sk-container-id-2 div.sk-text-repr-fallback {display: none;}</style><div id=\"sk-container-id-2\" class=\"sk-top-container\"><div class=\"sk-text-repr-fallback\"><pre>GaussianNB()</pre><b>In a Jupyter environment, please rerun this cell to show the HTML representation or trust the notebook. <br />On GitHub, the HTML representation is unable to render, please try loading this page with nbviewer.org.</b></div><div class=\"sk-container\" hidden><div class=\"sk-item\"><div class=\"sk-estimator sk-toggleable\"><input class=\"sk-toggleable__control sk-hidden--visually\" id=\"sk-estimator-id-2\" type=\"checkbox\" checked><label for=\"sk-estimator-id-2\" class=\"sk-toggleable__label sk-toggleable__label-arrow\">GaussianNB</label><div class=\"sk-toggleable__content\"><pre>GaussianNB()</pre></div></div></div></div></div>"
      ],
      "text/plain": [
       "GaussianNB()"
      ]
     },
     "execution_count": 54,
     "metadata": {},
     "output_type": "execute_result"
    }
   ],
   "source": [
    "nb.fit(X_train,y_train)"
   ]
  },
  {
   "cell_type": "code",
   "execution_count": 55,
   "id": "0abd8ea8",
   "metadata": {},
   "outputs": [],
   "source": [
    "y_predNB=nb.predict(X_test)"
   ]
  },
  {
   "cell_type": "code",
   "execution_count": 56,
   "id": "37ec0d88",
   "metadata": {},
   "outputs": [
    {
     "data": {
      "text/plain": [
       "0.9279549300937121"
      ]
     },
     "execution_count": 56,
     "metadata": {},
     "output_type": "execute_result"
    }
   ],
   "source": [
    "r2_score(y_test,y_pred)"
   ]
  },
  {
   "cell_type": "code",
   "execution_count": null,
   "id": "1cc8504e",
   "metadata": {},
   "outputs": [],
   "source": []
  },
  {
   "cell_type": "code",
   "execution_count": 59,
   "id": "152a5adf",
   "metadata": {},
   "outputs": [],
   "source": [
    "#y"
   ]
  },
  {
   "cell_type": "code",
   "execution_count": null,
   "id": "56ef0150",
   "metadata": {},
   "outputs": [],
   "source": []
  },
  {
   "cell_type": "code",
   "execution_count": 60,
   "id": "e3249f41",
   "metadata": {},
   "outputs": [
    {
     "name": "stdout",
     "output_type": "stream",
     "text": [
      "MAE: 3.5124670585850395\n",
      "MSE: 25.161362254206367\n",
      "RMSE: 5.016110271336384\n"
     ]
    }
   ],
   "source": [
    "from sklearn import metrics\n",
    "print('MAE:', metrics.mean_absolute_error(y_test, y_predNB))\n",
    "print('MSE:', metrics.mean_squared_error(y_test, y_predNB))\n",
    "print('RMSE:', np.sqrt(metrics.mean_squared_error(y_test,y_predNB)))"
   ]
  },
  {
   "cell_type": "code",
   "execution_count": null,
   "id": "a341b1e8",
   "metadata": {},
   "outputs": [],
   "source": []
  },
  {
   "cell_type": "code",
   "execution_count": null,
   "id": "72a07f94",
   "metadata": {},
   "outputs": [],
   "source": []
  },
  {
   "cell_type": "code",
   "execution_count": null,
   "id": "000cb0f0",
   "metadata": {},
   "outputs": [],
   "source": []
  },
  {
   "cell_type": "code",
   "execution_count": null,
   "id": "af1a2adb",
   "metadata": {},
   "outputs": [],
   "source": []
  },
  {
   "cell_type": "code",
   "execution_count": null,
   "id": "4b598129",
   "metadata": {},
   "outputs": [],
   "source": []
  },
  {
   "cell_type": "code",
   "execution_count": null,
   "id": "be23d3cb",
   "metadata": {},
   "outputs": [],
   "source": []
  },
  {
   "cell_type": "code",
   "execution_count": null,
   "id": "f16056cd",
   "metadata": {},
   "outputs": [],
   "source": []
  },
  {
   "cell_type": "code",
   "execution_count": null,
   "id": "05de1fbe",
   "metadata": {},
   "outputs": [],
   "source": []
  },
  {
   "cell_type": "code",
   "execution_count": null,
   "id": "c495ecdb",
   "metadata": {},
   "outputs": [],
   "source": []
  },
  {
   "cell_type": "markdown",
   "id": "a5b21c13",
   "metadata": {},
   "source": [
    "# GradientBoostingRegressor"
   ]
  },
  {
   "cell_type": "code",
   "execution_count": 87,
   "id": "597bb2ae",
   "metadata": {},
   "outputs": [],
   "source": [
    "from sklearn.ensemble import GradientBoostingRegressor"
   ]
  },
  {
   "cell_type": "code",
   "execution_count": 112,
   "id": "fd8e8099",
   "metadata": {},
   "outputs": [],
   "source": [
    "grad=GradientBoostingRegressor(loss=\"quantile\")"
   ]
  },
  {
   "cell_type": "code",
   "execution_count": 113,
   "id": "21bb8f63",
   "metadata": {},
   "outputs": [
    {
     "data": {
      "text/html": [
       "<style>#sk-container-id-12 {color: black;background-color: white;}#sk-container-id-12 pre{padding: 0;}#sk-container-id-12 div.sk-toggleable {background-color: white;}#sk-container-id-12 label.sk-toggleable__label {cursor: pointer;display: block;width: 100%;margin-bottom: 0;padding: 0.3em;box-sizing: border-box;text-align: center;}#sk-container-id-12 label.sk-toggleable__label-arrow:before {content: \"▸\";float: left;margin-right: 0.25em;color: #696969;}#sk-container-id-12 label.sk-toggleable__label-arrow:hover:before {color: black;}#sk-container-id-12 div.sk-estimator:hover label.sk-toggleable__label-arrow:before {color: black;}#sk-container-id-12 div.sk-toggleable__content {max-height: 0;max-width: 0;overflow: hidden;text-align: left;background-color: #f0f8ff;}#sk-container-id-12 div.sk-toggleable__content pre {margin: 0.2em;color: black;border-radius: 0.25em;background-color: #f0f8ff;}#sk-container-id-12 input.sk-toggleable__control:checked~div.sk-toggleable__content {max-height: 200px;max-width: 100%;overflow: auto;}#sk-container-id-12 input.sk-toggleable__control:checked~label.sk-toggleable__label-arrow:before {content: \"▾\";}#sk-container-id-12 div.sk-estimator input.sk-toggleable__control:checked~label.sk-toggleable__label {background-color: #d4ebff;}#sk-container-id-12 div.sk-label input.sk-toggleable__control:checked~label.sk-toggleable__label {background-color: #d4ebff;}#sk-container-id-12 input.sk-hidden--visually {border: 0;clip: rect(1px 1px 1px 1px);clip: rect(1px, 1px, 1px, 1px);height: 1px;margin: -1px;overflow: hidden;padding: 0;position: absolute;width: 1px;}#sk-container-id-12 div.sk-estimator {font-family: monospace;background-color: #f0f8ff;border: 1px dotted black;border-radius: 0.25em;box-sizing: border-box;margin-bottom: 0.5em;}#sk-container-id-12 div.sk-estimator:hover {background-color: #d4ebff;}#sk-container-id-12 div.sk-parallel-item::after {content: \"\";width: 100%;border-bottom: 1px solid gray;flex-grow: 1;}#sk-container-id-12 div.sk-label:hover label.sk-toggleable__label {background-color: #d4ebff;}#sk-container-id-12 div.sk-serial::before {content: \"\";position: absolute;border-left: 1px solid gray;box-sizing: border-box;top: 0;bottom: 0;left: 50%;z-index: 0;}#sk-container-id-12 div.sk-serial {display: flex;flex-direction: column;align-items: center;background-color: white;padding-right: 0.2em;padding-left: 0.2em;position: relative;}#sk-container-id-12 div.sk-item {position: relative;z-index: 1;}#sk-container-id-12 div.sk-parallel {display: flex;align-items: stretch;justify-content: center;background-color: white;position: relative;}#sk-container-id-12 div.sk-item::before, #sk-container-id-12 div.sk-parallel-item::before {content: \"\";position: absolute;border-left: 1px solid gray;box-sizing: border-box;top: 0;bottom: 0;left: 50%;z-index: -1;}#sk-container-id-12 div.sk-parallel-item {display: flex;flex-direction: column;z-index: 1;position: relative;background-color: white;}#sk-container-id-12 div.sk-parallel-item:first-child::after {align-self: flex-end;width: 50%;}#sk-container-id-12 div.sk-parallel-item:last-child::after {align-self: flex-start;width: 50%;}#sk-container-id-12 div.sk-parallel-item:only-child::after {width: 0;}#sk-container-id-12 div.sk-dashed-wrapped {border: 1px dashed gray;margin: 0 0.4em 0.5em 0.4em;box-sizing: border-box;padding-bottom: 0.4em;background-color: white;}#sk-container-id-12 div.sk-label label {font-family: monospace;font-weight: bold;display: inline-block;line-height: 1.2em;}#sk-container-id-12 div.sk-label-container {text-align: center;}#sk-container-id-12 div.sk-container {/* jupyter's `normalize.less` sets `[hidden] { display: none; }` but bootstrap.min.css set `[hidden] { display: none !important; }` so we also need the `!important` here to be able to override the default hidden behavior on the sphinx rendered scikit-learn.org. See: https://github.com/scikit-learn/scikit-learn/issues/21755 */display: inline-block !important;position: relative;}#sk-container-id-12 div.sk-text-repr-fallback {display: none;}</style><div id=\"sk-container-id-12\" class=\"sk-top-container\"><div class=\"sk-text-repr-fallback\"><pre>GradientBoostingRegressor(loss=&#x27;quantile&#x27;)</pre><b>In a Jupyter environment, please rerun this cell to show the HTML representation or trust the notebook. <br />On GitHub, the HTML representation is unable to render, please try loading this page with nbviewer.org.</b></div><div class=\"sk-container\" hidden><div class=\"sk-item\"><div class=\"sk-estimator sk-toggleable\"><input class=\"sk-toggleable__control sk-hidden--visually\" id=\"sk-estimator-id-14\" type=\"checkbox\" checked><label for=\"sk-estimator-id-14\" class=\"sk-toggleable__label sk-toggleable__label-arrow\">GradientBoostingRegressor</label><div class=\"sk-toggleable__content\"><pre>GradientBoostingRegressor(loss=&#x27;quantile&#x27;)</pre></div></div></div></div></div>"
      ],
      "text/plain": [
       "GradientBoostingRegressor(loss='quantile')"
      ]
     },
     "execution_count": 113,
     "metadata": {},
     "output_type": "execute_result"
    }
   ],
   "source": [
    "grad.fit(X_train,y_train)"
   ]
  },
  {
   "cell_type": "code",
   "execution_count": 114,
   "id": "c8dc6d61",
   "metadata": {},
   "outputs": [],
   "source": [
    "y_pred=grad.predict(X_test)"
   ]
  },
  {
   "cell_type": "code",
   "execution_count": 115,
   "id": "6a11c5bd",
   "metadata": {},
   "outputs": [
    {
     "data": {
      "text/plain": [
       "0.8537291765207686"
      ]
     },
     "execution_count": 115,
     "metadata": {},
     "output_type": "execute_result"
    },
    {
     "name": "stdout",
     "output_type": "stream",
     "text": [
      "[CV] END criterion=squared_error, learning_rate=0.2, loss=huber, max_depth=9, n_estimators=100; total time=   9.4s\n",
      "[CV] END criterion=friedman_mse, learning_rate=0.1, loss=squared_error, max_depth=3, n_estimators=200; total time=   1.5s\n",
      "[CV] END criterion=friedman_mse, learning_rate=0.01, loss=huber, max_depth=5, n_estimators=700; total time=  18.2s\n",
      "[CV] END criterion=friedman_mse, learning_rate=0.01, loss=huber, max_depth=5, n_estimators=700; total time=  18.0s\n",
      "[CV] END criterion=squared_error, learning_rate=0.3, loss=huber, max_depth=12, n_estimators=1000; total time= 2.7min\n",
      "[CV] END criterion=squared_error, learning_rate=0.2, loss=absolute_error, max_depth=12, n_estimators=1000; total time= 1.5min\n",
      "[CV] END criterion=squared_error, learning_rate=0.2, loss=absolute_error, max_depth=12, n_estimators=1000; total time= 1.8min\n",
      "[CV] END criterion=friedman_mse, learning_rate=0.4, loss=squared_error, max_depth=12, n_estimators=700; total time=  15.8s\n",
      "[CV] END criterion=friedman_mse, learning_rate=0.3, loss=absolute_error, max_depth=9, n_estimators=1000; total time=  32.0s\n",
      "[CV] END criterion=friedman_mse, learning_rate=0.5, loss=huber, max_depth=12, n_estimators=100; total time=  18.7s\n",
      "[CV] END criterion=friedman_mse, learning_rate=0.3, loss=huber, max_depth=5, n_estimators=700; total time=  18.3s\n",
      "[CV] END criterion=squared_error, learning_rate=0.2, loss=quantile, max_depth=9, n_estimators=700; total time=  25.1s\n",
      "[CV] END criterion=squared_error, learning_rate=0.1, loss=absolute_error, max_depth=3, n_estimators=500; total time=   6.2s\n",
      "[CV] END criterion=squared_error, learning_rate=0.1, loss=absolute_error, max_depth=3, n_estimators=500; total time=   6.1s\n",
      "[CV] END criterion=squared_error, learning_rate=0.1, loss=absolute_error, max_depth=3, n_estimators=500; total time=   6.2s\n",
      "[CV] END criterion=friedman_mse, learning_rate=0.3, loss=huber, max_depth=7, n_estimators=500; total time=  21.4s\n",
      "[CV] END criterion=friedman_mse, learning_rate=0.4, loss=absolute_error, max_depth=3, n_estimators=500; total time=   6.1s\n",
      "[CV] END criterion=friedman_mse, learning_rate=0.01, loss=huber, max_depth=12, n_estimators=100; total time=  35.7s\n",
      "[CV] END criterion=friedman_mse, learning_rate=0.1, loss=squared_error, max_depth=5, n_estimators=500; total time=   5.8s\n",
      "[CV] END criterion=friedman_mse, learning_rate=0.3, loss=huber, max_depth=5, n_estimators=100; total time=   2.6s\n",
      "[CV] END criterion=friedman_mse, learning_rate=0.3, loss=huber, max_depth=5, n_estimators=100; total time=   2.5s\n",
      "[CV] END criterion=squared_error, learning_rate=0.3, loss=huber, max_depth=3, n_estimators=100; total time=   1.6s\n",
      "[CV] END criterion=friedman_mse, learning_rate=0.3, loss=huber, max_depth=3, n_estimators=1000; total time=  11.2s\n",
      "[CV] END criterion=friedman_mse, learning_rate=0.01, loss=squared_error, max_depth=12, n_estimators=700; total time=   8.4s\n",
      "[CV] END criterion=friedman_mse, learning_rate=0.01, loss=absolute_error, max_depth=9, n_estimators=700; total time=  34.5s\n",
      "[CV] END criterion=friedman_mse, learning_rate=0.3, loss=huber, max_depth=9, n_estimators=500; total time=  19.1s\n",
      "[CV] END criterion=friedman_mse, learning_rate=0.1, loss=huber, max_depth=7, n_estimators=700; total time=  18.0s\n",
      "[CV] END criterion=squared_error, learning_rate=0.4, loss=squared_error, max_depth=3, n_estimators=200; total time=   0.7s\n",
      "[CV] END criterion=squared_error, learning_rate=0.4, loss=squared_error, max_depth=3, n_estimators=200; total time=   0.9s\n",
      "[CV] END criterion=squared_error, learning_rate=0.4, loss=squared_error, max_depth=3, n_estimators=200; total time=   1.0s\n",
      "[CV] END criterion=friedman_mse, learning_rate=0.3, loss=quantile, max_depth=3, n_estimators=500; total time=   4.2s\n",
      "[CV] END criterion=friedman_mse, learning_rate=0.3, loss=squared_error, max_depth=5, n_estimators=1000; total time=   6.3s\n",
      "[CV] END criterion=friedman_mse, learning_rate=0.3, loss=squared_error, max_depth=5, n_estimators=1000; total time=   5.8s\n",
      "[CV] END criterion=friedman_mse, learning_rate=0.1, loss=huber, max_depth=5, n_estimators=100; total time=   1.4s\n",
      "[CV] END criterion=friedman_mse, learning_rate=0.2, loss=squared_error, max_depth=7, n_estimators=100; total time=   0.8s\n",
      "[CV] END criterion=friedman_mse, learning_rate=0.2, loss=squared_error, max_depth=7, n_estimators=100; total time=   0.9s\n",
      "[CV] END criterion=friedman_mse, learning_rate=0.2, loss=squared_error, max_depth=7, n_estimators=100; total time=   0.9s\n",
      "[CV] END criterion=friedman_mse, learning_rate=0.01, loss=quantile, max_depth=7, n_estimators=200; total time=   4.3s\n",
      "[CV] END criterion=friedman_mse, learning_rate=0.1, loss=huber, max_depth=9, n_estimators=700; total time=  33.5s\n",
      "[CV] END criterion=friedman_mse, learning_rate=0.01, loss=huber, max_depth=3, n_estimators=200; total time=   2.4s\n",
      "[CV] END criterion=friedman_mse, learning_rate=0.01, loss=huber, max_depth=3, n_estimators=200; total time=   1.8s\n",
      "[CV] END criterion=friedman_mse, learning_rate=0.01, loss=huber, max_depth=3, n_estimators=200; total time=   2.4s\n",
      "[CV] END criterion=friedman_mse, learning_rate=0.4, loss=absolute_error, max_depth=7, n_estimators=700; total time=   9.9s\n",
      "[CV] END criterion=friedman_mse, learning_rate=0.5, loss=absolute_error, max_depth=12, n_estimators=1000; total time= 1.6min\n",
      "[CV] END criterion=squared_error, learning_rate=0.3, loss=absolute_error, max_depth=9, n_estimators=500; total time=  12.4s\n",
      "[CV] END criterion=friedman_mse, learning_rate=0.2, loss=squared_error, max_depth=9, n_estimators=700; total time=   9.8s\n",
      "[CV] END criterion=squared_error, learning_rate=0.2, loss=absolute_error, max_depth=9, n_estimators=1000; total time=  23.4s\n",
      "[CV] END criterion=friedman_mse, learning_rate=0.5, loss=absolute_error, max_depth=12, n_estimators=700; total time= 1.5min\n",
      "[CV] END criterion=friedman_mse, learning_rate=0.1, loss=huber, max_depth=12, n_estimators=1000; total time= 1.9min\n",
      "[CV] END criterion=squared_error, learning_rate=0.01, loss=huber, max_depth=12, n_estimators=100; total time=  35.1s\n",
      "[CV] END criterion=friedman_mse, learning_rate=0.5, loss=absolute_error, max_depth=5, n_estimators=1000; total time=  15.6s\n",
      "[CV] END criterion=squared_error, learning_rate=0.3, loss=squared_error, max_depth=5, n_estimators=1000; total time=   9.8s\n",
      "[CV] END criterion=friedman_mse, learning_rate=0.2, loss=quantile, max_depth=9, n_estimators=500; total time=  11.6s\n",
      "[CV] END criterion=squared_error, learning_rate=0.5, loss=quantile, max_depth=3, n_estimators=700; total time=   8.4s\n",
      "[CV] END criterion=friedman_mse, learning_rate=0.1, loss=squared_error, max_depth=3, n_estimators=200; total time=   1.3s\n",
      "[CV] END criterion=friedman_mse, learning_rate=0.4, loss=absolute_error, max_depth=7, n_estimators=1000; total time=  24.3s\n",
      "[CV] END criterion=squared_error, learning_rate=0.5, loss=squared_error, max_depth=12, n_estimators=100; total time=   2.3s\n",
      "[CV] END criterion=friedman_mse, learning_rate=0.3, loss=squared_error, max_depth=12, n_estimators=700; total time=  15.3s\n",
      "[CV] END criterion=friedman_mse, learning_rate=0.4, loss=squared_error, max_depth=7, n_estimators=200; total time=   3.2s\n",
      "[CV] END criterion=friedman_mse, learning_rate=0.4, loss=squared_error, max_depth=7, n_estimators=200; total time=   2.8s\n",
      "[CV] END criterion=squared_error, learning_rate=0.2, loss=huber, max_depth=5, n_estimators=100; total time=   2.5s\n",
      "[CV] END criterion=squared_error, learning_rate=0.2, loss=huber, max_depth=5, n_estimators=100; total time=   2.9s\n",
      "[CV] END criterion=squared_error, learning_rate=0.2, loss=squared_error, max_depth=12, n_estimators=100; total time=   2.4s\n",
      "[CV] END criterion=friedman_mse, learning_rate=0.01, loss=absolute_error, max_depth=9, n_estimators=1000; total time= 1.2min\n",
      "[CV] END criterion=friedman_mse, learning_rate=0.01, loss=absolute_error, max_depth=9, n_estimators=1000; total time= 1.2min\n",
      "[CV] END criterion=friedman_mse, learning_rate=0.01, loss=absolute_error, max_depth=12, n_estimators=1000; total time= 2.8min\n",
      "[CV] END criterion=squared_error, learning_rate=0.1, loss=huber, max_depth=9, n_estimators=100; total time=  10.5s\n",
      "[CV] END criterion=squared_error, learning_rate=0.1, loss=huber, max_depth=9, n_estimators=100; total time=  10.6s\n",
      "[CV] END criterion=squared_error, learning_rate=0.2, loss=absolute_error, max_depth=7, n_estimators=700; total time=  15.2s\n",
      "[CV] END criterion=friedman_mse, learning_rate=0.3, loss=quantile, max_depth=5, n_estimators=100; total time=   1.9s\n",
      "[CV] END criterion=squared_error, learning_rate=0.01, loss=squared_error, max_depth=5, n_estimators=1000; total time=  10.7s\n",
      "[CV] END criterion=squared_error, learning_rate=0.01, loss=quantile, max_depth=3, n_estimators=200; total time=   2.4s\n",
      "[CV] END criterion=friedman_mse, learning_rate=0.3, loss=absolute_error, max_depth=9, n_estimators=1000; total time=  32.6s\n",
      "[CV] END criterion=friedman_mse, learning_rate=0.5, loss=huber, max_depth=12, n_estimators=100; total time=  13.3s\n",
      "[CV] END criterion=friedman_mse, learning_rate=0.3, loss=huber, max_depth=5, n_estimators=700; total time=  18.4s\n",
      "[CV] END criterion=friedman_mse, learning_rate=0.3, loss=quantile, max_depth=9, n_estimators=100; total time=   3.9s\n",
      "[CV] END criterion=squared_error, learning_rate=0.2, loss=quantile, max_depth=9, n_estimators=700; total time=  25.1s\n",
      "[CV] END criterion=squared_error, learning_rate=0.01, loss=quantile, max_depth=9, n_estimators=500; total time=  28.6s\n",
      "[CV] END criterion=friedman_mse, learning_rate=0.5, loss=quantile, max_depth=12, n_estimators=200; total time=  11.2s\n",
      "[CV] END criterion=friedman_mse, learning_rate=0.4, loss=absolute_error, max_depth=3, n_estimators=500; total time=   6.5s\n",
      "[CV] END criterion=friedman_mse, learning_rate=0.01, loss=huber, max_depth=12, n_estimators=100; total time=  38.9s\n",
      "[CV] END criterion=squared_error, learning_rate=0.5, loss=squared_error, max_depth=5, n_estimators=700; total time=   7.7s\n",
      "[CV] END criterion=squared_error, learning_rate=0.3, loss=huber, max_depth=3, n_estimators=100; total time=   1.6s\n",
      "[CV] END criterion=friedman_mse, learning_rate=0.3, loss=absolute_error, max_depth=9, n_estimators=500; total time=  12.4s\n",
      "[CV] END criterion=friedman_mse, learning_rate=0.01, loss=squared_error, max_depth=12, n_estimators=700; total time=   8.5s\n",
      "[CV] END criterion=friedman_mse, learning_rate=0.2, loss=absolute_error, max_depth=9, n_estimators=700; total time=  14.2s\n",
      "[CV] END criterion=squared_error, learning_rate=0.1, loss=absolute_error, max_depth=7, n_estimators=500; total time=   7.6s\n",
      "[CV] END criterion=squared_error, learning_rate=0.1, loss=absolute_error, max_depth=7, n_estimators=500; total time=   8.1s\n",
      "[CV] END criterion=squared_error, learning_rate=0.5, loss=absolute_error, max_depth=7, n_estimators=100; total time=   2.0s\n",
      "[CV] END criterion=squared_error, learning_rate=0.5, loss=absolute_error, max_depth=7, n_estimators=100; total time=   2.2s\n",
      "[CV] END criterion=friedman_mse, learning_rate=0.1, loss=huber, max_depth=7, n_estimators=700; total time=  19.4s\n",
      "[CV] END criterion=squared_error, learning_rate=0.5, loss=squared_error, max_depth=9, n_estimators=100; total time=   1.2s\n",
      "[CV] END criterion=squared_error, learning_rate=0.5, loss=squared_error, max_depth=9, n_estimators=100; total time=   1.0s\n",
      "[CV] END criterion=friedman_mse, learning_rate=0.3, loss=absolute_error, max_depth=5, n_estimators=500; total time=   5.0s\n",
      "[CV] END criterion=squared_error, learning_rate=0.3, loss=quantile, max_depth=7, n_estimators=700; total time=   9.0s\n",
      "[CV] END criterion=squared_error, learning_rate=0.5, loss=huber, max_depth=12, n_estimators=500; total time=  32.1s\n",
      "[CV] END criterion=friedman_mse, learning_rate=0.1, loss=huber, max_depth=9, n_estimators=700; total time=  32.4s\n",
      "[CV] END criterion=friedman_mse, learning_rate=0.01, loss=huber, max_depth=3, n_estimators=200; total time=   2.2s\n",
      "[CV] END criterion=friedman_mse, learning_rate=0.4, loss=absolute_error, max_depth=7, n_estimators=700; total time=   9.4s\n",
      "[CV] END criterion=friedman_mse, learning_rate=0.5, loss=absolute_error, max_depth=12, n_estimators=1000; total time= 1.8min\n",
      "[CV] END criterion=friedman_mse, learning_rate=0.2, loss=squared_error, max_depth=9, n_estimators=700; total time=   9.8s\n",
      "[CV] END criterion=friedman_mse, learning_rate=0.2, loss=squared_error, max_depth=9, n_estimators=700; total time=   9.9s\n",
      "[CV] END criterion=squared_error, learning_rate=0.2, loss=absolute_error, max_depth=9, n_estimators=1000; total time=  28.9s\n",
      "[CV] END criterion=squared_error, learning_rate=0.4, loss=squared_error, max_depth=9, n_estimators=700; total time=   7.3s\n",
      "[CV] END criterion=squared_error, learning_rate=0.4, loss=huber, max_depth=12, n_estimators=500; total time= 1.4min\n",
      "[CV] END criterion=squared_error, learning_rate=0.4, loss=squared_error, max_depth=12, n_estimators=500; total time=   3.5s\n",
      "[CV] END criterion=squared_error, learning_rate=0.4, loss=squared_error, max_depth=12, n_estimators=500; total time=   4.0s\n",
      "[CV] END criterion=squared_error, learning_rate=0.4, loss=squared_error, max_depth=12, n_estimators=500; total time=   5.2s\n",
      "[CV] END criterion=squared_error, learning_rate=0.4, loss=squared_error, max_depth=12, n_estimators=500; total time=   6.0s\n",
      "[CV] END criterion=squared_error, learning_rate=0.4, loss=squared_error, max_depth=12, n_estimators=500; total time=   4.4s\n",
      "[CV] END criterion=squared_error, learning_rate=0.01, loss=squared_error, max_depth=9, n_estimators=100; total time=   1.7s\n",
      "[CV] END criterion=squared_error, learning_rate=0.01, loss=squared_error, max_depth=9, n_estimators=100; total time=   1.6s\n",
      "[CV] END criterion=squared_error, learning_rate=0.01, loss=squared_error, max_depth=9, n_estimators=100; total time=   1.5s\n",
      "[CV] END criterion=squared_error, learning_rate=0.01, loss=squared_error, max_depth=9, n_estimators=100; total time=   1.6s\n",
      "[CV] END criterion=squared_error, learning_rate=0.01, loss=squared_error, max_depth=9, n_estimators=100; total time=   1.6s\n",
      "[CV] END criterion=friedman_mse, learning_rate=0.5, loss=squared_error, max_depth=7, n_estimators=700; total time=   9.0s\n",
      "[CV] END criterion=friedman_mse, learning_rate=0.5, loss=squared_error, max_depth=7, n_estimators=700; total time=   8.5s\n",
      "[CV] END criterion=friedman_mse, learning_rate=0.5, loss=squared_error, max_depth=7, n_estimators=700; total time=   8.5s\n",
      "[CV] END criterion=friedman_mse, learning_rate=0.4, loss=huber, max_depth=7, n_estimators=200; total time=   8.0s\n",
      "[CV] END criterion=friedman_mse, learning_rate=0.2, loss=quantile, max_depth=7, n_estimators=200; total time=   4.8s\n",
      "[CV] END criterion=friedman_mse, learning_rate=0.2, loss=quantile, max_depth=7, n_estimators=200; total time=   4.8s\n",
      "[CV] END criterion=friedman_mse, learning_rate=0.3, loss=quantile, max_depth=5, n_estimators=200; total time=   2.9s\n",
      "[CV] END criterion=friedman_mse, learning_rate=0.3, loss=quantile, max_depth=5, n_estimators=200; total time=   3.0s\n",
      "[CV] END criterion=squared_error, learning_rate=0.4, loss=squared_error, max_depth=5, n_estimators=500; total time=   4.5s\n",
      "[CV] END criterion=squared_error, learning_rate=0.4, loss=squared_error, max_depth=5, n_estimators=500; total time=   4.5s\n",
      "[CV] END criterion=squared_error, learning_rate=0.01, loss=huber, max_depth=12, n_estimators=100; total time=  36.8s\n",
      "[CV] END criterion=friedman_mse, learning_rate=0.5, loss=absolute_error, max_depth=5, n_estimators=1000; total time=  17.3s\n",
      "[CV] END criterion=squared_error, learning_rate=0.3, loss=squared_error, max_depth=5, n_estimators=1000; total time=   8.7s\n",
      "[CV] END criterion=squared_error, learning_rate=0.3, loss=squared_error, max_depth=5, n_estimators=1000; total time=   9.9s\n",
      "[CV] END criterion=friedman_mse, learning_rate=0.1, loss=squared_error, max_depth=12, n_estimators=700; total time=   9.8s\n"
     ]
    },
    {
     "name": "stdout",
     "output_type": "stream",
     "text": [
      "[CV] END criterion=squared_error, learning_rate=0.2, loss=huber, max_depth=9, n_estimators=100; total time=   9.8s\n",
      "[CV] END criterion=friedman_mse, learning_rate=0.4, loss=absolute_error, max_depth=7, n_estimators=1000; total time=  34.9s\n",
      "[CV] END criterion=squared_error, learning_rate=0.3, loss=huber, max_depth=12, n_estimators=1000; total time= 3.0min\n",
      "[CV] END criterion=squared_error, learning_rate=0.2, loss=absolute_error, max_depth=12, n_estimators=1000; total time= 1.6min\n",
      "[CV] END criterion=friedman_mse, learning_rate=0.2, loss=absolute_error, max_depth=9, n_estimators=100; total time=   5.1s\n",
      "[CV] END criterion=friedman_mse, learning_rate=0.2, loss=absolute_error, max_depth=9, n_estimators=100; total time=   5.7s\n",
      "[CV] END criterion=friedman_mse, learning_rate=0.1, loss=huber, max_depth=12, n_estimators=100; total time=  26.1s\n",
      "[CV] END criterion=friedman_mse, learning_rate=0.5, loss=squared_error, max_depth=12, n_estimators=700; total time=  15.8s\n",
      "[CV] END criterion=friedman_mse, learning_rate=0.5, loss=squared_error, max_depth=12, n_estimators=700; total time=  15.9s\n",
      "[CV] END criterion=squared_error, learning_rate=0.2, loss=absolute_error, max_depth=7, n_estimators=700; total time=  15.8s\n",
      "[CV] END criterion=friedman_mse, learning_rate=0.4, loss=squared_error, max_depth=12, n_estimators=700; total time=  15.7s\n",
      "[CV] END criterion=squared_error, learning_rate=0.01, loss=quantile, max_depth=3, n_estimators=200; total time=   2.4s\n",
      "[CV] END criterion=squared_error, learning_rate=0.01, loss=quantile, max_depth=3, n_estimators=200; total time=   2.4s\n",
      "[CV] END criterion=friedman_mse, learning_rate=0.1, loss=squared_error, max_depth=5, n_estimators=1000; total time=  10.5s\n",
      "[CV] END criterion=friedman_mse, learning_rate=0.1, loss=squared_error, max_depth=5, n_estimators=1000; total time=  10.7s\n",
      "[CV] END criterion=friedman_mse, learning_rate=0.2, loss=quantile, max_depth=3, n_estimators=500; total time=   6.0s\n",
      "[CV] END criterion=squared_error, learning_rate=0.01, loss=quantile, max_depth=3, n_estimators=500; total time=   6.2s\n",
      "[CV] END criterion=friedman_mse, learning_rate=0.5, loss=huber, max_depth=12, n_estimators=100; total time=  18.1s\n",
      "[CV] END criterion=friedman_mse, learning_rate=0.5, loss=quantile, max_depth=12, n_estimators=700; total time=  29.9s\n",
      "[CV] END criterion=squared_error, learning_rate=0.2, loss=quantile, max_depth=9, n_estimators=700; total time=  22.3s\n",
      "[CV] END criterion=squared_error, learning_rate=0.1, loss=absolute_error, max_depth=3, n_estimators=500; total time=   6.4s\n",
      "[CV] END criterion=friedman_mse, learning_rate=0.3, loss=huber, max_depth=7, n_estimators=500; total time=  23.0s\n",
      "[CV] END criterion=friedman_mse, learning_rate=0.4, loss=absolute_error, max_depth=3, n_estimators=500; total time=   6.4s\n",
      "[CV] END criterion=friedman_mse, learning_rate=0.01, loss=huber, max_depth=12, n_estimators=100; total time=  37.7s\n",
      "[CV] END criterion=squared_error, learning_rate=0.5, loss=squared_error, max_depth=5, n_estimators=700; total time=   7.7s\n",
      "[CV] END criterion=squared_error, learning_rate=0.3, loss=huber, max_depth=3, n_estimators=100; total time=   1.6s\n",
      "[CV] END criterion=friedman_mse, learning_rate=0.3, loss=absolute_error, max_depth=9, n_estimators=500; total time=  15.0s\n",
      "[CV] END criterion=friedman_mse, learning_rate=0.01, loss=absolute_error, max_depth=9, n_estimators=700; total time=  33.2s\n",
      "[CV] END criterion=squared_error, learning_rate=0.1, loss=absolute_error, max_depth=7, n_estimators=500; total time=   6.9s\n",
      "[CV] END criterion=friedman_mse, learning_rate=0.3, loss=huber, max_depth=9, n_estimators=500; total time=  22.3s\n",
      "[CV] END criterion=friedman_mse, learning_rate=0.3, loss=absolute_error, max_depth=5, n_estimators=500; total time=   5.8s\n",
      "[CV] END criterion=squared_error, learning_rate=0.3, loss=quantile, max_depth=7, n_estimators=700; total time=  10.6s\n",
      "[CV] END criterion=friedman_mse, learning_rate=0.3, loss=quantile, max_depth=3, n_estimators=500; total time=   4.4s\n",
      "[CV] END criterion=friedman_mse, learning_rate=0.3, loss=quantile, max_depth=3, n_estimators=500; total time=   3.5s\n",
      "[CV] END criterion=friedman_mse, learning_rate=0.3, loss=squared_error, max_depth=5, n_estimators=1000; total time=   6.0s\n",
      "[CV] END criterion=friedman_mse, learning_rate=0.1, loss=huber, max_depth=5, n_estimators=100; total time=   1.4s\n",
      "[CV] END criterion=friedman_mse, learning_rate=0.1, loss=huber, max_depth=5, n_estimators=100; total time=   1.4s\n",
      "[CV] END criterion=friedman_mse, learning_rate=0.1, loss=huber, max_depth=5, n_estimators=100; total time=   1.3s\n",
      "[CV] END criterion=friedman_mse, learning_rate=0.1, loss=huber, max_depth=5, n_estimators=100; total time=   1.4s\n",
      "[CV] END criterion=friedman_mse, learning_rate=0.2, loss=squared_error, max_depth=7, n_estimators=100; total time=   0.8s\n",
      "[CV] END criterion=friedman_mse, learning_rate=0.01, loss=quantile, max_depth=7, n_estimators=200; total time=   4.6s\n",
      "[CV] END criterion=friedman_mse, learning_rate=0.01, loss=quantile, max_depth=7, n_estimators=200; total time=   4.0s\n",
      "[CV] END criterion=friedman_mse, learning_rate=0.1, loss=huber, max_depth=9, n_estimators=700; total time=  29.4s\n",
      "[CV] END criterion=squared_error, learning_rate=0.3, loss=quantile, max_depth=9, n_estimators=1000; total time=  21.2s\n",
      "[CV] END criterion=friedman_mse, learning_rate=0.4, loss=quantile, max_depth=9, n_estimators=100; total time=   2.0s\n",
      "[CV] END criterion=friedman_mse, learning_rate=0.4, loss=absolute_error, max_depth=3, n_estimators=100; total time=   0.6s\n",
      "[CV] END criterion=friedman_mse, learning_rate=0.1, loss=absolute_error, max_depth=7, n_estimators=100; total time=   2.0s\n",
      "[CV] END criterion=friedman_mse, learning_rate=0.1, loss=absolute_error, max_depth=7, n_estimators=100; total time=   2.2s\n",
      "[CV] END criterion=squared_error, learning_rate=0.5, loss=quantile, max_depth=9, n_estimators=200; total time=   3.1s\n",
      "[CV] END criterion=squared_error, learning_rate=0.5, loss=quantile, max_depth=9, n_estimators=200; total time=   3.1s\n",
      "[CV] END criterion=friedman_mse, learning_rate=0.01, loss=huber, max_depth=3, n_estimators=1000; total time=  16.5s\n",
      "[CV] END criterion=friedman_mse, learning_rate=0.01, loss=quantile, max_depth=3, n_estimators=700; total time=   8.1s\n",
      "[CV] END criterion=friedman_mse, learning_rate=0.01, loss=quantile, max_depth=3, n_estimators=700; total time=   7.6s\n",
      "[CV] END criterion=friedman_mse, learning_rate=0.01, loss=quantile, max_depth=3, n_estimators=700; total time=   8.1s\n",
      "[CV] END criterion=friedman_mse, learning_rate=0.1, loss=quantile, max_depth=5, n_estimators=1000; total time=  14.9s\n",
      "[CV] END criterion=friedman_mse, learning_rate=0.1, loss=quantile, max_depth=5, n_estimators=1000; total time=  12.8s\n",
      "[CV] END criterion=friedman_mse, learning_rate=0.01, loss=huber, max_depth=5, n_estimators=200; total time=   4.2s\n",
      "[CV] END criterion=squared_error, learning_rate=0.3, loss=absolute_error, max_depth=9, n_estimators=500; total time=  11.2s\n",
      "[CV] END criterion=squared_error, learning_rate=0.2, loss=huber, max_depth=3, n_estimators=100; total time=   1.2s\n",
      "[CV] END criterion=squared_error, learning_rate=0.5, loss=huber, max_depth=7, n_estimators=700; total time=  24.5s\n",
      "[CV] END criterion=friedman_mse, learning_rate=0.1, loss=squared_error, max_depth=7, n_estimators=700; total time=   8.0s\n",
      "[CV] END criterion=friedman_mse, learning_rate=0.1, loss=squared_error, max_depth=7, n_estimators=700; total time=   7.9s\n",
      "[CV] END criterion=friedman_mse, learning_rate=0.5, loss=absolute_error, max_depth=12, n_estimators=700; total time= 1.2min\n",
      "[CV] END criterion=friedman_mse, learning_rate=0.1, loss=huber, max_depth=12, n_estimators=1000; total time= 3.1min\n",
      "[CV] END criterion=squared_error, learning_rate=0.3, loss=squared_error, max_depth=5, n_estimators=1000; total time=  10.0s\n",
      "[CV] END criterion=friedman_mse, learning_rate=0.2, loss=quantile, max_depth=9, n_estimators=500; total time=  10.6s\n",
      "[CV] END criterion=squared_error, learning_rate=0.5, loss=quantile, max_depth=3, n_estimators=700; total time=   8.4s\n",
      "[CV] END criterion=friedman_mse, learning_rate=0.1, loss=squared_error, max_depth=3, n_estimators=200; total time=   1.4s\n",
      "[CV] END criterion=friedman_mse, learning_rate=0.4, loss=absolute_error, max_depth=7, n_estimators=1000; total time=  23.0s\n",
      "[CV] END criterion=squared_error, learning_rate=0.5, loss=squared_error, max_depth=12, n_estimators=100; total time=   2.4s\n",
      "[CV] END criterion=squared_error, learning_rate=0.5, loss=squared_error, max_depth=12, n_estimators=100; total time=   2.2s\n",
      "[CV] END criterion=friedman_mse, learning_rate=0.3, loss=squared_error, max_depth=12, n_estimators=700; total time=  15.6s\n",
      "[CV] END criterion=friedman_mse, learning_rate=0.4, loss=squared_error, max_depth=7, n_estimators=200; total time=   2.9s\n",
      "[CV] END criterion=squared_error, learning_rate=0.2, loss=huber, max_depth=5, n_estimators=100; total time=   2.5s\n",
      "[CV] END criterion=squared_error, learning_rate=0.2, loss=huber, max_depth=5, n_estimators=100; total time=   2.7s\n",
      "[CV] END criterion=squared_error, learning_rate=0.2, loss=squared_error, max_depth=12, n_estimators=100; total time=   2.5s\n",
      "[CV] END criterion=squared_error, learning_rate=0.2, loss=squared_error, max_depth=12, n_estimators=100; total time=   2.5s\n",
      "[CV] END criterion=friedman_mse, learning_rate=0.01, loss=absolute_error, max_depth=9, n_estimators=1000; total time= 1.3min\n",
      "[CV] END criterion=friedman_mse, learning_rate=0.01, loss=absolute_error, max_depth=12, n_estimators=1000; total time= 2.9min\n",
      "[CV] END criterion=squared_error, learning_rate=0.2, loss=absolute_error, max_depth=12, n_estimators=1000; total time= 1.6min\n",
      "[CV] END criterion=friedman_mse, learning_rate=0.3, loss=quantile, max_depth=5, n_estimators=100; total time=   2.1s\n",
      "[CV] END criterion=friedman_mse, learning_rate=0.3, loss=quantile, max_depth=5, n_estimators=100; total time=   1.8s\n",
      "[CV] END criterion=squared_error, learning_rate=0.01, loss=squared_error, max_depth=5, n_estimators=1000; total time=  10.6s\n",
      "[CV] END criterion=friedman_mse, learning_rate=0.3, loss=absolute_error, max_depth=9, n_estimators=1000; total time=  29.1s\n",
      "[CV] END criterion=squared_error, learning_rate=0.01, loss=quantile, max_depth=3, n_estimators=500; total time=   6.2s\n",
      "[CV] END criterion=friedman_mse, learning_rate=0.3, loss=huber, max_depth=5, n_estimators=700; total time=  18.5s\n",
      "[CV] END criterion=friedman_mse, learning_rate=0.5, loss=quantile, max_depth=12, n_estimators=700; total time=  32.3s\n",
      "[CV] END criterion=squared_error, learning_rate=0.01, loss=quantile, max_depth=9, n_estimators=500; total time=  27.4s\n",
      "[CV] END criterion=friedman_mse, learning_rate=0.3, loss=huber, max_depth=7, n_estimators=500; total time=  23.2s\n",
      "[CV] END criterion=friedman_mse, learning_rate=0.01, loss=huber, max_depth=12, n_estimators=100; total time=  37.5s\n",
      "[CV] END criterion=friedman_mse, learning_rate=0.1, loss=squared_error, max_depth=5, n_estimators=500; total time=   5.9s\n",
      "[CV] END criterion=squared_error, learning_rate=0.5, loss=squared_error, max_depth=5, n_estimators=700; total time=   7.8s\n",
      "[CV] END criterion=friedman_mse, learning_rate=0.3, loss=absolute_error, max_depth=9, n_estimators=500; total time=  10.8s\n",
      "[CV] END criterion=friedman_mse, learning_rate=0.3, loss=huber, max_depth=3, n_estimators=1000; total time=   8.9s\n",
      "[CV] END criterion=friedman_mse, learning_rate=0.01, loss=absolute_error, max_depth=9, n_estimators=700; total time=  33.1s\n",
      "[CV] END criterion=squared_error, learning_rate=0.5, loss=absolute_error, max_depth=7, n_estimators=100; total time=   2.3s\n",
      "[CV] END criterion=friedman_mse, learning_rate=0.3, loss=huber, max_depth=9, n_estimators=500; total time=  21.8s\n",
      "[CV] END criterion=squared_error, learning_rate=0.5, loss=squared_error, max_depth=9, n_estimators=100; total time=   1.1s\n",
      "[CV] END criterion=friedman_mse, learning_rate=0.3, loss=absolute_error, max_depth=5, n_estimators=500; total time=   5.3s\n",
      "[CV] END criterion=squared_error, learning_rate=0.3, loss=quantile, max_depth=7, n_estimators=700; total time=   8.9s\n",
      "[CV] END criterion=squared_error, learning_rate=0.4, loss=squared_error, max_depth=3, n_estimators=200; total time=   0.8s\n",
      "[CV] END criterion=squared_error, learning_rate=0.4, loss=squared_error, max_depth=3, n_estimators=200; total time=   1.0s\n",
      "[CV] END criterion=friedman_mse, learning_rate=0.3, loss=quantile, max_depth=3, n_estimators=500; total time=   4.3s\n",
      "[CV] END criterion=friedman_mse, learning_rate=0.3, loss=quantile, max_depth=3, n_estimators=500; total time=   3.4s\n",
      "[CV] END criterion=friedman_mse, learning_rate=0.3, loss=squared_error, max_depth=5, n_estimators=1000; total time=   5.9s\n",
      "[CV] END criterion=friedman_mse, learning_rate=0.3, loss=squared_error, max_depth=5, n_estimators=1000; total time=   5.9s\n",
      "[CV] END criterion=friedman_mse, learning_rate=0.2, loss=squared_error, max_depth=7, n_estimators=100; total time=   0.8s\n",
      "[CV] END criterion=friedman_mse, learning_rate=0.01, loss=quantile, max_depth=7, n_estimators=200; total time=   4.3s\n",
      "[CV] END criterion=friedman_mse, learning_rate=0.01, loss=quantile, max_depth=7, n_estimators=200; total time=   4.1s\n",
      "[CV] END criterion=friedman_mse, learning_rate=0.1, loss=huber, max_depth=9, n_estimators=700; total time=  36.0s\n",
      "[CV] END criterion=friedman_mse, learning_rate=0.4, loss=absolute_error, max_depth=7, n_estimators=700; total time=   9.3s\n",
      "[CV] END criterion=friedman_mse, learning_rate=0.5, loss=absolute_error, max_depth=12, n_estimators=1000; total time= 1.7min\n",
      "[CV] END criterion=squared_error, learning_rate=0.5, loss=huber, max_depth=7, n_estimators=700; total time=  25.5s\n",
      "[CV] END criterion=friedman_mse, learning_rate=0.1, loss=squared_error, max_depth=7, n_estimators=700; total time=   8.2s\n",
      "[CV] END criterion=friedman_mse, learning_rate=0.1, loss=squared_error, max_depth=7, n_estimators=700; total time=   7.7s\n",
      "[CV] END criterion=friedman_mse, learning_rate=0.5, loss=absolute_error, max_depth=12, n_estimators=700; total time= 1.5min\n",
      "[CV] END criterion=friedman_mse, learning_rate=0.1, loss=huber, max_depth=12, n_estimators=1000; total time= 3.1min\n",
      "[CV] END criterion=squared_error, learning_rate=0.5, loss=quantile, max_depth=3, n_estimators=700; total time=   8.3s\n",
      "[CV] END criterion=friedman_mse, learning_rate=0.1, loss=squared_error, max_depth=3, n_estimators=200; total time=   1.4s\n",
      "[CV] END criterion=friedman_mse, learning_rate=0.4, loss=absolute_error, max_depth=7, n_estimators=1000; total time=  21.2s\n",
      "[CV] END criterion=friedman_mse, learning_rate=0.01, loss=huber, max_depth=5, n_estimators=700; total time=  17.9s\n",
      "[CV] END criterion=squared_error, learning_rate=0.3, loss=huber, max_depth=12, n_estimators=1000; total time= 1.9min\n",
      "[CV] END criterion=friedman_mse, learning_rate=0.01, loss=absolute_error, max_depth=12, n_estimators=1000; total time= 2.6min\n",
      "[CV] END criterion=friedman_mse, learning_rate=0.2, loss=absolute_error, max_depth=9, n_estimators=100; total time=   4.9s\n",
      "[CV] END criterion=friedman_mse, learning_rate=0.2, loss=absolute_error, max_depth=9, n_estimators=100; total time=   6.6s\n",
      "[CV] END criterion=friedman_mse, learning_rate=0.1, loss=huber, max_depth=12, n_estimators=100; total time=  27.9s\n",
      "[CV] END criterion=friedman_mse, learning_rate=0.5, loss=squared_error, max_depth=12, n_estimators=700; total time=  15.7s\n",
      "[CV] END criterion=friedman_mse, learning_rate=0.5, loss=squared_error, max_depth=12, n_estimators=700; total time=  16.0s\n",
      "[CV] END criterion=squared_error, learning_rate=0.2, loss=absolute_error, max_depth=7, n_estimators=700; total time=  15.8s\n",
      "[CV] END criterion=friedman_mse, learning_rate=0.4, loss=squared_error, max_depth=12, n_estimators=700; total time=  15.7s\n",
      "[CV] END criterion=squared_error, learning_rate=0.01, loss=squared_error, max_depth=5, n_estimators=1000; total time=  10.7s\n",
      "[CV] END criterion=friedman_mse, learning_rate=0.1, loss=squared_error, max_depth=5, n_estimators=1000; total time=  10.4s\n",
      "[CV] END criterion=friedman_mse, learning_rate=0.2, loss=quantile, max_depth=3, n_estimators=500; total time=   5.9s\n",
      "[CV] END criterion=friedman_mse, learning_rate=0.2, loss=quantile, max_depth=3, n_estimators=500; total time=   5.9s\n",
      "[CV] END criterion=squared_error, learning_rate=0.01, loss=quantile, max_depth=3, n_estimators=500; total time=   6.2s\n",
      "[CV] END criterion=friedman_mse, learning_rate=0.3, loss=huber, max_depth=5, n_estimators=700; total time=  18.0s\n",
      "[CV] END criterion=friedman_mse, learning_rate=0.5, loss=quantile, max_depth=12, n_estimators=700; total time=  30.7s\n",
      "[CV] END criterion=squared_error, learning_rate=0.01, loss=quantile, max_depth=9, n_estimators=500; total time=  29.7s\n",
      "[CV] END criterion=friedman_mse, learning_rate=0.3, loss=huber, max_depth=7, n_estimators=500; total time=  21.9s\n",
      "[CV] END criterion=friedman_mse, learning_rate=0.4, loss=absolute_error, max_depth=3, n_estimators=500; total time=   6.2s\n",
      "[CV] END criterion=friedman_mse, learning_rate=0.3, loss=squared_error, max_depth=12, n_estimators=200; total time=   4.7s\n",
      "[CV] END criterion=friedman_mse, learning_rate=0.3, loss=squared_error, max_depth=12, n_estimators=200; total time=   4.7s\n",
      "[CV] END criterion=squared_error, learning_rate=0.01, loss=huber, max_depth=3, n_estimators=500; total time=   8.0s\n",
      "[CV] END criterion=squared_error, learning_rate=0.4, loss=huber, max_depth=9, n_estimators=100; total time=   8.3s\n",
      "[CV] END criterion=squared_error, learning_rate=0.4, loss=huber, max_depth=9, n_estimators=100; total time=   9.0s\n",
      "[CV] END criterion=friedman_mse, learning_rate=0.1, loss=squared_error, max_depth=5, n_estimators=500; total time=   5.8s\n",
      "[CV] END criterion=friedman_mse, learning_rate=0.3, loss=huber, max_depth=5, n_estimators=100; total time=   2.5s\n",
      "[CV] END criterion=squared_error, learning_rate=0.3, loss=huber, max_depth=3, n_estimators=100; total time=   1.6s\n",
      "[CV] END criterion=squared_error, learning_rate=0.3, loss=huber, max_depth=3, n_estimators=100; total time=   1.5s\n",
      "[CV] END criterion=friedman_mse, learning_rate=0.3, loss=huber, max_depth=3, n_estimators=1000; total time=  11.2s\n",
      "[CV] END criterion=friedman_mse, learning_rate=0.01, loss=squared_error, max_depth=12, n_estimators=700; total time=   8.5s\n",
      "[CV] END criterion=friedman_mse, learning_rate=0.01, loss=absolute_error, max_depth=9, n_estimators=700; total time=  33.7s\n",
      "[CV] END criterion=friedman_mse, learning_rate=0.3, loss=huber, max_depth=9, n_estimators=500; total time=  24.1s\n",
      "[CV] END criterion=friedman_mse, learning_rate=0.3, loss=absolute_error, max_depth=5, n_estimators=500; total time=   6.0s\n",
      "[CV] END criterion=squared_error, learning_rate=0.5, loss=huber, max_depth=12, n_estimators=500; total time=  50.1s\n",
      "[CV] END criterion=squared_error, learning_rate=0.3, loss=quantile, max_depth=9, n_estimators=1000; total time=  20.9s\n",
      "[CV] END criterion=friedman_mse, learning_rate=0.01, loss=huber, max_depth=3, n_estimators=200; total time=   1.8s\n",
      "[CV] END criterion=friedman_mse, learning_rate=0.4, loss=absolute_error, max_depth=7, n_estimators=700; total time=   8.9s\n",
      "[CV] END criterion=friedman_mse, learning_rate=0.5, loss=absolute_error, max_depth=12, n_estimators=1000; total time= 1.6min\n",
      "[CV] END criterion=squared_error, learning_rate=0.3, loss=absolute_error, max_depth=9, n_estimators=500; total time=  11.7s\n",
      "[CV] END criterion=friedman_mse, learning_rate=0.2, loss=squared_error, max_depth=9, n_estimators=700; total time=   9.7s\n",
      "[CV] END criterion=friedman_mse, learning_rate=0.2, loss=squared_error, max_depth=9, n_estimators=700; total time=  10.0s\n",
      "[CV] END criterion=squared_error, learning_rate=0.2, loss=absolute_error, max_depth=9, n_estimators=1000; total time=  24.1s\n",
      "[CV] END criterion=squared_error, learning_rate=0.4, loss=squared_error, max_depth=9, n_estimators=700; total time=   6.7s\n",
      "[CV] END criterion=squared_error, learning_rate=0.4, loss=squared_error, max_depth=9, n_estimators=700; total time=   7.1s\n",
      "[CV] END criterion=squared_error, learning_rate=0.4, loss=huber, max_depth=12, n_estimators=500; total time= 1.3min\n",
      "[CV] END criterion=friedman_mse, learning_rate=0.1, loss=huber, max_depth=12, n_estimators=1000; total time= 2.6min\n",
      "[CV] END criterion=squared_error, learning_rate=0.3, loss=squared_error, max_depth=5, n_estimators=1000; total time=   9.4s\n",
      "[CV] END criterion=friedman_mse, learning_rate=0.1, loss=squared_error, max_depth=12, n_estimators=700; total time=   8.6s\n"
     ]
    },
    {
     "name": "stdout",
     "output_type": "stream",
     "text": [
      "[CV] END criterion=squared_error, learning_rate=0.5, loss=quantile, max_depth=3, n_estimators=700; total time=   8.4s\n",
      "[CV] END criterion=squared_error, learning_rate=0.2, loss=huber, max_depth=9, n_estimators=100; total time=   8.9s\n",
      "[CV] END criterion=friedman_mse, learning_rate=0.01, loss=huber, max_depth=5, n_estimators=700; total time=  18.5s\n",
      "[CV] END criterion=friedman_mse, learning_rate=0.3, loss=squared_error, max_depth=12, n_estimators=700; total time=  15.2s\n",
      "[CV] END criterion=squared_error, learning_rate=0.3, loss=huber, max_depth=12, n_estimators=1000; total time= 3.1min\n",
      "[CV] END criterion=squared_error, learning_rate=0.2, loss=absolute_error, max_depth=12, n_estimators=1000; total time= 1.5min\n",
      "[CV] END criterion=friedman_mse, learning_rate=0.2, loss=absolute_error, max_depth=9, n_estimators=100; total time=   6.5s\n",
      "[CV] END criterion=friedman_mse, learning_rate=0.1, loss=huber, max_depth=12, n_estimators=100; total time=  26.7s\n",
      "[CV] END criterion=friedman_mse, learning_rate=0.1, loss=huber, max_depth=12, n_estimators=100; total time=  28.0s\n",
      "[CV] END criterion=squared_error, learning_rate=0.1, loss=huber, max_depth=9, n_estimators=100; total time=  10.8s\n",
      "[CV] END criterion=friedman_mse, learning_rate=0.4, loss=squared_error, max_depth=12, n_estimators=700; total time=  15.9s\n",
      "[CV] END criterion=friedman_mse, learning_rate=0.3, loss=quantile, max_depth=5, n_estimators=100; total time=   1.7s\n",
      "[CV] END criterion=squared_error, learning_rate=0.01, loss=squared_error, max_depth=5, n_estimators=1000; total time=  10.6s\n",
      "[CV] END criterion=squared_error, learning_rate=0.01, loss=quantile, max_depth=3, n_estimators=200; total time=   2.4s\n",
      "[CV] END criterion=friedman_mse, learning_rate=0.1, loss=squared_error, max_depth=5, n_estimators=1000; total time=  10.5s\n",
      "[CV] END criterion=friedman_mse, learning_rate=0.1, loss=squared_error, max_depth=5, n_estimators=1000; total time=  10.6s\n",
      "[CV] END criterion=friedman_mse, learning_rate=0.2, loss=quantile, max_depth=3, n_estimators=500; total time=   5.7s\n",
      "[CV] END criterion=squared_error, learning_rate=0.01, loss=quantile, max_depth=3, n_estimators=500; total time=   6.2s\n",
      "[CV] END criterion=friedman_mse, learning_rate=0.5, loss=huber, max_depth=12, n_estimators=100; total time=  20.6s\n",
      "[CV] END criterion=friedman_mse, learning_rate=0.3, loss=quantile, max_depth=9, n_estimators=100; total time=   4.1s\n",
      "[CV] END criterion=friedman_mse, learning_rate=0.3, loss=quantile, max_depth=9, n_estimators=100; total time=   3.9s\n",
      "[CV] END criterion=friedman_mse, learning_rate=0.3, loss=quantile, max_depth=9, n_estimators=100; total time=   3.8s\n",
      "[CV] END criterion=friedman_mse, learning_rate=0.3, loss=quantile, max_depth=9, n_estimators=100; total time=   3.8s\n",
      "[CV] END criterion=squared_error, learning_rate=0.2, loss=quantile, max_depth=9, n_estimators=700; total time=  22.1s\n",
      "[CV] END criterion=squared_error, learning_rate=0.01, loss=quantile, max_depth=9, n_estimators=500; total time=  29.2s\n",
      "[CV] END criterion=friedman_mse, learning_rate=0.5, loss=quantile, max_depth=12, n_estimators=200; total time=  11.3s\n",
      "[CV] END criterion=friedman_mse, learning_rate=0.5, loss=quantile, max_depth=12, n_estimators=200; total time=  10.4s\n",
      "[CV] END criterion=friedman_mse, learning_rate=0.3, loss=squared_error, max_depth=12, n_estimators=200; total time=   4.7s\n",
      "[CV] END criterion=squared_error, learning_rate=0.01, loss=huber, max_depth=3, n_estimators=500; total time=   8.1s\n",
      "[CV] END criterion=squared_error, learning_rate=0.01, loss=huber, max_depth=3, n_estimators=500; total time=   8.3s\n",
      "[CV] END criterion=squared_error, learning_rate=0.4, loss=huber, max_depth=9, n_estimators=100; total time=   8.3s\n",
      "[CV] END criterion=squared_error, learning_rate=0.4, loss=huber, max_depth=9, n_estimators=100; total time=   8.1s\n",
      "[CV] END criterion=squared_error, learning_rate=0.5, loss=squared_error, max_depth=5, n_estimators=700; total time=   7.5s\n",
      "[CV] END criterion=friedman_mse, learning_rate=0.3, loss=huber, max_depth=3, n_estimators=1000; total time=  11.1s\n",
      "[CV] END criterion=friedman_mse, learning_rate=0.01, loss=squared_error, max_depth=12, n_estimators=700; total time=   8.4s\n",
      "[CV] END criterion=friedman_mse, learning_rate=0.2, loss=absolute_error, max_depth=9, n_estimators=700; total time=  13.3s\n",
      "[CV] END criterion=friedman_mse, learning_rate=0.2, loss=absolute_error, max_depth=9, n_estimators=700; total time=  12.8s\n",
      "[CV] END criterion=squared_error, learning_rate=0.1, loss=absolute_error, max_depth=7, n_estimators=500; total time=   7.3s\n",
      "[CV] END criterion=friedman_mse, learning_rate=0.3, loss=huber, max_depth=9, n_estimators=500; total time=  24.1s\n",
      "[CV] END criterion=squared_error, learning_rate=0.3, loss=quantile, max_depth=7, n_estimators=700; total time=   9.6s\n",
      "[CV] END criterion=squared_error, learning_rate=0.5, loss=huber, max_depth=12, n_estimators=500; total time=  45.3s\n",
      "[CV] END criterion=friedman_mse, learning_rate=0.1, loss=huber, max_depth=9, n_estimators=700; total time=  34.7s\n",
      "[CV] END criterion=friedman_mse, learning_rate=0.5, loss=absolute_error, max_depth=12, n_estimators=1000; total time= 1.8min\n",
      "[CV] END criterion=squared_error, learning_rate=0.5, loss=huber, max_depth=7, n_estimators=700; total time=  24.1s\n",
      "[CV] END criterion=friedman_mse, learning_rate=0.1, loss=squared_error, max_depth=7, n_estimators=700; total time=   8.1s\n",
      "[CV] END criterion=friedman_mse, learning_rate=0.5, loss=absolute_error, max_depth=12, n_estimators=700; total time= 1.2min\n",
      "[CV] END criterion=squared_error, learning_rate=0.4, loss=huber, max_depth=12, n_estimators=500; total time= 1.3min\n",
      "[CV] END criterion=friedman_mse, learning_rate=0.5, loss=squared_error, max_depth=7, n_estimators=700; total time=   9.1s\n",
      "[CV] END criterion=friedman_mse, learning_rate=0.5, loss=squared_error, max_depth=7, n_estimators=700; total time=   8.6s\n",
      "[CV] END criterion=friedman_mse, learning_rate=0.4, loss=huber, max_depth=7, n_estimators=200; total time=   8.6s\n",
      "[CV] END criterion=friedman_mse, learning_rate=0.4, loss=huber, max_depth=7, n_estimators=200; total time=   8.7s\n",
      "[CV] END criterion=friedman_mse, learning_rate=0.2, loss=quantile, max_depth=7, n_estimators=200; total time=   4.3s\n",
      "[CV] END criterion=friedman_mse, learning_rate=0.3, loss=quantile, max_depth=5, n_estimators=200; total time=   3.2s\n",
      "[CV] END criterion=friedman_mse, learning_rate=0.3, loss=quantile, max_depth=5, n_estimators=200; total time=   3.0s\n",
      "[CV] END criterion=squared_error, learning_rate=0.4, loss=squared_error, max_depth=5, n_estimators=500; total time=   4.6s\n",
      "[CV] END criterion=squared_error, learning_rate=0.01, loss=huber, max_depth=12, n_estimators=100; total time=  35.8s\n",
      "[CV] END criterion=squared_error, learning_rate=0.01, loss=huber, max_depth=12, n_estimators=100; total time=  34.2s\n",
      "[CV] END criterion=friedman_mse, learning_rate=0.2, loss=quantile, max_depth=9, n_estimators=500; total time=  13.0s\n",
      "[CV] END criterion=friedman_mse, learning_rate=0.1, loss=squared_error, max_depth=12, n_estimators=700; total time=   5.9s\n",
      "[CV] END criterion=squared_error, learning_rate=0.2, loss=huber, max_depth=9, n_estimators=100; total time=   9.0s\n",
      "[CV] END criterion=friedman_mse, learning_rate=0.1, loss=squared_error, max_depth=3, n_estimators=200; total time=   1.3s\n",
      "[CV] END criterion=friedman_mse, learning_rate=0.4, loss=absolute_error, max_depth=7, n_estimators=1000; total time=  21.9s\n",
      "[CV] END criterion=squared_error, learning_rate=0.5, loss=squared_error, max_depth=12, n_estimators=100; total time=   2.5s\n",
      "[CV] END criterion=squared_error, learning_rate=0.5, loss=squared_error, max_depth=12, n_estimators=100; total time=   2.2s\n",
      "[CV] END criterion=friedman_mse, learning_rate=0.3, loss=squared_error, max_depth=12, n_estimators=700; total time=  15.6s\n",
      "[CV] END criterion=friedman_mse, learning_rate=0.4, loss=squared_error, max_depth=7, n_estimators=200; total time=   2.9s\n",
      "[CV] END criterion=friedman_mse, learning_rate=0.4, loss=squared_error, max_depth=7, n_estimators=200; total time=   2.8s\n",
      "[CV] END criterion=squared_error, learning_rate=0.2, loss=huber, max_depth=5, n_estimators=100; total time=   2.6s\n",
      "[CV] END criterion=squared_error, learning_rate=0.2, loss=squared_error, max_depth=12, n_estimators=100; total time=   2.4s\n",
      "[CV] END criterion=squared_error, learning_rate=0.2, loss=squared_error, max_depth=12, n_estimators=100; total time=   2.4s\n",
      "[CV] END criterion=friedman_mse, learning_rate=0.01, loss=absolute_error, max_depth=9, n_estimators=1000; total time= 1.2min\n",
      "[CV] END criterion=friedman_mse, learning_rate=0.01, loss=absolute_error, max_depth=9, n_estimators=1000; total time= 1.2min\n",
      "[CV] END criterion=friedman_mse, learning_rate=0.01, loss=absolute_error, max_depth=12, n_estimators=1000; total time= 2.7min\n",
      "[CV] END criterion=friedman_mse, learning_rate=0.5, loss=squared_error, max_depth=12, n_estimators=700; total time=  15.7s\n",
      "[CV] END criterion=squared_error, learning_rate=0.1, loss=huber, max_depth=9, n_estimators=100; total time=  10.7s\n",
      "[CV] END criterion=squared_error, learning_rate=0.2, loss=absolute_error, max_depth=7, n_estimators=700; total time=  15.6s\n",
      "[CV] END criterion=friedman_mse, learning_rate=0.3, loss=quantile, max_depth=5, n_estimators=100; total time=   2.0s\n",
      "[CV] END criterion=squared_error, learning_rate=0.01, loss=squared_error, max_depth=5, n_estimators=1000; total time=  10.6s\n",
      "[CV] END criterion=squared_error, learning_rate=0.01, loss=quantile, max_depth=3, n_estimators=200; total time=   2.4s\n",
      "[CV] END criterion=friedman_mse, learning_rate=0.3, loss=absolute_error, max_depth=9, n_estimators=1000; total time=  29.3s\n",
      "[CV] END criterion=squared_error, learning_rate=0.01, loss=quantile, max_depth=3, n_estimators=500; total time=   6.2s\n",
      "[CV] END criterion=friedman_mse, learning_rate=0.3, loss=huber, max_depth=5, n_estimators=700; total time=  18.5s\n",
      "[CV] END criterion=friedman_mse, learning_rate=0.5, loss=quantile, max_depth=12, n_estimators=700; total time=  29.6s\n",
      "[CV] END criterion=squared_error, learning_rate=0.01, loss=quantile, max_depth=9, n_estimators=500; total time=  28.3s\n",
      "[CV] END criterion=friedman_mse, learning_rate=0.3, loss=huber, max_depth=7, n_estimators=500; total time=  22.4s\n",
      "[CV] END criterion=friedman_mse, learning_rate=0.4, loss=absolute_error, max_depth=3, n_estimators=500; total time=   6.4s\n",
      "[CV] END criterion=friedman_mse, learning_rate=0.3, loss=squared_error, max_depth=12, n_estimators=200; total time=   4.7s\n",
      "[CV] END criterion=friedman_mse, learning_rate=0.3, loss=squared_error, max_depth=12, n_estimators=200; total time=   4.8s\n",
      "[CV] END criterion=squared_error, learning_rate=0.01, loss=huber, max_depth=3, n_estimators=500; total time=   8.0s\n",
      "[CV] END criterion=squared_error, learning_rate=0.01, loss=huber, max_depth=3, n_estimators=500; total time=   8.5s\n",
      "[CV] END criterion=squared_error, learning_rate=0.4, loss=huber, max_depth=9, n_estimators=100; total time=   7.4s\n",
      "[CV] END criterion=friedman_mse, learning_rate=0.1, loss=squared_error, max_depth=5, n_estimators=500; total time=   5.9s\n",
      "[CV] END criterion=squared_error, learning_rate=0.5, loss=squared_error, max_depth=5, n_estimators=700; total time=   7.5s\n",
      "[CV] END criterion=friedman_mse, learning_rate=0.3, loss=absolute_error, max_depth=9, n_estimators=500; total time=  11.5s\n",
      "[CV] END criterion=friedman_mse, learning_rate=0.01, loss=squared_error, max_depth=12, n_estimators=700; total time=   8.4s\n",
      "[CV] END criterion=friedman_mse, learning_rate=0.2, loss=absolute_error, max_depth=9, n_estimators=700; total time=  13.0s\n",
      "[CV] END criterion=friedman_mse, learning_rate=0.2, loss=absolute_error, max_depth=9, n_estimators=700; total time=  12.1s\n",
      "[CV] END criterion=squared_error, learning_rate=0.1, loss=absolute_error, max_depth=7, n_estimators=500; total time=   7.9s\n",
      "[CV] END criterion=squared_error, learning_rate=0.5, loss=absolute_error, max_depth=7, n_estimators=100; total time=   2.3s\n",
      "[CV] END criterion=friedman_mse, learning_rate=0.1, loss=huber, max_depth=7, n_estimators=700; total time=  16.9s\n",
      "[CV] END criterion=friedman_mse, learning_rate=0.1, loss=huber, max_depth=7, n_estimators=700; total time=  18.8s\n",
      "[CV] END criterion=squared_error, learning_rate=0.5, loss=huber, max_depth=12, n_estimators=500; total time=  49.6s\n",
      "[CV] END criterion=squared_error, learning_rate=0.3, loss=quantile, max_depth=9, n_estimators=1000; total time=  19.3s\n",
      "[CV] END criterion=friedman_mse, learning_rate=0.4, loss=absolute_error, max_depth=7, n_estimators=700; total time=   8.8s\n",
      "[CV] END criterion=friedman_mse, learning_rate=0.4, loss=quantile, max_depth=9, n_estimators=100; total time=   2.2s\n",
      "[CV] END criterion=friedman_mse, learning_rate=0.4, loss=quantile, max_depth=9, n_estimators=100; total time=   2.0s\n",
      "[CV] END criterion=friedman_mse, learning_rate=0.4, loss=quantile, max_depth=9, n_estimators=100; total time=   2.1s\n",
      "[CV] END criterion=friedman_mse, learning_rate=0.4, loss=absolute_error, max_depth=3, n_estimators=100; total time=   0.6s\n",
      "[CV] END criterion=friedman_mse, learning_rate=0.1, loss=absolute_error, max_depth=7, n_estimators=100; total time=   2.1s\n",
      "[CV] END criterion=squared_error, learning_rate=0.5, loss=quantile, max_depth=9, n_estimators=200; total time=   3.2s\n",
      "[CV] END criterion=squared_error, learning_rate=0.5, loss=quantile, max_depth=9, n_estimators=200; total time=   3.2s\n",
      "[CV] END criterion=friedman_mse, learning_rate=0.01, loss=huber, max_depth=3, n_estimators=1000; total time=  13.6s\n",
      "[CV] END criterion=friedman_mse, learning_rate=0.01, loss=huber, max_depth=3, n_estimators=1000; total time=  15.8s\n",
      "[CV] END criterion=friedman_mse, learning_rate=0.01, loss=quantile, max_depth=3, n_estimators=700; total time=   7.4s\n",
      "[CV] END criterion=friedman_mse, learning_rate=0.4, loss=absolute_error, max_depth=5, n_estimators=100; total time=   1.8s\n",
      "[CV] END criterion=friedman_mse, learning_rate=0.4, loss=absolute_error, max_depth=5, n_estimators=100; total time=   2.9s\n",
      "[CV] END criterion=friedman_mse, learning_rate=0.1, loss=quantile, max_depth=5, n_estimators=1000; total time=  15.5s\n",
      "[CV] END criterion=friedman_mse, learning_rate=0.01, loss=huber, max_depth=5, n_estimators=200; total time=   4.4s\n",
      "[CV] END criterion=friedman_mse, learning_rate=0.01, loss=huber, max_depth=5, n_estimators=200; total time=   4.4s\n",
      "[CV] END criterion=friedman_mse, learning_rate=0.01, loss=huber, max_depth=5, n_estimators=200; total time=   4.3s\n",
      "[CV] END criterion=squared_error, learning_rate=0.3, loss=absolute_error, max_depth=9, n_estimators=500; total time=  11.4s\n",
      "[CV] END criterion=squared_error, learning_rate=0.2, loss=huber, max_depth=3, n_estimators=100; total time=   1.2s\n",
      "[CV] END criterion=squared_error, learning_rate=0.2, loss=huber, max_depth=3, n_estimators=100; total time=   1.2s\n",
      "[CV] END criterion=squared_error, learning_rate=0.2, loss=huber, max_depth=3, n_estimators=100; total time=   1.2s\n",
      "[CV] END criterion=squared_error, learning_rate=0.2, loss=huber, max_depth=3, n_estimators=100; total time=   1.2s\n",
      "[CV] END criterion=squared_error, learning_rate=0.5, loss=huber, max_depth=7, n_estimators=700; total time=  21.7s\n",
      "[CV] END criterion=squared_error, learning_rate=0.2, loss=absolute_error, max_depth=9, n_estimators=1000; total time=  22.2s\n",
      "[CV] END criterion=friedman_mse, learning_rate=0.5, loss=absolute_error, max_depth=12, n_estimators=700; total time=  57.3s\n",
      "[CV] END criterion=squared_error, learning_rate=0.4, loss=huber, max_depth=12, n_estimators=500; total time= 1.6min\n",
      "[CV] END criterion=friedman_mse, learning_rate=0.4, loss=huber, max_depth=7, n_estimators=200; total time=   8.5s\n",
      "[CV] END criterion=friedman_mse, learning_rate=0.4, loss=huber, max_depth=7, n_estimators=200; total time=   7.7s\n",
      "[CV] END criterion=friedman_mse, learning_rate=0.2, loss=quantile, max_depth=7, n_estimators=200; total time=   4.4s\n",
      "[CV] END criterion=friedman_mse, learning_rate=0.2, loss=quantile, max_depth=7, n_estimators=200; total time=   5.3s\n",
      "[CV] END criterion=friedman_mse, learning_rate=0.3, loss=quantile, max_depth=5, n_estimators=200; total time=   3.0s\n",
      "[CV] END criterion=squared_error, learning_rate=0.4, loss=squared_error, max_depth=5, n_estimators=500; total time=   4.6s\n",
      "[CV] END criterion=squared_error, learning_rate=0.4, loss=squared_error, max_depth=5, n_estimators=500; total time=   4.5s\n",
      "[CV] END criterion=squared_error, learning_rate=0.01, loss=huber, max_depth=12, n_estimators=100; total time=  36.3s\n",
      "[CV] END criterion=friedman_mse, learning_rate=0.5, loss=absolute_error, max_depth=5, n_estimators=1000; total time=  16.4s\n",
      "[CV] END criterion=friedman_mse, learning_rate=0.5, loss=absolute_error, max_depth=5, n_estimators=1000; total time=  17.7s\n",
      "[CV] END criterion=friedman_mse, learning_rate=0.2, loss=quantile, max_depth=9, n_estimators=500; total time=  11.1s\n",
      "[CV] END criterion=friedman_mse, learning_rate=0.1, loss=squared_error, max_depth=12, n_estimators=700; total time=   5.8s\n"
     ]
    },
    {
     "name": "stdout",
     "output_type": "stream",
     "text": [
      "[CV] END criterion=squared_error, learning_rate=0.5, loss=quantile, max_depth=3, n_estimators=700; total time=   8.4s\n",
      "[CV] END criterion=squared_error, learning_rate=0.2, loss=huber, max_depth=9, n_estimators=100; total time=   8.8s\n",
      "[CV] END criterion=friedman_mse, learning_rate=0.01, loss=huber, max_depth=5, n_estimators=700; total time=  18.6s\n",
      "[CV] END criterion=friedman_mse, learning_rate=0.3, loss=squared_error, max_depth=12, n_estimators=700; total time=  15.3s\n",
      "[CV] END criterion=squared_error, learning_rate=0.3, loss=huber, max_depth=12, n_estimators=1000; total time= 2.4min\n",
      "[CV] END criterion=friedman_mse, learning_rate=0.01, loss=absolute_error, max_depth=12, n_estimators=1000; total time= 2.6min\n",
      "[CV] END criterion=friedman_mse, learning_rate=0.1, loss=huber, max_depth=12, n_estimators=100; total time=  27.8s\n",
      "[CV] END criterion=squared_error, learning_rate=0.1, loss=huber, max_depth=9, n_estimators=100; total time=  10.8s\n",
      "[CV] END criterion=squared_error, learning_rate=0.2, loss=absolute_error, max_depth=7, n_estimators=700; total time=  16.9s\n",
      "[CV] END criterion=friedman_mse, learning_rate=0.4, loss=squared_error, max_depth=12, n_estimators=700; total time=  15.8s\n",
      "[CV] END criterion=friedman_mse, learning_rate=0.3, loss=absolute_error, max_depth=9, n_estimators=1000; total time=  26.1s\n",
      "[CV] END criterion=friedman_mse, learning_rate=0.2, loss=quantile, max_depth=3, n_estimators=500; total time=   6.1s\n",
      "[CV] END criterion=friedman_mse, learning_rate=0.5, loss=huber, max_depth=12, n_estimators=100; total time=  19.9s\n",
      "[CV] END criterion=friedman_mse, learning_rate=0.5, loss=quantile, max_depth=12, n_estimators=700; total time=  29.3s\n",
      "[CV] END criterion=squared_error, learning_rate=0.2, loss=quantile, max_depth=9, n_estimators=700; total time=  28.5s\n",
      "[CV] END criterion=squared_error, learning_rate=0.1, loss=absolute_error, max_depth=3, n_estimators=500; total time=   6.4s\n",
      "[CV] END criterion=friedman_mse, learning_rate=0.5, loss=quantile, max_depth=12, n_estimators=200; total time=  11.1s\n",
      "[CV] END criterion=friedman_mse, learning_rate=0.5, loss=quantile, max_depth=12, n_estimators=200; total time=  11.2s\n",
      "[CV] END criterion=friedman_mse, learning_rate=0.01, loss=huber, max_depth=12, n_estimators=100; total time=  37.9s\n",
      "[CV] END criterion=friedman_mse, learning_rate=0.1, loss=squared_error, max_depth=5, n_estimators=500; total time=   5.9s\n",
      "[CV] END criterion=friedman_mse, learning_rate=0.3, loss=huber, max_depth=5, n_estimators=100; total time=   2.7s\n",
      "[CV] END criterion=friedman_mse, learning_rate=0.3, loss=huber, max_depth=5, n_estimators=100; total time=   2.6s\n",
      "[CV] END criterion=friedman_mse, learning_rate=0.3, loss=absolute_error, max_depth=9, n_estimators=500; total time=  11.7s\n",
      "[CV] END criterion=friedman_mse, learning_rate=0.3, loss=huber, max_depth=3, n_estimators=1000; total time=   8.7s\n",
      "[CV] END criterion=friedman_mse, learning_rate=0.01, loss=absolute_error, max_depth=9, n_estimators=700; total time=  33.4s\n",
      "[CV] END criterion=squared_error, learning_rate=0.5, loss=absolute_error, max_depth=7, n_estimators=100; total time=   2.2s\n",
      "[CV] END criterion=friedman_mse, learning_rate=0.1, loss=huber, max_depth=7, n_estimators=700; total time=  18.9s\n",
      "[CV] END criterion=squared_error, learning_rate=0.5, loss=squared_error, max_depth=9, n_estimators=100; total time=   1.4s\n",
      "[CV] END criterion=squared_error, learning_rate=0.5, loss=squared_error, max_depth=9, n_estimators=100; total time=   1.1s\n",
      "[CV] END criterion=friedman_mse, learning_rate=0.3, loss=absolute_error, max_depth=5, n_estimators=500; total time=   5.7s\n",
      "[CV] END criterion=squared_error, learning_rate=0.3, loss=quantile, max_depth=7, n_estimators=700; total time=   9.0s\n",
      "[CV] END criterion=squared_error, learning_rate=0.5, loss=huber, max_depth=12, n_estimators=500; total time=  42.7s\n",
      "[CV] END criterion=squared_error, learning_rate=0.3, loss=quantile, max_depth=9, n_estimators=1000; total time=  17.8s\n",
      "[CV] END criterion=squared_error, learning_rate=0.3, loss=quantile, max_depth=9, n_estimators=1000; total time=  19.7s\n",
      "[CV] END criterion=friedman_mse, learning_rate=0.4, loss=quantile, max_depth=9, n_estimators=100; total time=   2.0s\n",
      "[CV] END criterion=friedman_mse, learning_rate=0.4, loss=absolute_error, max_depth=3, n_estimators=100; total time=   0.6s\n",
      "[CV] END criterion=friedman_mse, learning_rate=0.4, loss=absolute_error, max_depth=3, n_estimators=100; total time=   0.8s\n",
      "[CV] END criterion=friedman_mse, learning_rate=0.4, loss=absolute_error, max_depth=3, n_estimators=100; total time=   0.6s\n",
      "[CV] END criterion=friedman_mse, learning_rate=0.1, loss=absolute_error, max_depth=7, n_estimators=100; total time=   2.0s\n",
      "[CV] END criterion=friedman_mse, learning_rate=0.1, loss=absolute_error, max_depth=7, n_estimators=100; total time=   2.1s\n",
      "[CV] END criterion=squared_error, learning_rate=0.5, loss=quantile, max_depth=9, n_estimators=200; total time=   3.4s\n",
      "[CV] END criterion=friedman_mse, learning_rate=0.01, loss=huber, max_depth=3, n_estimators=1000; total time=  11.4s\n",
      "[CV] END criterion=friedman_mse, learning_rate=0.01, loss=huber, max_depth=3, n_estimators=1000; total time=  16.9s\n",
      "[CV] END criterion=friedman_mse, learning_rate=0.01, loss=quantile, max_depth=3, n_estimators=700; total time=   7.6s\n",
      "[CV] END criterion=friedman_mse, learning_rate=0.4, loss=absolute_error, max_depth=5, n_estimators=100; total time=   1.7s\n",
      "[CV] END criterion=friedman_mse, learning_rate=0.4, loss=absolute_error, max_depth=5, n_estimators=100; total time=   1.9s\n",
      "[CV] END criterion=friedman_mse, learning_rate=0.4, loss=absolute_error, max_depth=5, n_estimators=100; total time=   2.3s\n",
      "[CV] END criterion=friedman_mse, learning_rate=0.1, loss=quantile, max_depth=5, n_estimators=1000; total time=  14.1s\n",
      "[CV] END criterion=friedman_mse, learning_rate=0.1, loss=quantile, max_depth=5, n_estimators=1000; total time=  14.5s\n",
      "[CV] END criterion=friedman_mse, learning_rate=0.01, loss=huber, max_depth=5, n_estimators=200; total time=   4.3s\n",
      "[CV] END criterion=squared_error, learning_rate=0.3, loss=absolute_error, max_depth=9, n_estimators=500; total time=  12.3s\n",
      "[CV] END criterion=squared_error, learning_rate=0.5, loss=huber, max_depth=7, n_estimators=700; total time=  24.6s\n",
      "[CV] END criterion=squared_error, learning_rate=0.2, loss=absolute_error, max_depth=9, n_estimators=1000; total time=  27.2s\n",
      "[CV] END criterion=squared_error, learning_rate=0.4, loss=squared_error, max_depth=9, n_estimators=700; total time=   7.0s\n",
      "[CV] END criterion=squared_error, learning_rate=0.4, loss=squared_error, max_depth=9, n_estimators=700; total time=   6.4s\n",
      "[CV] END criterion=squared_error, learning_rate=0.4, loss=huber, max_depth=12, n_estimators=500; total time=  50.5s\n",
      "[CV] END criterion=friedman_mse, learning_rate=0.1, loss=huber, max_depth=12, n_estimators=1000; total time= 2.9min\n",
      "[CV] END criterion=friedman_mse, learning_rate=0.5, loss=absolute_error, max_depth=5, n_estimators=1000; total time=  17.3s\n",
      "[CV] END criterion=friedman_mse, learning_rate=0.2, loss=quantile, max_depth=9, n_estimators=500; total time=  12.2s\n",
      "[CV] END criterion=friedman_mse, learning_rate=0.1, loss=squared_error, max_depth=12, n_estimators=700; total time=   5.7s\n"
     ]
    }
   ],
   "source": [
    "r2_score(y_test,y_pred)"
   ]
  },
  {
   "cell_type": "code",
   "execution_count": 75,
   "id": "6d25ac02",
   "metadata": {},
   "outputs": [],
   "source": [
    "from sklearn.model_selection import RandomizedSearchCV"
   ]
  },
  {
   "cell_type": "code",
   "execution_count": 76,
   "id": "b2261d01",
   "metadata": {},
   "outputs": [],
   "source": [
    "\n",
    "# Define the model\n",
    "model = GradientBoostingRegressor()\n",
    "\n",
    "# Define the hyperparameters to tune\n",
    "hyperparameters = {'n_estimators': [100,200,500,700,1000],\n",
    "                   'loss':['squared_error', 'absolute_error', 'huber', 'quantile'],\n",
    "                   'max_depth': [3, 5, 7,9,12],\n",
    "                   'learning_rate': [0.01, 0.1,0.2,0.3,0.4 ,0.5],\n",
    "                    'criterion':['friedman_mse', 'squared_error']}\n",
    "\n",
    "# Tune the model using GridSearchCV\n",
    "#grid = GridSearchCV(model,, hyperparameters, cv=5)\n",
    "# Random search of parameters, using 5 fold cross validation, \n",
    "# search across 100 different combinations  \n",
    "\n",
    "#n_iter = 100, cv = 10 ,u can\n",
    "grid_after_cv= RandomizedSearchCV(estimator = model, param_distributions = hyperparameters,scoring='neg_mean_squared_error', \n",
    "                               n_iter = 100, cv = 5, verbose=2, random_state=42, n_jobs = -1)\n",
    "\n",
    "\n",
    "\n"
   ]
  },
  {
   "cell_type": "raw",
   "id": "0ade2f99",
   "metadata": {},
   "source": []
  },
  {
   "cell_type": "code",
   "execution_count": 77,
   "id": "65acbcc8",
   "metadata": {},
   "outputs": [
    {
     "name": "stdout",
     "output_type": "stream",
     "text": [
      "Fitting 5 folds for each of 100 candidates, totalling 500 fits\n"
     ]
    },
    {
     "data": {
      "text/html": [
       "<style>#sk-container-id-4 {color: black;background-color: white;}#sk-container-id-4 pre{padding: 0;}#sk-container-id-4 div.sk-toggleable {background-color: white;}#sk-container-id-4 label.sk-toggleable__label {cursor: pointer;display: block;width: 100%;margin-bottom: 0;padding: 0.3em;box-sizing: border-box;text-align: center;}#sk-container-id-4 label.sk-toggleable__label-arrow:before {content: \"▸\";float: left;margin-right: 0.25em;color: #696969;}#sk-container-id-4 label.sk-toggleable__label-arrow:hover:before {color: black;}#sk-container-id-4 div.sk-estimator:hover label.sk-toggleable__label-arrow:before {color: black;}#sk-container-id-4 div.sk-toggleable__content {max-height: 0;max-width: 0;overflow: hidden;text-align: left;background-color: #f0f8ff;}#sk-container-id-4 div.sk-toggleable__content pre {margin: 0.2em;color: black;border-radius: 0.25em;background-color: #f0f8ff;}#sk-container-id-4 input.sk-toggleable__control:checked~div.sk-toggleable__content {max-height: 200px;max-width: 100%;overflow: auto;}#sk-container-id-4 input.sk-toggleable__control:checked~label.sk-toggleable__label-arrow:before {content: \"▾\";}#sk-container-id-4 div.sk-estimator input.sk-toggleable__control:checked~label.sk-toggleable__label {background-color: #d4ebff;}#sk-container-id-4 div.sk-label input.sk-toggleable__control:checked~label.sk-toggleable__label {background-color: #d4ebff;}#sk-container-id-4 input.sk-hidden--visually {border: 0;clip: rect(1px 1px 1px 1px);clip: rect(1px, 1px, 1px, 1px);height: 1px;margin: -1px;overflow: hidden;padding: 0;position: absolute;width: 1px;}#sk-container-id-4 div.sk-estimator {font-family: monospace;background-color: #f0f8ff;border: 1px dotted black;border-radius: 0.25em;box-sizing: border-box;margin-bottom: 0.5em;}#sk-container-id-4 div.sk-estimator:hover {background-color: #d4ebff;}#sk-container-id-4 div.sk-parallel-item::after {content: \"\";width: 100%;border-bottom: 1px solid gray;flex-grow: 1;}#sk-container-id-4 div.sk-label:hover label.sk-toggleable__label {background-color: #d4ebff;}#sk-container-id-4 div.sk-serial::before {content: \"\";position: absolute;border-left: 1px solid gray;box-sizing: border-box;top: 0;bottom: 0;left: 50%;z-index: 0;}#sk-container-id-4 div.sk-serial {display: flex;flex-direction: column;align-items: center;background-color: white;padding-right: 0.2em;padding-left: 0.2em;position: relative;}#sk-container-id-4 div.sk-item {position: relative;z-index: 1;}#sk-container-id-4 div.sk-parallel {display: flex;align-items: stretch;justify-content: center;background-color: white;position: relative;}#sk-container-id-4 div.sk-item::before, #sk-container-id-4 div.sk-parallel-item::before {content: \"\";position: absolute;border-left: 1px solid gray;box-sizing: border-box;top: 0;bottom: 0;left: 50%;z-index: -1;}#sk-container-id-4 div.sk-parallel-item {display: flex;flex-direction: column;z-index: 1;position: relative;background-color: white;}#sk-container-id-4 div.sk-parallel-item:first-child::after {align-self: flex-end;width: 50%;}#sk-container-id-4 div.sk-parallel-item:last-child::after {align-self: flex-start;width: 50%;}#sk-container-id-4 div.sk-parallel-item:only-child::after {width: 0;}#sk-container-id-4 div.sk-dashed-wrapped {border: 1px dashed gray;margin: 0 0.4em 0.5em 0.4em;box-sizing: border-box;padding-bottom: 0.4em;background-color: white;}#sk-container-id-4 div.sk-label label {font-family: monospace;font-weight: bold;display: inline-block;line-height: 1.2em;}#sk-container-id-4 div.sk-label-container {text-align: center;}#sk-container-id-4 div.sk-container {/* jupyter's `normalize.less` sets `[hidden] { display: none; }` but bootstrap.min.css set `[hidden] { display: none !important; }` so we also need the `!important` here to be able to override the default hidden behavior on the sphinx rendered scikit-learn.org. See: https://github.com/scikit-learn/scikit-learn/issues/21755 */display: inline-block !important;position: relative;}#sk-container-id-4 div.sk-text-repr-fallback {display: none;}</style><div id=\"sk-container-id-4\" class=\"sk-top-container\"><div class=\"sk-text-repr-fallback\"><pre>RandomizedSearchCV(cv=5, estimator=GradientBoostingRegressor(), n_iter=100,\n",
       "                   n_jobs=-1,\n",
       "                   param_distributions={&#x27;criterion&#x27;: [&#x27;friedman_mse&#x27;,\n",
       "                                                      &#x27;squared_error&#x27;],\n",
       "                                        &#x27;learning_rate&#x27;: [0.01, 0.1, 0.2, 0.3,\n",
       "                                                          0.4, 0.5],\n",
       "                                        &#x27;loss&#x27;: [&#x27;squared_error&#x27;,\n",
       "                                                 &#x27;absolute_error&#x27;, &#x27;huber&#x27;,\n",
       "                                                 &#x27;quantile&#x27;],\n",
       "                                        &#x27;max_depth&#x27;: [3, 5, 7, 9, 12],\n",
       "                                        &#x27;n_estimators&#x27;: [100, 200, 500, 700,\n",
       "                                                         1000]},\n",
       "                   random_state=42, scoring=&#x27;neg_mean_squared_error&#x27;,\n",
       "                   verbose=2)</pre><b>In a Jupyter environment, please rerun this cell to show the HTML representation or trust the notebook. <br />On GitHub, the HTML representation is unable to render, please try loading this page with nbviewer.org.</b></div><div class=\"sk-container\" hidden><div class=\"sk-item sk-dashed-wrapped\"><div class=\"sk-label-container\"><div class=\"sk-label sk-toggleable\"><input class=\"sk-toggleable__control sk-hidden--visually\" id=\"sk-estimator-id-4\" type=\"checkbox\" ><label for=\"sk-estimator-id-4\" class=\"sk-toggleable__label sk-toggleable__label-arrow\">RandomizedSearchCV</label><div class=\"sk-toggleable__content\"><pre>RandomizedSearchCV(cv=5, estimator=GradientBoostingRegressor(), n_iter=100,\n",
       "                   n_jobs=-1,\n",
       "                   param_distributions={&#x27;criterion&#x27;: [&#x27;friedman_mse&#x27;,\n",
       "                                                      &#x27;squared_error&#x27;],\n",
       "                                        &#x27;learning_rate&#x27;: [0.01, 0.1, 0.2, 0.3,\n",
       "                                                          0.4, 0.5],\n",
       "                                        &#x27;loss&#x27;: [&#x27;squared_error&#x27;,\n",
       "                                                 &#x27;absolute_error&#x27;, &#x27;huber&#x27;,\n",
       "                                                 &#x27;quantile&#x27;],\n",
       "                                        &#x27;max_depth&#x27;: [3, 5, 7, 9, 12],\n",
       "                                        &#x27;n_estimators&#x27;: [100, 200, 500, 700,\n",
       "                                                         1000]},\n",
       "                   random_state=42, scoring=&#x27;neg_mean_squared_error&#x27;,\n",
       "                   verbose=2)</pre></div></div></div><div class=\"sk-parallel\"><div class=\"sk-parallel-item\"><div class=\"sk-item\"><div class=\"sk-label-container\"><div class=\"sk-label sk-toggleable\"><input class=\"sk-toggleable__control sk-hidden--visually\" id=\"sk-estimator-id-5\" type=\"checkbox\" ><label for=\"sk-estimator-id-5\" class=\"sk-toggleable__label sk-toggleable__label-arrow\">estimator: GradientBoostingRegressor</label><div class=\"sk-toggleable__content\"><pre>GradientBoostingRegressor()</pre></div></div></div><div class=\"sk-serial\"><div class=\"sk-item\"><div class=\"sk-estimator sk-toggleable\"><input class=\"sk-toggleable__control sk-hidden--visually\" id=\"sk-estimator-id-6\" type=\"checkbox\" ><label for=\"sk-estimator-id-6\" class=\"sk-toggleable__label sk-toggleable__label-arrow\">GradientBoostingRegressor</label><div class=\"sk-toggleable__content\"><pre>GradientBoostingRegressor()</pre></div></div></div></div></div></div></div></div></div></div>"
      ],
      "text/plain": [
       "RandomizedSearchCV(cv=5, estimator=GradientBoostingRegressor(), n_iter=100,\n",
       "                   n_jobs=-1,\n",
       "                   param_distributions={'criterion': ['friedman_mse',\n",
       "                                                      'squared_error'],\n",
       "                                        'learning_rate': [0.01, 0.1, 0.2, 0.3,\n",
       "                                                          0.4, 0.5],\n",
       "                                        'loss': ['squared_error',\n",
       "                                                 'absolute_error', 'huber',\n",
       "                                                 'quantile'],\n",
       "                                        'max_depth': [3, 5, 7, 9, 12],\n",
       "                                        'n_estimators': [100, 200, 500, 700,\n",
       "                                                         1000]},\n",
       "                   random_state=42, scoring='neg_mean_squared_error',\n",
       "                   verbose=2)"
      ]
     },
     "execution_count": 77,
     "metadata": {},
     "output_type": "execute_result"
    }
   ],
   "source": [
    "grid_after_cv.fit(X_train,y_train)"
   ]
  },
  {
   "cell_type": "code",
   "execution_count": 78,
   "id": "1d08e9ab",
   "metadata": {},
   "outputs": [
    {
     "data": {
      "text/plain": [
       "{'n_estimators': 1000,\n",
       " 'max_depth': 3,\n",
       " 'loss': 'huber',\n",
       " 'learning_rate': 0.01,\n",
       " 'criterion': 'friedman_mse'}"
      ]
     },
     "execution_count": 78,
     "metadata": {},
     "output_type": "execute_result"
    }
   ],
   "source": [
    "grid_after_cv.best_params_\n",
    "\"\"\"'n_estimators': 1000,\n",
    " 'max_depth': 3,\n",
    " 'loss': 'huber',\n",
    " 'learning_rate': 0.01,\n",
    " 'criterion': 'friedman_mse'}\"\"\""
   ]
  },
  {
   "cell_type": "code",
   "execution_count": 79,
   "id": "9e5ed270",
   "metadata": {},
   "outputs": [],
   "source": [
    "Ypred_cv=grid_after_cv.predict(X_test)"
   ]
  },
  {
   "cell_type": "code",
   "execution_count": 80,
   "id": "971af311",
   "metadata": {},
   "outputs": [
    {
     "data": {
      "text/plain": [
       "0.9309599149189861"
      ]
     },
     "execution_count": 80,
     "metadata": {},
     "output_type": "execute_result"
    }
   ],
   "source": [
    "r2_score(y_test,Ypred_cv)"
   ]
  },
  {
   "cell_type": "code",
   "execution_count": 81,
   "id": "02f2f6f3",
   "metadata": {},
   "outputs": [
    {
     "name": "stdout",
     "output_type": "stream",
     "text": [
      "MAE: 2.0671882219736135\n",
      "MSE: 11.075361839086527\n",
      "RMSE: 3.3279666222915347\n"
     ]
    }
   ],
   "source": [
    "from sklearn import metrics\n",
    "print('MAE:', metrics.mean_absolute_error(y_test, Ypred_cv))\n",
    "print('MSE:', metrics.mean_squared_error(y_test, Ypred_cv))\n",
    "print('RMSE:', np.sqrt(metrics.mean_squared_error(y_test,Ypred_cv)))"
   ]
  },
  {
   "cell_type": "code",
   "execution_count": null,
   "id": "af59b200",
   "metadata": {},
   "outputs": [],
   "source": []
  },
  {
   "cell_type": "code",
   "execution_count": null,
   "id": "02062a05",
   "metadata": {},
   "outputs": [],
   "source": []
  },
  {
   "cell_type": "markdown",
   "id": "4c98fbb4",
   "metadata": {},
   "source": [
    "# ARIMA model"
   ]
  },
  {
   "cell_type": "code",
   "execution_count": 67,
   "id": "1aa00b7a",
   "metadata": {},
   "outputs": [
    {
     "data": {
      "text/html": [
       "<div>\n",
       "<style scoped>\n",
       "    .dataframe tbody tr th:only-of-type {\n",
       "        vertical-align: middle;\n",
       "    }\n",
       "\n",
       "    .dataframe tbody tr th {\n",
       "        vertical-align: top;\n",
       "    }\n",
       "\n",
       "    .dataframe thead th {\n",
       "        text-align: right;\n",
       "    }\n",
       "</style>\n",
       "<table border=\"1\" class=\"dataframe\">\n",
       "  <thead>\n",
       "    <tr style=\"text-align: right;\">\n",
       "      <th></th>\n",
       "      <th>precip</th>\n",
       "      <th>temp_max</th>\n",
       "      <th>temp_min</th>\n",
       "      <th>target</th>\n",
       "    </tr>\n",
       "    <tr>\n",
       "      <th>DATE</th>\n",
       "      <th></th>\n",
       "      <th></th>\n",
       "      <th></th>\n",
       "      <th></th>\n",
       "    </tr>\n",
       "  </thead>\n",
       "  <tbody>\n",
       "    <tr>\n",
       "      <th>1975-03-20</th>\n",
       "      <td>0.0</td>\n",
       "      <td>86.0</td>\n",
       "      <td>57.0</td>\n",
       "      <td>86.0</td>\n",
       "    </tr>\n",
       "    <tr>\n",
       "      <th>1975-03-24</th>\n",
       "      <td>0.0</td>\n",
       "      <td>86.0</td>\n",
       "      <td>55.0</td>\n",
       "      <td>86.0</td>\n",
       "    </tr>\n",
       "    <tr>\n",
       "      <th>1975-04-06</th>\n",
       "      <td>0.0</td>\n",
       "      <td>86.0</td>\n",
       "      <td>72.0</td>\n",
       "      <td>86.0</td>\n",
       "    </tr>\n",
       "    <tr>\n",
       "      <th>1975-04-08</th>\n",
       "      <td>0.0</td>\n",
       "      <td>86.0</td>\n",
       "      <td>72.0</td>\n",
       "      <td>86.0</td>\n",
       "    </tr>\n",
       "    <tr>\n",
       "      <th>1975-04-09</th>\n",
       "      <td>0.0</td>\n",
       "      <td>86.0</td>\n",
       "      <td>59.0</td>\n",
       "      <td>95.0</td>\n",
       "    </tr>\n",
       "  </tbody>\n",
       "</table>\n",
       "</div>"
      ],
      "text/plain": [
       "            precip  temp_max  temp_min  target\n",
       "DATE                                          \n",
       "1975-03-20     0.0      86.0      57.0    86.0\n",
       "1975-03-24     0.0      86.0      55.0    86.0\n",
       "1975-04-06     0.0      86.0      72.0    86.0\n",
       "1975-04-08     0.0      86.0      72.0    86.0\n",
       "1975-04-09     0.0      86.0      59.0    95.0"
      ]
     },
     "execution_count": 67,
     "metadata": {},
     "output_type": "execute_result"
    }
   ],
   "source": [
    "core_weather.head()"
   ]
  },
  {
   "cell_type": "code",
   "execution_count": 68,
   "id": "5b261d61",
   "metadata": {},
   "outputs": [],
   "source": [
    "#arima can only be applicable to stationary data"
   ]
  },
  {
   "cell_type": "code",
   "execution_count": 69,
   "id": "9c743160",
   "metadata": {},
   "outputs": [
    {
     "name": "stdout",
     "output_type": "stream",
     "text": [
      "the horizontal distribution indicates it is stationary time series\n"
     ]
    },
    {
     "data": {
      "image/png": "[encoded data removed]",
      "text/plain": [
       "<Figure size 640x480 with 1 Axes>"
      ]
     },
     "metadata": {},
     "output_type": "display_data"
    }
   ],
   "source": [
    "#Data is stationary \n",
    "import matplotlib.pyplot as plt\n",
    "plt.plot(core_weather.target)\n",
    "print(\"the horizontal distribution indicates it is stationary time series\")"
   ]
  },
  {
   "cell_type": "code",
   "execution_count": 70,
   "id": "4089d535",
   "metadata": {},
   "outputs": [
    {
     "name": "stdout",
     "output_type": "stream",
     "text": [
      "DATE\n",
      "2023-08-06    94.0\n",
      "2023-08-07    95.0\n",
      "2023-08-08    96.0\n",
      "2023-08-09    96.0\n",
      "2023-08-10    97.0\n",
      "2023-08-11    97.0\n",
      "2023-08-12    96.0\n",
      "2023-08-13    95.0\n",
      "2023-08-14    97.0\n",
      "2023-08-15    98.0\n",
      "Name: target, dtype: float64\n"
     ]
    }
   ],
   "source": [
    "y=core_weather[\"target\"].tail(10)\n",
    "print(y)"
   ]
  },
  {
   "cell_type": "code",
   "execution_count": null,
   "id": "0da358ca",
   "metadata": {},
   "outputs": [],
   "source": []
  },
  {
   "cell_type": "code",
   "execution_count": 71,
   "id": "812b893d",
   "metadata": {},
   "outputs": [],
   "source": [
    "\n",
    "#here we are forecasting the next 7 days max temperature"
   ]
  },
  {
   "cell_type": "code",
   "execution_count": 72,
   "id": "11f5f374",
   "metadata": {},
   "outputs": [
    {
     "name": "stderr",
     "output_type": "stream",
     "text": [
      "/Users/atanumondal/opt/anaconda3/lib/python3.9/site-packages/statsmodels/tsa/base/tsa_model.py:471: ValueWarning: No frequency information was provided, so inferred frequency D will be used.\n",
      "  self._init_dates(dates, freq)\n",
      "/Users/atanumondal/opt/anaconda3/lib/python3.9/site-packages/statsmodels/tsa/base/tsa_model.py:471: ValueWarning: No frequency information was provided, so inferred frequency D will be used.\n",
      "  self._init_dates(dates, freq)\n",
      "/Users/atanumondal/opt/anaconda3/lib/python3.9/site-packages/statsmodels/tsa/base/tsa_model.py:471: ValueWarning: No frequency information was provided, so inferred frequency D will be used.\n",
      "  self._init_dates(dates, freq)\n"
     ]
    },
    {
     "name": "stdout",
     "output_type": "stream",
     "text": [
      "2023-08-16    97.264871\n",
      "2023-08-17    96.200146\n",
      "2023-08-18    96.833450\n",
      "2023-08-19    96.863090\n",
      "2023-08-20    96.259736\n",
      "2023-08-21    96.179650\n",
      "2023-08-22    97.183858\n",
      "2023-08-23    97.302425\n",
      "Freq: D, Name: predicted_mean, dtype: float64\n"
     ]
    }
   ],
   "source": [
    "\n",
    "from statsmodels.tsa.arima.model import ARIMA\n",
    "# Define the ARIMA model\n",
    "model = ARIMA(y, order=(5,1,0))\n",
    "\n",
    "# Fit the model\n",
    "model_fit = model.fit()\n",
    "\n",
    "# Make a prediction\n",
    "prediction = model_fit.predict(start=len(y), end=len(y)+7)\n",
    "\n",
    "print(prediction)\n"
   ]
  },
  {
   "cell_type": "code",
   "execution_count": null,
   "id": "d27f0845",
   "metadata": {},
   "outputs": [],
   "source": []
  },
  {
   "cell_type": "code",
   "execution_count": null,
   "id": "9d3c17cf",
   "metadata": {},
   "outputs": [],
   "source": []
  },
  {
   "cell_type": "code",
   "execution_count": null,
   "id": "23af1277",
   "metadata": {},
   "outputs": [],
   "source": []
  },
  {
   "cell_type": "code",
   "execution_count": null,
   "id": "5fb5cfca",
   "metadata": {},
   "outputs": [],
   "source": []
  },
  {
   "cell_type": "code",
   "execution_count": null,
   "id": "a2f2085b",
   "metadata": {},
   "outputs": [],
   "source": []
  },
  {
   "cell_type": "code",
   "execution_count": null,
   "id": "149d8d4d",
   "metadata": {},
   "outputs": [],
   "source": []
  },
  {
   "cell_type": "code",
   "execution_count": null,
   "id": "6934fed4",
   "metadata": {},
   "outputs": [],
   "source": []
  },
  {
   "cell_type": "code",
   "execution_count": null,
   "id": "067eae8f",
   "metadata": {},
   "outputs": [],
   "source": []
  },
  {
   "cell_type": "code",
   "execution_count": null,
   "id": "20e61e04",
   "metadata": {},
   "outputs": [],
   "source": []
  },
  {
   "cell_type": "code",
   "execution_count": null,
   "id": "de8fa9ad",
   "metadata": {},
   "outputs": [],
   "source": []
  },
  {
   "cell_type": "code",
   "execution_count": null,
   "id": "a190fd07",
   "metadata": {},
   "outputs": [],
   "source": []
  },
  {
   "cell_type": "code",
   "execution_count": null,
   "id": "5f8a7e1a",
   "metadata": {},
   "outputs": [],
   "source": []
  },
  {
   "cell_type": "code",
   "execution_count": null,
   "id": "f14f541c",
   "metadata": {},
   "outputs": [],
   "source": []
  },
  {
   "cell_type": "code",
   "execution_count": null,
   "id": "0868cf7f",
   "metadata": {},
   "outputs": [],
   "source": []
  },
  {
   "cell_type": "code",
   "execution_count": null,
   "id": "a739f9fc",
   "metadata": {},
   "outputs": [],
   "source": []
  },
  {
   "cell_type": "code",
   "execution_count": null,
   "id": "1b9b4b97",
   "metadata": {},
   "outputs": [],
   "source": []
  },
  {
   "cell_type": "code",
   "execution_count": null,
   "id": "e9669e45",
   "metadata": {},
   "outputs": [],
   "source": []
  },
  {
   "cell_type": "code",
   "execution_count": null,
   "id": "99ea16e1",
   "metadata": {},
   "outputs": [],
   "source": []
  }
 ],
 "metadata": {
  "colab": {
   "provenance": []
  },
  "kernelspec": {
   "display_name": "Python 3 (ipykernel)",
   "language": "python",
   "name": "python3"
  },
  "language_info": {
   "codemirror_mode": {
    "name": "ipython",
    "version": 3
   },
   "file_extension": ".py",
   "mimetype": "text/x-python",
   "name": "python",
   "nbconvert_exporter": "python",
   "pygments_lexer": "ipython3",
   "version": "3.9.13"
  }
 },
 "nbformat": 4,
 "nbformat_minor": 5
}
